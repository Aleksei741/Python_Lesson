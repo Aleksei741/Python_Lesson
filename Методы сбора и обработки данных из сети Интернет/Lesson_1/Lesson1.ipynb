{
 "cells": [
  {
   "cell_type": "markdown",
   "metadata": {},
   "source": [
    "1. Посмотреть документацию к API GitHub, разобраться как вывести список репозиториев для конкретного пользователя, сохранить JSON-вывод в файле *.json."
   ]
  },
  {
   "cell_type": "code",
   "execution_count": 1,
   "metadata": {},
   "outputs": [],
   "source": [
    "import requests\n",
    "import json"
   ]
  },
  {
   "cell_type": "code",
   "execution_count": 2,
   "metadata": {},
   "outputs": [],
   "source": [
    "user = 'TerryCavanagh'"
   ]
  },
  {
   "cell_type": "code",
   "execution_count": 3,
   "metadata": {},
   "outputs": [
    {
     "name": "stdout",
     "output_type": "stream",
     "text": [
      "Название проекта: ANE-Silent-Switch\n",
      "Ссылка github: https://github.com/TerryCavanagh/ANE-Silent-Switch\n",
      "Ссылка git: git://github.com/TerryCavanagh/ANE-Silent-Switch.git\n",
      "\n",
      "Название проекта: away3d-core-openfl\n",
      "Ссылка github: https://github.com/TerryCavanagh/away3d-core-openfl\n",
      "Ссылка git: git://github.com/TerryCavanagh/away3d-core-openfl.git\n",
      "\n",
      "Название проекта: away3d-samples\n",
      "Ссылка github: https://github.com/TerryCavanagh/away3d-samples\n",
      "Ссылка git: git://github.com/TerryCavanagh/away3d-samples.git\n",
      "\n",
      "Название проекта: boscaceoil\n",
      "Ссылка github: https://github.com/TerryCavanagh/boscaceoil\n",
      "Ссылка git: git://github.com/TerryCavanagh/boscaceoil.git\n",
      "\n",
      "Название проекта: boscaceoil-online\n",
      "Ссылка github: https://github.com/TerryCavanagh/boscaceoil-online\n",
      "Ссылка git: git://github.com/TerryCavanagh/boscaceoil-online.git\n",
      "\n",
      "Название проекта: Copycat\n",
      "Ссылка github: https://github.com/TerryCavanagh/Copycat\n",
      "Ссылка git: git://github.com/TerryCavanagh/Copycat.git\n",
      "\n",
      "Название проекта: diceydungeons.com\n",
      "Ссылка github: https://github.com/TerryCavanagh/diceydungeons.com\n",
      "Ссылка git: git://github.com/TerryCavanagh/diceydungeons.com.git\n",
      "\n",
      "Название проекта: diceydungeonsbeta\n",
      "Ссылка github: https://github.com/TerryCavanagh/diceydungeonsbeta\n",
      "Ссылка git: git://github.com/TerryCavanagh/diceydungeonsbeta.git\n",
      "\n",
      "Название проекта: diceymodgeons\n",
      "Ссылка github: https://github.com/TerryCavanagh/diceymodgeons\n",
      "Ссылка git: git://github.com/TerryCavanagh/diceymodgeons.git\n",
      "\n",
      "Название проекта: elizascript\n",
      "Ссылка github: https://github.com/TerryCavanagh/elizascript\n",
      "Ссылка git: git://github.com/TerryCavanagh/elizascript.git\n",
      "\n",
      "Название проекта: grabthembytheeyes\n",
      "Ссылка github: https://github.com/TerryCavanagh/grabthembytheeyes\n",
      "Ссылка git: git://github.com/TerryCavanagh/grabthembytheeyes.git\n",
      "\n",
      "Название проекта: jekyll-asset-path-plugin\n",
      "Ссылка github: https://github.com/TerryCavanagh/jekyll-asset-path-plugin\n",
      "Ссылка git: git://github.com/TerryCavanagh/jekyll-asset-path-plugin.git\n",
      "\n",
      "Название проекта: kong.hx\n",
      "Ссылка github: https://github.com/TerryCavanagh/kong.hx\n",
      "Ссылка git: git://github.com/TerryCavanagh/kong.hx.git\n",
      "\n",
      "Название проекта: lovr\n",
      "Ссылка github: https://github.com/TerryCavanagh/lovr\n",
      "Ссылка git: git://github.com/TerryCavanagh/lovr.git\n",
      "\n",
      "Название проекта: lovr-oculus-mobile\n",
      "Ссылка github: https://github.com/TerryCavanagh/lovr-oculus-mobile\n",
      "Ссылка git: git://github.com/TerryCavanagh/lovr-oculus-mobile.git\n",
      "\n",
      "Название проекта: openfl\n",
      "Ссылка github: https://github.com/TerryCavanagh/openfl\n",
      "Ссылка git: git://github.com/TerryCavanagh/openfl.git\n",
      "\n",
      "Название проекта: polymod\n",
      "Ссылка github: https://github.com/TerryCavanagh/polymod\n",
      "Ссылка git: git://github.com/TerryCavanagh/polymod.git\n",
      "\n",
      "Название проекта: SchneeSpiel\n",
      "Ссылка github: https://github.com/TerryCavanagh/SchneeSpiel\n",
      "Ссылка git: git://github.com/TerryCavanagh/SchneeSpiel.git\n",
      "\n",
      "Название проекта: starling\n",
      "Ссылка github: https://github.com/TerryCavanagh/starling\n",
      "Ссылка git: git://github.com/TerryCavanagh/starling.git\n",
      "\n",
      "Название проекта: techwillsaveus-arduino-raycaster\n",
      "Ссылка github: https://github.com/TerryCavanagh/techwillsaveus-arduino-raycaster\n",
      "Ссылка git: git://github.com/TerryCavanagh/techwillsaveus-arduino-raycaster.git\n",
      "\n",
      "Название проекта: terrycompile\n",
      "Ссылка github: https://github.com/TerryCavanagh/terrycompile\n",
      "Ссылка git: git://github.com/TerryCavanagh/terrycompile.git\n",
      "\n",
      "Название проекта: terrymap\n",
      "Ссылка github: https://github.com/TerryCavanagh/terrymap\n",
      "Ссылка git: git://github.com/TerryCavanagh/terrymap.git\n",
      "\n",
      "Название проекта: terryos\n",
      "Ссылка github: https://github.com/TerryCavanagh/terryos\n",
      "Ссылка git: git://github.com/TerryCavanagh/terryos.git\n",
      "\n",
      "Название проекта: viewportSize\n",
      "Ссылка github: https://github.com/TerryCavanagh/viewportSize\n",
      "Ссылка git: git://github.com/TerryCavanagh/viewportSize.git\n",
      "\n",
      "Название проекта: VVVVVV\n",
      "Ссылка github: https://github.com/TerryCavanagh/VVVVVV\n",
      "Ссылка git: git://github.com/TerryCavanagh/VVVVVV.git\n",
      "\n",
      "Название проекта: zombocomvr\n",
      "Ссылка github: https://github.com/TerryCavanagh/zombocomvr\n",
      "Ссылка git: git://github.com/TerryCavanagh/zombocomvr.git\n",
      "\n"
     ]
    }
   ],
   "source": [
    "session = requests.Session()\n",
    "req = session.get(f'https://api.github.com/users/{user}/repos')\n",
    "result = {}\n",
    "\n",
    "if req.status_code == 200:\n",
    "    data = json.loads(req.text)\n",
    "    \n",
    "    for i in range(len(data)):\n",
    "        print(f\"Название проекта: {data[i]['name']}\")\n",
    "        print(f\"Ссылка github: {data[i]['html_url']}\")\n",
    "        print(f\"Ссылка git: {data[i]['git_url']}\")\n",
    "        print()\n",
    "        result[i] = {'name':data[i]['name'],\n",
    "                     'html_url': data[i]['html_url'],\n",
    "                     'git_url': data[i]['git_url']}\n",
    "else:\n",
    "    print('error')\n",
    "    "
   ]
  },
  {
   "cell_type": "code",
   "execution_count": 4,
   "metadata": {},
   "outputs": [],
   "source": [
    "with open(\"Lesson1_1_data.json\", \"w\", encoding=\"utf-8\") as file:\n",
    "    json.dump(data, file)"
   ]
  },
  {
   "cell_type": "code",
   "execution_count": 5,
   "metadata": {},
   "outputs": [],
   "source": [
    "with open(\"Lesson1_1_result.json\", \"w\", encoding=\"utf-8\") as file:\n",
    "    json.dump(result, file)"
   ]
  },
  {
   "cell_type": "markdown",
   "metadata": {},
   "source": [
    "2. Изучить список открытых API. Найти среди них любое, требующее авторизацию (любого типа). Выполнить запросы к нему, пройдя авторизацию. Ответ сервера записать в файл."
   ]
  },
  {
   "cell_type": "code",
   "execution_count": 6,
   "metadata": {},
   "outputs": [
    {
     "name": "stdout",
     "output_type": "stream",
     "text": [
      "403\n"
     ]
    }
   ],
   "source": [
    "session = requests.Session()\n",
    "req = session.get('https://api.nasa.gov/planetary/apod')\n",
    "print(req.status_code)"
   ]
  },
  {
   "cell_type": "markdown",
   "metadata": {},
   "source": [
    "Авторизация API key"
   ]
  },
  {
   "cell_type": "code",
   "execution_count": 7,
   "metadata": {},
   "outputs": [
    {
     "name": "stdout",
     "output_type": "stream",
     "text": [
      "200\n"
     ]
    }
   ],
   "source": [
    "params = {'api_key': 'oqusrsLPGGlm1f6'}\n",
    "req = session.get('https://api.nasa.gov/planetary/apod', params=params)\n",
    "print(req.status_code)"
   ]
  },
  {
   "cell_type": "code",
   "execution_count": 8,
   "metadata": {},
   "outputs": [],
   "source": [
    "with open(\"Lesson1_2.json\", \"w\", encoding=\"utf-8\") as file:\n",
    "    json.dump(json.loads(req.text), file)"
   ]
  }
 ],
 "metadata": {
  "kernelspec": {
   "display_name": "Python 3",
   "language": "python",
   "name": "python3"
  },
  "language_info": {
   "codemirror_mode": {
    "name": "ipython",
    "version": 3
   },
   "file_extension": ".py",
   "mimetype": "text/x-python",
   "name": "python",
   "nbconvert_exporter": "python",
   "pygments_lexer": "ipython3",
   "version": "3.7.4"
  }
 },
 "nbformat": 4,
 "nbformat_minor": 2
}
