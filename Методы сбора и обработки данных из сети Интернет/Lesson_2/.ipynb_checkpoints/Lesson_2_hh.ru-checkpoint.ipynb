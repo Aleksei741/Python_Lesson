{
 "cells": [
  {
   "cell_type": "code",
   "execution_count": 1,
   "metadata": {},
   "outputs": [],
   "source": [
    "from bs4 import BeautifulSoup as bs\n",
    "import requests\n",
    "from pprint import pprint\n",
    "import re\n",
    "from pprint import pprint"
   ]
  },
  {
   "cell_type": "code",
   "execution_count": 2,
   "metadata": {},
   "outputs": [],
   "source": [
    "main_link_hh = 'https://hh.ru'\n",
    "main_link_sj = 'https://www.superjob.ru'"
   ]
  },
  {
   "cell_type": "code",
   "execution_count": 3,
   "metadata": {},
   "outputs": [],
   "source": [
    "header = {'Accept': '*/*',\n",
    "          'User-Agent':'Mozilla/5.0 (Windows NT 10.0; Win64; x64; rv:72.0) Gecko/20100101 Firefox/72.0'\n",
    "}"
   ]
  },
  {
   "cell_type": "markdown",
   "metadata": {},
   "source": [
    "В переменную function_name вводить желаемую должность"
   ]
  },
  {
   "cell_type": "markdown",
   "metadata": {},
   "source": [
    "function_name = 'python'"
   ]
  },
  {
   "cell_type": "code",
   "execution_count": 5,
   "metadata": {},
   "outputs": [],
   "source": [
    "function_name_correct = function_name#.replace(' ', '+')"
   ]
  },
  {
   "cell_type": "code",
   "execution_count": 6,
   "metadata": {},
   "outputs": [],
   "source": [
    "parameter = {\n",
    "    'text': function_name_correct,\n",
    "    'search_period': \"30\" #1,3,7,30\n",
    "}"
   ]
  },
  {
   "cell_type": "code",
   "execution_count": 7,
   "metadata": {},
   "outputs": [],
   "source": [
    "session = requests.session()"
   ]
  },
  {
   "cell_type": "code",
   "execution_count": 8,
   "metadata": {},
   "outputs": [],
   "source": [
    "def parse_hh(html):\n",
    "    data = list()\n",
    "    vacancys_block = html.find('div', {'class':\"vacancy-serp vacancy-serp_xs-mode\"})\n",
    "    pattern = re.compile('vacancy-serp-item.*')\n",
    "    vacancy_block = vacancys_block.findChildren('div', {'class':pattern}, recursive=False)\n",
    "    for vacancy in vacancy_block:\n",
    "        dict_ = {}\n",
    "        \n",
    "        dict_['name'] = vacancy.find('a', {'class': 'bloko-link HH-LinkModifier'}).text\n",
    "        dict_['href'] = vacancy.find('a', {'class': 'bloko-link HH-LinkModifier'})['href']\n",
    "        #dict_['company'] = vacancy.find('a', {'class': 'bloko-link bloko-link_secondary'}).text\n",
    "        dict_['company'] = vacancy.findAll('div', {'class': 'vacancy-serp-item__meta-info'})[0].text.replace('\\xa0', ' ')\n",
    "        dict_['position'] = vacancy.findAll('div', {'class': 'vacancy-serp-item__meta-info'})[1].text\n",
    "        dict_['site'] = main_link_hh\n",
    "\n",
    "        finance = vacancy.find('div', {'class': 'vacancy-serp-item__sidebar'}).text.replace('\\xa0', ' ')\n",
    "        if not finance:\n",
    "            dict_['finance_min'] = 'no data'\n",
    "            dict_['finance_max'] = 'no data'\n",
    "            dict_['valuta'] = 'no data'\n",
    "        else:        \n",
    "            pattern_number = re.compile('[0-9]{1,3}\\s{1}[0-9]{3}')\n",
    "            pattren_valuta = re.compile('руб\\.|USD|EUR|KZT|грн.')\n",
    "            pattren_ot = re.compile('от')\n",
    "            pattren_do = re.compile('до')\n",
    "\n",
    "            number = re.findall(pattern_number, finance)\n",
    "            valuta = re.findall(pattren_valuta, finance)\n",
    "            if valuta:\n",
    "                valuta = valuta[0]\n",
    "            \n",
    "\n",
    "            if len(number) == 2:\n",
    "                dict_['finance_min'] = number[0]\n",
    "                dict_['finance_max'] = number[1]\n",
    "                dict_['valuta'] = valuta\n",
    "            elif len(number) == 1:\n",
    "                ot = re.findall(pattren_ot, finance)\n",
    "                do = re.findall(pattren_do, finance)\n",
    "                if not do:\n",
    "                    dict_['finance_min'] = number[0]\n",
    "                    dict_['finance_max'] = '-'\n",
    "                    dict_['valuta'] = valuta\n",
    "                elif not ot:\n",
    "                    dict_['finance_min'] = '-'\n",
    "                    dict_['finance_max'] = number[0]\n",
    "                    dict_['valuta'] = valuta\n",
    "        \n",
    "        #print(dict_)\n",
    "        data.append(dict_) \n",
    "    return data"
   ]
  },
  {
   "cell_type": "code",
   "execution_count": 9,
   "metadata": {},
   "outputs": [],
   "source": [
    "def parse_sj(html):\n",
    "    data = list()\n",
    "    vacancy_blocks = html.find('div', {'style':\"display:block\"})\n",
    "    #print(vacancy_blocks)\n",
    "    \n",
    "    vacancy_block = vacancy_blocks.findChildren('div', {'class':'_3zucV _2GPIV f-test-vacancy-item i6-sc _3VcZr'}, recursive=False)\n",
    "    #print(vacancy_block)\n",
    "    \n",
    "    for vacancy in vacancy_block:\n",
    "        dict_ = {}\n",
    "        \n",
    "        pattern_name = re.compile('icMQ_ _1QIBo .*')\n",
    "        name_module = vacancy.find('a', {'class': pattern_name})\n",
    "        dict_['name'] = name_module.text\n",
    "        dict_['href'] = main_link_sj + name_module['href']\n",
    "        \n",
    "        pattern_company = re.compile('icMQ_ _205Zx .*')\n",
    "        company_module = vacancy.find('a', {'class': pattern_company})\n",
    "        if company_module:\n",
    "            dict_['company'] = company_module.text\n",
    "        else:\n",
    "            dict_['company'] = None\n",
    "        \n",
    "        pattern_position = re.compile('_3mfro f-test-text-company-item-location.*')\n",
    "        position_module = vacancy.find('span', {'class': pattern_position})\n",
    "        if company_module:\n",
    "            dict_['position'] = position_module.text\n",
    "        else:\n",
    "            dict_['position'] = None\n",
    "\n",
    "        \n",
    "        dict_['site'] = main_link_sj\n",
    "\n",
    "        \n",
    "        pattern_finance = re.compile('_3mfro _2Wp8I f-test-text-company-item-salary PlM3e _2JVkc _2VHxz')\n",
    "        finance_module = vacancy.find('span', {'class': pattern_finance})\n",
    "        finance = finance_module.text.replace('\\xa0', ' ')\n",
    "        #dict_['finance'] = finance\n",
    "        if finance == 'По договорённости':\n",
    "            dict_['finance_min'] = 'По договорённости'\n",
    "            dict_['finance_max'] = 'По договорённости'\n",
    "            dict_['valuta'] = 'no data'\n",
    "        else:        \n",
    "            pattern_number = re.compile('[0-9]{1,3}\\s{1}[0-9]{3}')\n",
    "            pattren_valuta = re.compile('₽')\n",
    "            pattren_ot = re.compile('от')\n",
    "            pattren_do = re.compile('до')\n",
    "\n",
    "            number = re.findall(pattern_number, finance)\n",
    "            valuta = re.findall(pattren_valuta, finance)\n",
    "            if valuta:\n",
    "                valuta = valuta[0] \n",
    "            if len(number) == 2:\n",
    "                dict_['finance_min'] = number[0]\n",
    "                dict_['finance_max'] = number[1]\n",
    "                dict_['valuta'] = valuta\n",
    "            elif len(number) == 1:\n",
    "                ot = re.findall(pattren_ot, finance)\n",
    "                do = re.findall(pattren_do, finance)\n",
    "                if not do:\n",
    "                    dict_['finance_min'] = number[0]\n",
    "                    dict_['finance_max'] = '-'\n",
    "                    dict_['valuta'] = valuta\n",
    "                elif not ot:\n",
    "                    dict_['finance_min'] = '-'\n",
    "                    dict_['finance_max'] = number[0]\n",
    "                    dict_['valuta'] = valuta\n",
    "        \n",
    "        #print(dict_)\n",
    "        data.append(dict_) \n",
    "    return data"
   ]
  },
  {
   "cell_type": "code",
   "execution_count": 10,
   "metadata": {},
   "outputs": [],
   "source": [
    "def get_html(link, header):\n",
    "    response = session.get(link, headers=header)\n",
    "    # print(response.status_code)\n",
    "    html = bs(response.text,'lxml')\n",
    "    print(response.status_code)\n",
    "    return html"
   ]
  },
  {
   "cell_type": "code",
   "execution_count": 11,
   "metadata": {},
   "outputs": [],
   "source": [
    "def get_next_link_hh(html):\n",
    "    bufer = html.find('a', {'class':\"bloko-button HH-Pager-Controls-Next HH-Pager-Control\"})\n",
    "    if bufer:\n",
    "        return main_link_hh + bufer['href']\n",
    "        link = bufer['href']\n",
    "    else:\n",
    "        return ''"
   ]
  },
  {
   "cell_type": "code",
   "execution_count": 12,
   "metadata": {},
   "outputs": [],
   "source": [
    "def get_next_link_sj(html):\n",
    "    bufer = html.find('a', {'class':\"icMQ_ _1_Cht _3ze9n f-test-button-dalshe f-test-link-Dalshe\"})\n",
    "    if bufer:\n",
    "        return main_link_sj + bufer['href']\n",
    "        link = bufer['href']\n",
    "    else:\n",
    "        return ''"
   ]
  },
  {
   "cell_type": "code",
   "execution_count": 13,
   "metadata": {},
   "outputs": [
    {
     "name": "stdout",
     "output_type": "stream",
     "text": [
      "https://hh.ru/search/vacancy?search_period=30&salary=&st=searchVacancy&text=python\n",
      "200\n",
      "https://hh.ru/search/vacancy?L_is_autosearch=false&clusters=true&enable_snippets=true&search_period=30&text=python&page=1\n",
      "200\n",
      "https://hh.ru/search/vacancy?L_is_autosearch=false&clusters=true&enable_snippets=true&search_period=30&text=python&page=2\n",
      "200\n",
      "https://hh.ru/search/vacancy?L_is_autosearch=false&clusters=true&enable_snippets=true&search_period=30&text=python&page=3\n",
      "200\n",
      "https://hh.ru/search/vacancy?L_is_autosearch=false&clusters=true&enable_snippets=true&search_period=30&text=python&page=4\n",
      "200\n",
      "https://hh.ru/search/vacancy?L_is_autosearch=false&clusters=true&enable_snippets=true&search_period=30&text=python&page=5\n",
      "200\n",
      "https://hh.ru/search/vacancy?L_is_autosearch=false&clusters=true&enable_snippets=true&search_period=30&text=python&page=6\n",
      "200\n",
      "https://hh.ru/search/vacancy?L_is_autosearch=false&clusters=true&enable_snippets=true&search_period=30&text=python&page=7\n",
      "200\n",
      "https://hh.ru/search/vacancy?L_is_autosearch=false&clusters=true&enable_snippets=true&search_period=30&text=python&page=8\n",
      "200\n",
      "https://hh.ru/search/vacancy?L_is_autosearch=false&clusters=true&enable_snippets=true&search_period=30&text=python&page=9\n",
      "200\n",
      "https://hh.ru/search/vacancy?L_is_autosearch=false&clusters=true&enable_snippets=true&search_period=30&text=python&page=10\n",
      "200\n",
      "https://hh.ru/search/vacancy?L_is_autosearch=false&clusters=true&enable_snippets=true&search_period=30&text=python&page=11\n",
      "200\n",
      "https://hh.ru/search/vacancy?L_is_autosearch=false&clusters=true&enable_snippets=true&search_period=30&text=python&page=12\n",
      "200\n",
      "https://hh.ru/search/vacancy?L_is_autosearch=false&clusters=true&enable_snippets=true&search_period=30&text=python&page=13\n",
      "200\n",
      "https://hh.ru/search/vacancy?L_is_autosearch=false&clusters=true&enable_snippets=true&search_period=30&text=python&page=14\n",
      "200\n",
      "https://hh.ru/search/vacancy?L_is_autosearch=false&clusters=true&enable_snippets=true&search_period=30&text=python&page=15\n",
      "200\n",
      "https://hh.ru/search/vacancy?L_is_autosearch=false&clusters=true&enable_snippets=true&search_period=30&text=python&page=16\n",
      "200\n",
      "https://hh.ru/search/vacancy?L_is_autosearch=false&clusters=true&enable_snippets=true&search_period=30&text=python&page=17\n",
      "200\n",
      "https://hh.ru/search/vacancy?L_is_autosearch=false&clusters=true&enable_snippets=true&search_period=30&text=python&page=18\n",
      "200\n",
      "https://hh.ru/search/vacancy?L_is_autosearch=false&clusters=true&enable_snippets=true&search_period=30&text=python&page=19\n",
      "200\n",
      "https://hh.ru/search/vacancy?L_is_autosearch=false&clusters=true&enable_snippets=true&search_period=30&text=python&page=20\n",
      "200\n",
      "https://hh.ru/search/vacancy?L_is_autosearch=false&clusters=true&enable_snippets=true&search_period=30&text=python&page=21\n",
      "200\n",
      "https://hh.ru/search/vacancy?L_is_autosearch=false&clusters=true&enable_snippets=true&search_period=30&text=python&page=22\n",
      "200\n",
      "https://hh.ru/search/vacancy?L_is_autosearch=false&clusters=true&enable_snippets=true&search_period=30&text=python&page=23\n",
      "200\n",
      "https://hh.ru/search/vacancy?L_is_autosearch=false&clusters=true&enable_snippets=true&search_period=30&text=python&page=24\n",
      "200\n",
      "https://hh.ru/search/vacancy?L_is_autosearch=false&clusters=true&enable_snippets=true&search_period=30&text=python&page=25\n",
      "200\n",
      "https://hh.ru/search/vacancy?L_is_autosearch=false&clusters=true&enable_snippets=true&search_period=30&text=python&page=26\n",
      "200\n",
      "https://hh.ru/search/vacancy?L_is_autosearch=false&clusters=true&enable_snippets=true&search_period=30&text=python&page=27\n",
      "200\n",
      "https://hh.ru/search/vacancy?L_is_autosearch=false&clusters=true&enable_snippets=true&search_period=30&text=python&page=28\n",
      "200\n",
      "https://hh.ru/search/vacancy?L_is_autosearch=false&clusters=true&enable_snippets=true&search_period=30&text=python&page=29\n",
      "200\n",
      "https://hh.ru/search/vacancy?L_is_autosearch=false&clusters=true&enable_snippets=true&search_period=30&text=python&page=30\n",
      "200\n",
      "https://hh.ru/search/vacancy?L_is_autosearch=false&clusters=true&enable_snippets=true&search_period=30&text=python&page=31\n",
      "200\n",
      "https://hh.ru/search/vacancy?L_is_autosearch=false&clusters=true&enable_snippets=true&search_period=30&text=python&page=32\n",
      "200\n",
      "https://hh.ru/search/vacancy?L_is_autosearch=false&clusters=true&enable_snippets=true&search_period=30&text=python&page=33\n",
      "200\n",
      "https://hh.ru/search/vacancy?L_is_autosearch=false&clusters=true&enable_snippets=true&search_period=30&text=python&page=34\n",
      "200\n",
      "https://hh.ru/search/vacancy?L_is_autosearch=false&clusters=true&enable_snippets=true&search_period=30&text=python&page=35\n",
      "200\n",
      "https://hh.ru/search/vacancy?L_is_autosearch=false&clusters=true&enable_snippets=true&search_period=30&text=python&page=36\n",
      "200\n",
      "https://hh.ru/search/vacancy?L_is_autosearch=false&clusters=true&enable_snippets=true&search_period=30&text=python&page=37\n",
      "200\n",
      "https://hh.ru/search/vacancy?L_is_autosearch=false&clusters=true&enable_snippets=true&search_period=30&text=python&page=38\n",
      "200\n",
      "https://hh.ru/search/vacancy?L_is_autosearch=false&clusters=true&enable_snippets=true&search_period=30&text=python&page=39\n",
      "200\n",
      "https://www.superjob.ru/vacancy/search/?keywords=python&geo[c][0]=1\n",
      "200\n",
      "https://www.superjob.ru/vacancy/search/?keywords=python&geo%5Bc%5D%5B0%5D=1&page=2\n",
      "200\n",
      "https://www.superjob.ru/vacancy/search/?keywords=python&geo%5Bc%5D%5B0%5D=1&page=3\n",
      "200\n",
      "https://www.superjob.ru/vacancy/search/?keywords=python&geo%5Bc%5D%5B0%5D=1&page=4\n",
      "200\n"
     ]
    }
   ],
   "source": [
    "result = list()\n",
    "link = main_link_hh + f'/search/vacancy?search_period=30&salary=&st=searchVacancy&text={function_name_correct}'\n",
    "#link = 'https://hh.ru/search/vacancy?L_is_autosearch=false&clusters=true&enable_snippets=true&search_period=30&text=Data+science&page=16'\n",
    "while link:\n",
    "   print(link)\n",
    "   html = get_html(link, header)\n",
    "   result = result + parse_hh(html)\n",
    "   link = get_next_link_hh(html)\n",
    "    \n",
    "link = main_link_sj + f'/vacancy/search/?keywords={function_name}&geo[c][0]=1'\n",
    "while link:\n",
    "    print(link)\n",
    "    html = get_html(link, header)\n",
    "    result = result + parse_sj(html)\n",
    "    link = ''\n",
    "    link = get_next_link_sj(html)"
   ]
  },
  {
   "cell_type": "code",
   "execution_count": 16,
   "metadata": {},
   "outputs": [
    {
     "data": {
      "text/plain": [
       "2080"
      ]
     },
     "execution_count": 16,
     "metadata": {},
     "output_type": "execute_result"
    }
   ],
   "source": [
    "len(result)"
   ]
  },
  {
   "cell_type": "code",
   "execution_count": 17,
   "metadata": {},
   "outputs": [],
   "source": [
    "import json\n",
    "with open(\"Lesson2_result.json\", \"w\", encoding=\"utf-8\") as file:\n",
    "    json.dump(result, file)"
   ]
  }
 ],
 "metadata": {
  "kernelspec": {
   "display_name": "Python 3",
   "language": "python",
   "name": "python3"
  },
  "language_info": {
   "codemirror_mode": {
    "name": "ipython",
    "version": 3
   },
   "file_extension": ".py",
   "mimetype": "text/x-python",
   "name": "python",
   "nbconvert_exporter": "python",
   "pygments_lexer": "ipython3",
   "version": "3.7.4"
  }
 },
 "nbformat": 4,
 "nbformat_minor": 2
}
