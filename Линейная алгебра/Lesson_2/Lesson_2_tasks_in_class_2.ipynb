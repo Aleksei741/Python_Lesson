{
 "cells": [
  {
   "cell_type": "markdown",
   "metadata": {
    "colab_type": "text",
    "id": "0kyBZ4aGFcRp"
   },
   "source": [
    "__Действия с матрицами-2 (задания к методичке 4)__"
   ]
  },
  {
   "cell_type": "markdown",
   "metadata": {
    "colab_type": "text",
    "id": "zsqB9_0qjKW8"
   },
   "source": [
    "__Пример 1__\n",
    "\n",
    "Вычислим определитель\n",
    "\n",
    "$$\\begin{vmatrix}\n",
    "1 & 2 \\\\ \n",
    "3 & 4 \n",
    "\\end{vmatrix}$$"
   ]
  },
  {
   "cell_type": "markdown",
   "metadata": {
    "colab_type": "text",
    "id": "yRobmlLi258v"
   },
   "source": [
    "$$\n",
    "\\\\\n",
    "\\\\\n",
    "$$"
   ]
  },
  {
   "cell_type": "markdown",
   "metadata": {
    "colab_type": "text",
    "id": "nJVwLJWN3EcP"
   },
   "source": [
    "$$\n",
    "\\\\\n",
    "\\\\\n",
    "$$"
   ]
  },
  {
   "cell_type": "markdown",
   "metadata": {
    "colab_type": "text",
    "id": "QingMv_O2uej"
   },
   "source": [
    "__Пример 2__\n",
    "\n",
    "Вычислим определитель\n",
    "\n",
    "$$\\begin{vmatrix}\n",
    "1 & 2 & 1\\\\ \n",
    "1 & 1 & 4\\\\ \n",
    "2 & 3 & 6\n",
    "\\end{vmatrix}$$"
   ]
  },
  {
   "cell_type": "markdown",
   "metadata": {
    "colab_type": "text",
    "id": "Hiz8XfTc3Ruq"
   },
   "source": [
    "$$\n",
    "\\\\\n",
    "$$"
   ]
  },
  {
   "cell_type": "code",
   "execution_count": 2,
   "metadata": {
    "colab": {
     "base_uri": "https://localhost:8080/",
     "height": 33
    },
    "colab_type": "code",
    "id": "jSLHM4zjIN3x",
    "outputId": "bd61eb15-4664-4ca3-a31f-202cce72aa4e"
   },
   "outputs": [
    {
     "data": {
      "text/plain": [
       "-1.0"
      ]
     },
     "execution_count": 2,
     "metadata": {
      "tags": []
     },
     "output_type": "execute_result"
    }
   ],
   "source": [
    "import numpy as np\n",
    "\n",
    "a = np.array([\n",
    "    [1, 2, 1],\n",
    "    [1, 1, 4],\n",
    "    [2, 3, 6],\n",
    "])\n",
    "\n",
    "np.linalg.det(a)"
   ]
  },
  {
   "cell_type": "markdown",
   "metadata": {
    "colab_type": "text",
    "id": "HQEL14JZKqmO"
   },
   "source": [
    "__Пример 3__"
   ]
  },
  {
   "cell_type": "markdown",
   "metadata": {
    "colab_type": "text",
    "id": "PqfphuqZKxbl"
   },
   "source": [
    "Перестановка строк 1 и 3 (нечетная, так как сделана одна инверсия) - определитель меняет знак."
   ]
  },
  {
   "cell_type": "code",
   "execution_count": 0,
   "metadata": {
    "colab": {
     "base_uri": "https://localhost:8080/",
     "height": 33
    },
    "colab_type": "code",
    "id": "1POtWEw-JCm-",
    "outputId": "e783ca0d-15f3-4793-dc75-6a78c66d514b"
   },
   "outputs": [
    {
     "data": {
      "text/plain": [
       "1.0"
      ]
     },
     "execution_count": 7,
     "metadata": {
      "tags": []
     },
     "output_type": "execute_result"
    }
   ],
   "source": [
    "a = np.array([\n",
    "    [2, 3, 6],\n",
    "    [1, 1, 4],\n",
    "    [1, 2, 1],\n",
    "])\n",
    "\n",
    "np.linalg.det(a)"
   ]
  },
  {
   "cell_type": "markdown",
   "metadata": {
    "colab_type": "text",
    "id": "lGK94O8R3WgH"
   },
   "source": [
    "__Пример 4__\n",
    "\n",
    "Вычислим определитель\n",
    "\n",
    "$$\\begin{vmatrix}\n",
    "1 & 2 & 3\\\\ \n",
    "4 & 5 & 6\\\\ \n",
    "7 & 8 & 9\n",
    "\\end{vmatrix}$$"
   ]
  },
  {
   "cell_type": "markdown",
   "metadata": {
    "colab_type": "text",
    "id": "4oKgj_P85L7R"
   },
   "source": [
    "$$$$"
   ]
  },
  {
   "cell_type": "markdown",
   "metadata": {
    "colab_type": "text",
    "id": "HWzP61yB5nBa"
   },
   "source": [
    "__Пример__ __5__\n",
    "\n",
    "Проверим свойство $detA^{T}=detA$ для матрицы:"
   ]
  },
  {
   "cell_type": "markdown",
   "metadata": {
    "colab_type": "text",
    "id": "vdIaqYBMMcBA"
   },
   "source": [
    "$$A = \\begin{pmatrix}\n",
    "1 & 2 \\\\ \n",
    "3 & 4 \n",
    "\\end{pmatrix}$$"
   ]
  },
  {
   "cell_type": "markdown",
   "metadata": {
    "colab_type": "text",
    "id": "P7pz1EZjMkJ4"
   },
   "source": [
    "$$$$"
   ]
  },
  {
   "cell_type": "markdown",
   "metadata": {
    "colab_type": "text",
    "id": "GJZCCfy75m-A"
   },
   "source": [
    "__Пример__ __6__\n",
    "\n",
    "\n",
    "Умножение строки или столбца матрицы на число $\\lambda$ приведет к умножению определителя матрицы на то же число."
   ]
  },
  {
   "cell_type": "markdown",
   "metadata": {
    "colab_type": "text",
    "id": "Ik8xehuHM8-U"
   },
   "source": [
    "Проверим для матрицы\n",
    "$$A = \\begin{pmatrix}\n",
    "1 & 2 \\\\ \n",
    "3 & 4 \n",
    "\\end{pmatrix}$$"
   ]
  },
  {
   "cell_type": "markdown",
   "metadata": {
    "colab_type": "text",
    "id": "Y3IonOkn5m8v"
   },
   "source": [
    "$$$$"
   ]
  },
  {
   "cell_type": "markdown",
   "metadata": {
    "colab_type": "text",
    "id": "Ri9l8gzs5m5D"
   },
   "source": [
    "__Пример__ __7__\n",
    "\n",
    "Если матрица имеет нулевую строку или столбец, то определитель равен нулю. \n",
    "\n",
    "Проверим для матрицы\n",
    "$$\n",
    "B = \n",
    "\\begin{pmatrix}\n",
    "0 & 0 \\\\ \n",
    "4 & 8\n",
    "\\end{pmatrix}\n",
    "$$"
   ]
  },
  {
   "cell_type": "markdown",
   "metadata": {
    "colab_type": "text",
    "id": "gGYExybL5mw0"
   },
   "source": [
    "$$$$"
   ]
  },
  {
   "cell_type": "markdown",
   "metadata": {
    "colab_type": "text",
    "id": "VRx1LFiM72wb"
   },
   "source": [
    "$$$$"
   ]
  },
  {
   "cell_type": "markdown",
   "metadata": {
    "colab_type": "text",
    "id": "xT-NQ5Hc72vE"
   },
   "source": [
    "__Пример__ __8__\n",
    "\n",
    "Если две строки (столбца) матрицы линейно зависимы, то определитель этой матрицы равен нулю.\n",
    "\n",
    "Проверим для матрицы \n",
    "\n"
   ]
  },
  {
   "cell_type": "markdown",
   "metadata": {
    "colab_type": "text",
    "id": "yE45p-gz72k5"
   },
   "source": [
    "$$\n",
    "С = \n",
    "\\begin{pmatrix}\n",
    "2 & 5 \\\\ \n",
    "6 & 15\n",
    "\\end{pmatrix}\n",
    "$$"
   ]
  },
  {
   "cell_type": "markdown",
   "metadata": {
    "colab_type": "text",
    "id": "oLM6k-QG87yH"
   },
   "source": [
    "$$$$"
   ]
  },
  {
   "cell_type": "markdown",
   "metadata": {
    "colab_type": "text",
    "id": "HfeOB63HASU4"
   },
   "source": [
    "__Пример__ __9__\n",
    "\n",
    "Определитель матрицы треугольного вида равен произведению элементов, стоящих на ее главной диагонали.\n",
    "\n",
    "а). Проверим для матрицы:\n",
    "\n",
    "$$\n",
    "X = \\begin{pmatrix}\n",
    "1 & 2 \\\\\n",
    "0 & 3\n",
    "\\end{pmatrix}\n",
    "$$"
   ]
  },
  {
   "cell_type": "markdown",
   "metadata": {
    "colab_type": "text",
    "id": "nBxXLPtJA6He"
   },
   "source": [
    "б). Проверим для матрицы:\n",
    "\n",
    "$$\n",
    "Y = \\begin{pmatrix}\n",
    "1 & 2 & 3\\\\\n",
    "0 & 4 & 5 \\\\\n",
    "0 & 0 & 7\n",
    "\\end{pmatrix}\n",
    "$$\n"
   ]
  },
  {
   "cell_type": "markdown",
   "metadata": {
    "colab_type": "text",
    "id": "jFJ7LuuhBCuo"
   },
   "source": [
    "$$\n",
    "$$"
   ]
  },
  {
   "cell_type": "markdown",
   "metadata": {
    "colab_type": "text",
    "id": "2q5uxXeyBJbA"
   },
   "source": [
    "__Пример 10__\n",
    "\n",
    "Если матрица $A$ ортогональна, то определитель такой матрицы \n",
    "\n",
    "$$detA = \\pm1.$$\n"
   ]
  },
  {
   "cell_type": "markdown",
   "metadata": {
    "colab_type": "text",
    "id": "FJwhB08RCT1v"
   },
   "source": [
    "$$$$"
   ]
  },
  {
   "cell_type": "markdown",
   "metadata": {
    "colab_type": "text",
    "id": "Ge7bLA71CTlm"
   },
   "source": [
    "Проверим для матрицы\n",
    "$$\n",
    "\\sigma_3 = \\begin{pmatrix}\n",
    "1 & 0 \\\\\n",
    "0 & -1\n",
    "\\end{pmatrix}\n",
    "$$"
   ]
  },
  {
   "cell_type": "markdown",
   "metadata": {
    "colab_type": "text",
    "id": "TwP4WVUICaql"
   },
   "source": [
    "$$\n",
    "$$"
   ]
  },
  {
   "cell_type": "markdown",
   "metadata": {
    "colab_type": "text",
    "id": "KE-N-yJ--NGu"
   },
   "source": [
    "__Пример__ __11__\n",
    "\n",
    "Для двух квадратных матриц одинакового размера\n",
    "\n",
    "$$det(AB)=detA\\cdot detB.$$"
   ]
  },
  {
   "cell_type": "markdown",
   "metadata": {
    "colab_type": "text",
    "id": "iWwLfn1u-MaC"
   },
   "source": [
    "Проверим для матриц:"
   ]
  },
  {
   "cell_type": "markdown",
   "metadata": {
    "colab_type": "text",
    "id": "RYbgJOp2Pr4Y"
   },
   "source": [
    "$$A = \\begin{pmatrix}\n",
    "1 & 2 \\\\ \n",
    "3 & 4 \n",
    "\\end{pmatrix}$$"
   ]
  },
  {
   "cell_type": "markdown",
   "metadata": {
    "colab_type": "text",
    "id": "sKfrq2xiPs6Z"
   },
   "source": [
    "$$B = \\begin{pmatrix}\n",
    "4 & 5 \\\\ \n",
    "3 & 4 \n",
    "\\end{pmatrix}$$"
   ]
  },
  {
   "cell_type": "markdown",
   "metadata": {
    "colab_type": "text",
    "id": "JtECUyyyShuw"
   },
   "source": [
    "__Пример__ __12__\n",
    "\n",
    "Если элементы строки (столбца) матрицы являются результатом суммы, то будет как в примере\n",
    "\n",
    "$$\\begin{vmatrix}\n",
    "1 & 2 \\\\ \n",
    "3 & 4\n",
    "\\end{vmatrix} = \\begin{vmatrix}\n",
    "1 & 2 \\\\ \n",
    "1 & 3\n",
    "\\end{vmatrix} + \\begin{vmatrix}\n",
    "1 & 2 \\\\ \n",
    "2 & 1\n",
    "\\end{vmatrix} \n",
    "$$"
   ]
  },
  {
   "cell_type": "markdown",
   "metadata": {
    "colab_type": "text",
    "id": "rfoFKr-A-MTP"
   },
   "source": [
    "__Пример__ __13__\n",
    "\n",
    "Если к одной из строк матрицы прибавить другую, умноженную на число, ее определитель не изменится.\n",
    "\n",
    "Проверим для матрицы\n",
    "\n",
    "$$A = \\begin{pmatrix}\n",
    "1 & 2 \\\\ \n",
    "3 & 4\n",
    "\\end{pmatrix}$$"
   ]
  },
  {
   "cell_type": "markdown",
   "metadata": {
    "colab_type": "text",
    "id": "QnwdfSlGR1L1"
   },
   "source": [
    "__Пример__ __14__\n",
    "\n",
    "Определим ранг матрицы\n",
    "\n",
    "$$A = \\begin{pmatrix}\n",
    "1 & 2 & 3 \\\\\n",
    "2 & 2 & 2 \\\\\n",
    "3 & 3 & 3 \n",
    "\\end{pmatrix}\n",
    "$$"
   ]
  },
  {
   "cell_type": "code",
   "execution_count": 0,
   "metadata": {
    "colab": {},
    "colab_type": "code",
    "id": "jeCCFIC8QzJZ"
   },
   "outputs": [],
   "source": [
    "x = [1, 2, 3]\n",
    "y = [2, 2, 2]\n",
    "z = [3, 3, 3]\n",
    "\n",
    "a = np.array([x, y, z])\n",
    "r = np.linalg.matrix_rank(a)"
   ]
  },
  {
   "cell_type": "markdown",
   "metadata": {
    "colab_type": "text",
    "id": "M6ZFbF8MSVp7"
   },
   "source": [
    "$$$$"
   ]
  },
  {
   "cell_type": "markdown",
   "metadata": {
    "colab_type": "text",
    "id": "Xfni1tA2SVWX"
   },
   "source": [
    "__Пример 15__\n",
    "\n",
    "Найдем обратную матрицу для матрицы\n",
    "\n",
    "$$A = \\begin{pmatrix}\n",
    "1 & 2 & 1\\\\ \n",
    "1 & 1 & 4\\\\ \n",
    "2 & 3 & 6\n",
    "\\end{pmatrix}$$"
   ]
  },
  {
   "cell_type": "markdown",
   "metadata": {
    "colab_type": "text",
    "id": "pTcqP1VxTuj_"
   },
   "source": [
    "Сделаем проверку - умножим исходную матрицу на обратную, чтобы получилась единичная матрица."
   ]
  },
  {
   "cell_type": "code",
   "execution_count": 4,
   "metadata": {
    "colab": {
     "base_uri": "https://localhost:8080/",
     "height": 67
    },
    "colab_type": "code",
    "id": "TuXx_InQTz2D",
    "outputId": "36904da3-9c5f-4afc-9eac-b428e67be26b"
   },
   "outputs": [
    {
     "data": {
      "text/plain": [
       "array([[-1.  ,  0.25,  0.5 ],\n",
       "       [ 1.  ,  1.  , -1.  ],\n",
       "       [-0.  , -0.75,  0.5 ]])"
      ]
     },
     "execution_count": 4,
     "metadata": {
      "tags": []
     },
     "output_type": "execute_result"
    }
   ],
   "source": [
    "x = [1, 2, 3]\n",
    "y = [2, 2, 2]\n",
    "z = [3, 3, 5]\n",
    "\n",
    "a = np.array([x, y, z])\n",
    "np.linalg.inv(a)"
   ]
  },
  {
   "cell_type": "code",
   "execution_count": 0,
   "metadata": {
    "colab": {},
    "colab_type": "code",
    "id": "DQyuk5PEUEYN"
   },
   "outputs": [],
   "source": []
  }
 ],
 "metadata": {
  "colab": {
   "collapsed_sections": [],
   "name": "Lesson_2_tasks_in_class_2.ipynb",
   "provenance": []
  },
  "kernelspec": {
   "display_name": "Python 3",
   "language": "python",
   "name": "python3"
  },
  "language_info": {
   "codemirror_mode": {
    "name": "ipython",
    "version": 3
   },
   "file_extension": ".py",
   "mimetype": "text/x-python",
   "name": "python",
   "nbconvert_exporter": "python",
   "pygments_lexer": "ipython3",
   "version": "3.8.1"
  }
 },
 "nbformat": 4,
 "nbformat_minor": 1
}
