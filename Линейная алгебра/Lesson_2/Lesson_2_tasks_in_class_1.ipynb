{
 "cells": [
  {
   "cell_type": "markdown",
   "metadata": {
    "colab_type": "text",
    "id": "0kyBZ4aGFcRp"
   },
   "source": [
    "__Действия с матрицами-1 (задания к методичке 3)__"
   ]
  },
  {
   "cell_type": "markdown",
   "metadata": {
    "colab_type": "text",
    "id": "zsqB9_0qjKW8"
   },
   "source": [
    "__Пример__ __1__\n",
    "\n",
    "\n",
    "$$\\begin{pmatrix}\n",
    "1 & 2 & 3\\\\ \n",
    "4 & 5 & 6\\\\ \n",
    "7 & 8 & 9\n",
    "\\end{pmatrix} + \\begin{pmatrix}\n",
    "1 & 0 & 0\\\\ \n",
    "0 & 1 & 0\\\\ \n",
    "0 & 0 & 1\n",
    "\\end{pmatrix} = \\;...\n",
    "$$"
   ]
  },
  {
   "cell_type": "markdown",
   "metadata": {
    "colab_type": "text",
    "id": "yRobmlLi258v"
   },
   "source": [
    "$$\n",
    "\\\\\n",
    "\\\\\n",
    "$$"
   ]
  },
  {
   "cell_type": "markdown",
   "metadata": {
    "colab_type": "text",
    "id": "nJVwLJWN3EcP"
   },
   "source": [
    "$$\n",
    "\\\\\n",
    "\\\\\n",
    "$$"
   ]
  },
  {
   "cell_type": "markdown",
   "metadata": {
    "colab_type": "text",
    "id": "QingMv_O2uej"
   },
   "source": [
    "\n",
    "__Пример__ __2__\n",
    "\n",
    "\n",
    "$$2 \\cdot \\begin{pmatrix}\n",
    "1 & 0 & 0\\\\ \n",
    "0 & 1 & 0\\\\ \n",
    "0 & 0 & 1\n",
    "\\end{pmatrix} = \\;...\n",
    "$$"
   ]
  },
  {
   "cell_type": "markdown",
   "metadata": {
    "colab_type": "text",
    "id": "Hiz8XfTc3Ruq"
   },
   "source": [
    "$$\n",
    "\\\\\n",
    "$$"
   ]
  },
  {
   "cell_type": "markdown",
   "metadata": {
    "colab_type": "text",
    "id": "lGK94O8R3WgH"
   },
   "source": [
    "__Пример__ __3__\n",
    "\n",
    "\n",
    "$$A = \\begin{pmatrix}\n",
    "2 & 0 & 0\\\\ \n",
    "0 & 2 & 0\\\\ \n",
    "0 & 0 & 2\n",
    "\\end{pmatrix}$$"
   ]
  },
  {
   "cell_type": "markdown",
   "metadata": {
    "colab_type": "text",
    "id": "z5HvqGo74kpA"
   },
   "source": [
    "$$B = \\begin{pmatrix}\n",
    "\\;1 \\;& 0 & -1\\\\ \n",
    "\\;\\;0 \\;& 0 & \\;0\\\\ \n",
    "-1 & 0 & \\;1\n",
    "\\end{pmatrix} \\\\\n",
    "$$"
   ]
  },
  {
   "cell_type": "markdown",
   "metadata": {
    "colab_type": "text",
    "id": "F-jjR8V_4eAC"
   },
   "source": [
    "$$\n",
    "A - 2B = \\; ...\n",
    "$$"
   ]
  },
  {
   "cell_type": "markdown",
   "metadata": {
    "colab_type": "text",
    "id": "_wA_lun65Maj"
   },
   "source": [
    "$$\n",
    "$$"
   ]
  },
  {
   "cell_type": "markdown",
   "metadata": {
    "colab_type": "text",
    "id": "DYAJBap25MMr"
   },
   "source": [
    "__Пример__ __4__\n",
    "\n",
    "\n",
    "$$\\begin{pmatrix}\n",
    "1 & 2 & 3\\\\ \n",
    "4 & 5 & 6\\\\ \n",
    "7 & 8 & 9\n",
    "\\end{pmatrix} \\cdot \\begin{pmatrix}\n",
    "1 & 0 & 0\\\\ \n",
    "0 & 1 & 0\\\\ \n",
    "0 & 0 & 1\n",
    "\\end{pmatrix} = \\;...\n",
    "$$"
   ]
  },
  {
   "cell_type": "markdown",
   "metadata": {
    "colab_type": "text",
    "id": "4oKgj_P85L7R"
   },
   "source": [
    "$$$$"
   ]
  },
  {
   "cell_type": "markdown",
   "metadata": {
    "colab_type": "text",
    "id": "HWzP61yB5nBa"
   },
   "source": [
    "__Пример__ __5__\n",
    "\n",
    "\n",
    "$$\\begin{pmatrix}\n",
    "1 & 2 & 3\\\\ \n",
    "4 & 5 & 6\\\\ \n",
    "7 & 8 & 9\n",
    "\\end{pmatrix} \\cdot \\begin{pmatrix}\n",
    "1 & 1 & 1\\\\ \n",
    "1 & 1 & 1\\\\ \n",
    "1 & 1 & 1\n",
    "\\end{pmatrix} = \\;...\n",
    "$$"
   ]
  },
  {
   "cell_type": "markdown",
   "metadata": {
    "colab_type": "text",
    "id": "GJZCCfy75m-A"
   },
   "source": [
    "__Пример__ __6__\n",
    "\n",
    "\n",
    "$$\\begin{pmatrix}\n",
    "1 & 2 & 3\\\\ \n",
    "4 & 5 & 6\n",
    "\\end{pmatrix} \\cdot \\begin{pmatrix}\n",
    "1 \\\\ \n",
    "2 \\\\ \n",
    "3\n",
    "\\end{pmatrix} = \\;...\n",
    "$$"
   ]
  },
  {
   "cell_type": "markdown",
   "metadata": {
    "colab_type": "text",
    "id": "Y3IonOkn5m8v"
   },
   "source": [
    "$$$$"
   ]
  },
  {
   "cell_type": "markdown",
   "metadata": {
    "colab_type": "text",
    "id": "Ri9l8gzs5m5D"
   },
   "source": [
    "__Пример__ __7__\n",
    "\n",
    "\n",
    "$$\n",
    "\\begin{pmatrix} 1 & 2 & 3 \\end{pmatrix}\n",
    "\\cdot\n",
    "\\begin{pmatrix}\n",
    "1 & 2 \\\\ \n",
    "4 & 5 \\\\ \n",
    "7 & 8\n",
    "\\end{pmatrix} = \\;...\n",
    "$$"
   ]
  },
  {
   "cell_type": "markdown",
   "metadata": {
    "colab_type": "text",
    "id": "gGYExybL5mw0"
   },
   "source": [
    "$$$$"
   ]
  },
  {
   "cell_type": "markdown",
   "metadata": {
    "colab_type": "text",
    "id": "MchyCUsy5mj4"
   },
   "source": [
    "__Пример__ __7__\n",
    "\n",
    "\n",
    "$$\n",
    "A = \\begin{pmatrix} \n",
    "1 & 2 \\\\\n",
    "3 & 4 \\end{pmatrix}\n",
    "$$"
   ]
  },
  {
   "cell_type": "markdown",
   "metadata": {
    "colab_type": "text",
    "id": "3Kgop5vY7WI9"
   },
   "source": [
    "$$\n",
    "B = \\begin{pmatrix}\n",
    "10 & 8 \\\\ \n",
    "5 & 7\n",
    "\\end{pmatrix}\n",
    "$$"
   ]
  },
  {
   "cell_type": "markdown",
   "metadata": {
    "colab_type": "text",
    "id": "HELDhMrI9GNf"
   },
   "source": [
    "$$$$"
   ]
  },
  {
   "cell_type": "markdown",
   "metadata": {
    "colab_type": "text",
    "id": "olmi8O7e7eSZ"
   },
   "source": [
    "$$\n",
    "(A \\cdot B)^T = B^T \\cdot A^T\n",
    "$$"
   ]
  },
  {
   "cell_type": "markdown",
   "metadata": {
    "colab_type": "text",
    "id": "VRx1LFiM72wb"
   },
   "source": [
    "$$$$"
   ]
  },
  {
   "cell_type": "markdown",
   "metadata": {
    "colab_type": "text",
    "id": "xT-NQ5Hc72vE"
   },
   "source": [
    "__Пример__ __8__\n",
    "$$\n",
    "A = \\begin{pmatrix}\n",
    "1 &\n",
    "2 &\n",
    "3\n",
    "\\end{pmatrix}\n",
    "$$"
   ]
  },
  {
   "cell_type": "markdown",
   "metadata": {
    "colab_type": "text",
    "id": "yE45p-gz72k5"
   },
   "source": [
    "$$\n",
    "B = \\begin{pmatrix}\n",
    "8 \\\\ \n",
    "5 \\\\\n",
    "7\n",
    "\\end{pmatrix}\n",
    "$$"
   ]
  },
  {
   "cell_type": "markdown",
   "metadata": {
    "colab_type": "text",
    "id": "oLM6k-QG87yH"
   },
   "source": [
    "$$$$"
   ]
  },
  {
   "cell_type": "markdown",
   "metadata": {
    "colab_type": "text",
    "id": "wZewNIyI8vCT"
   },
   "source": [
    "$$ A \\cdot B = \\; ... $$"
   ]
  },
  {
   "cell_type": "markdown",
   "metadata": {
    "colab_type": "text",
    "id": "JkiegCkI8unx"
   },
   "source": [
    "$$$$"
   ]
  },
  {
   "cell_type": "markdown",
   "metadata": {
    "colab_type": "text",
    "id": "rqCTiNgr8t-Z"
   },
   "source": [
    "$$ B \\cdot A = \\; ... $$"
   ]
  },
  {
   "cell_type": "markdown",
   "metadata": {
    "colab_type": "text",
    "id": "R4drZdstANtF"
   },
   "source": [
    "$$$$"
   ]
  },
  {
   "cell_type": "markdown",
   "metadata": {
    "colab_type": "text",
    "id": "HfeOB63HASU4"
   },
   "source": [
    "__Пример__ __9__\n",
    "\n",
    "Проверить свойство верхне-треугольных матриц: _при перемножении верхне-треугольных матриц свойство верхней треугольности сохраняется._\n",
    "\n",
    "$$\n",
    "A = \\begin{pmatrix}\n",
    "1 & 2 \\\\\n",
    "0 & 3\n",
    "\\end{pmatrix}\n",
    "$$"
   ]
  },
  {
   "cell_type": "markdown",
   "metadata": {
    "colab_type": "text",
    "id": "nBxXLPtJA6He"
   },
   "source": [
    "$$\n",
    "B = \\begin{pmatrix}\n",
    "5 & 6 \\\\\n",
    "0 & 7\n",
    "\\end{pmatrix}\n",
    "$$\n"
   ]
  },
  {
   "cell_type": "markdown",
   "metadata": {
    "colab_type": "text",
    "id": "jFJ7LuuhBCuo"
   },
   "source": [
    "$$\n",
    "A \\cdot B = \\; ...\n",
    "$$"
   ]
  },
  {
   "cell_type": "markdown",
   "metadata": {
    "colab_type": "text",
    "id": "2q5uxXeyBJbA"
   },
   "source": [
    "__Пример 9a__\n",
    "\n",
    "Для нижне-треугольных также проверить это свойство\n",
    "\n",
    "(через верхне-треугольные) с использованием свойства транспонирования:\n",
    "\n",
    "$$\n",
    "(A \\cdot B)^T = B^T \\cdot A^T\n",
    "$$\n",
    "\n"
   ]
  },
  {
   "cell_type": "markdown",
   "metadata": {
    "colab_type": "text",
    "id": "FJwhB08RCT1v"
   },
   "source": [
    "$$$$"
   ]
  },
  {
   "cell_type": "markdown",
   "metadata": {
    "colab_type": "text",
    "id": "Ge7bLA71CTlm"
   },
   "source": [
    "$$\n",
    "A = \\begin{pmatrix}\n",
    "1 & 0 \\\\\n",
    "2 & 3\n",
    "\\end{pmatrix}\n",
    "$$"
   ]
  },
  {
   "cell_type": "markdown",
   "metadata": {
    "colab_type": "text",
    "id": "TwP4WVUICaql"
   },
   "source": [
    "$$\n",
    "B = \\begin{pmatrix}\n",
    "5 & 0 \\\\\n",
    "6 & 7\n",
    "\\end{pmatrix}\n",
    "$$"
   ]
  },
  {
   "cell_type": "markdown",
   "metadata": {
    "colab_type": "text",
    "id": "2nAU1sRP-KkR"
   },
   "source": [
    "Допустим, нам нужно найти произведение нижне-треугольных матриц $A \\cdot B$.\n",
    "\n",
    "Очевидно, что $A^T$ и $B^T$ - верхне-треугольные матрицы. Тогда их произведение $B^T \\cdot A^T$ - также \n",
    "\n",
    "верхне-треугольная матрица (исходя из свойства верхне-треугольной матрицы).\n",
    "\n",
    " Значит, $(A \\cdot B)^T$ - тоже верхне-треугольная матрица. А так как $((A \\cdot B)^T)^T = A \\cdot B$, \n",
    " \n",
    " то $A \\cdot B$ - нижнетреугольная матрица, что и требовалось доказать."
   ]
  },
  {
   "cell_type": "markdown",
   "metadata": {
    "colab_type": "text",
    "id": "wHp_dArGAQUE"
   },
   "source": [
    "$$$$"
   ]
  },
  {
   "cell_type": "markdown",
   "metadata": {
    "colab_type": "text",
    "id": "KE-N-yJ--NGu"
   },
   "source": [
    "__Пример__ __10__\n",
    "\n",
    "\n",
    "$$\n",
    "A = \\begin{pmatrix}\n",
    "1 & 0 \\\\\n",
    "0 & -1\n",
    "\\end{pmatrix}\n",
    "$$"
   ]
  },
  {
   "cell_type": "markdown",
   "metadata": {
    "colab_type": "text",
    "id": "iWwLfn1u-MaC"
   },
   "source": [
    "a). Проверим матрицу $A$ на ортогональность:\n",
    "$$\n",
    "A \\cdot A^T = A^T \\cdot A = I\n",
    "$$"
   ]
  },
  {
   "cell_type": "markdown",
   "metadata": {
    "colab_type": "text",
    "id": "DJY_aItC-MWz"
   },
   "source": [
    "б). Проверим матрицу $A$ на симметричность:\n",
    "$$\n",
    "A = A^T\n",
    "$$"
   ]
  },
  {
   "cell_type": "markdown",
   "metadata": {
    "colab_type": "text",
    "id": "rfoFKr-A-MTP"
   },
   "source": [
    "__Пример__ __11__\n",
    "\n",
    "Является ли ортогональной матрица:\n",
    "\n",
    "$$\\begin{pmatrix}\n",
    "cos\\varphi & -sin\\varphi\\\\ \n",
    "sin \\varphi & cos\\varphi\n",
    "\\end{pmatrix}$$"
   ]
  }
 ],
 "metadata": {
  "colab": {
   "collapsed_sections": [],
   "name": "Lesson 2 - tasks in class-1.ipynb",
   "provenance": []
  },
  "kernelspec": {
   "display_name": "Python 3",
   "language": "python",
   "name": "python3"
  },
  "language_info": {
   "codemirror_mode": {
    "name": "ipython",
    "version": 3
   },
   "file_extension": ".py",
   "mimetype": "text/x-python",
   "name": "python",
   "nbconvert_exporter": "python",
   "pygments_lexer": "ipython3",
   "version": "3.8.1"
  }
 },
 "nbformat": 4,
 "nbformat_minor": 1
}
