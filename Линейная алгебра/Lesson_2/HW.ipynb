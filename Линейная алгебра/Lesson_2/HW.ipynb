{
 "cells": [
  {
   "cell_type": "markdown",
   "metadata": {},
   "source": [
    "1. Установить, какие произведения матриц 𝐴𝐵 и 𝐵𝐴\n",
    "\n",
    "определены, и найти размерности полученных матриц:\n",
    "\n",
    "а) 𝐴 — матрица 4×2, 𝐵 — матрица 4×2;"
   ]
  },
  {
   "cell_type": "markdown",
   "metadata": {},
   "source": [
    "𝐴𝐵 - невозможно\n",
    "BA - невозможно"
   ]
  },
  {
   "cell_type": "markdown",
   "metadata": {},
   "source": [
    "1. Установить, какие произведения матриц 𝐴𝐵 и 𝐵𝐴 определены, и найти размерности полученных матриц:\n",
    "\n",
    "б) 𝐴\n",
    "— матрица 2×5, 𝐵 — матрица 5×3;"
   ]
  },
  {
   "cell_type": "markdown",
   "metadata": {},
   "source": [
    "𝐴𝐵 - 2×3\n",
    "BA - невозможно"
   ]
  },
  {
   "cell_type": "markdown",
   "metadata": {},
   "source": [
    "__1.__ Установить, какие произведения матриц $AB$ и $BA$ определены, и найти размерности полученных матриц:\n",
    "    \n",
    "   в) $A$ — матрица $8\\times 3$, $B$ — матрица $3\\times 8$;"
   ]
  },
  {
   "cell_type": "markdown",
   "metadata": {},
   "source": [
    "$AB$ - $8\\times 8$\n",
    "\n",
    "$BA$ - $3\\times 3$"
   ]
  },
  {
   "cell_type": "markdown",
   "metadata": {},
   "source": [
    "__1.__ Установить, какие произведения матриц $AB$ и $BA$ определены, и найти размерности полученных матриц:\n",
    "    \n",
    "   г) $A$ — квадратная матрица $4\\times 4$, $B$ — квадратная матрица $4\\times 4$."
   ]
  },
  {
   "cell_type": "markdown",
   "metadata": {},
   "source": [
    "$AB$ — квадратная матрица $4\\times 4$\n",
    "\n",
    "$BA$ — квадратная матрица $4\\times 4$"
   ]
  },
  {
   "cell_type": "markdown",
   "metadata": {},
   "source": [
    "__2.__ Найти сумму и произведение матриц $A=\\begin{pmatrix}\n",
    "1 & -2\\\\ \n",
    "3 & 0\n",
    "\\end{pmatrix}$ и $B=\\begin{pmatrix}\n",
    "4 & -1\\\\ \n",
    "0 & 5\n",
    "\\end{pmatrix}.$"
   ]
  },
  {
   "cell_type": "markdown",
   "metadata": {},
   "source": [
    "$A+B$ = $\\begin{pmatrix}\n",
    "1+4 & -2-1\\\\ \n",
    "3+0 & 0+5\n",
    "\\end{pmatrix}$ \n",
    "=\n",
    "$\\begin{pmatrix}\n",
    "5 & -3\\\\ \n",
    "3 & 5\n",
    "\\end{pmatrix}$ \n",
    "\n",
    "$A*B$ = $\\begin{pmatrix}\n",
    "1*4-2*0 & -1*1-2*5\\\\ \n",
    "3*4+0*0 & -3*1+5*0\n",
    "\\end{pmatrix}$ \n",
    "=\n",
    "$\\begin{pmatrix}\n",
    "4 & -11\\\\ \n",
    "12 & -3\n",
    "\\end{pmatrix}$"
   ]
  },
  {
   "cell_type": "code",
   "execution_count": 1,
   "metadata": {},
   "outputs": [
    {
     "name": "stdout",
     "output_type": "stream",
     "text": [
      "[[ 5 -3]\n",
      " [ 3  5]]\n",
      "[[  4 -11]\n",
      " [ 12  -3]]\n"
     ]
    }
   ],
   "source": [
    "import numpy as np\n",
    "A = np.array([[1, -2], [3, 0]])\n",
    "B = np.array([[4, -1], [0, 5]])\n",
    "print(A + B)\n",
    "print(np.dot(A, B))"
   ]
  },
  {
   "cell_type": "markdown",
   "metadata": {},
   "source": [
    "__3.__ Из закономерностей сложения и умножения матриц на число можно сделать вывод, что матрицы одного размера образуют линейное пространство. Вычислить линейную комбинацию $3A-2B+4C$ для матриц $A=\\begin{pmatrix}\n",
    "1 & 7\\\\ \n",
    "3 & -6\n",
    "\\end{pmatrix}$, $B=\\begin{pmatrix}\n",
    "0 & 5\\\\ \n",
    "2 & -1\n",
    "\\end{pmatrix}$, $C=\\begin{pmatrix}\n",
    "2 & -4\\\\ \n",
    "1 & 1\n",
    "\\end{pmatrix}.$"
   ]
  },
  {
   "cell_type": "markdown",
   "metadata": {},
   "source": [
    "$3A$ = $\\begin{pmatrix}\n",
    "3 & 21\\\\ \n",
    "9 & -18\n",
    "\\end{pmatrix}$ \n",
    "\n",
    "$2B$ = $\\begin{pmatrix}\n",
    "0 & 10\\\\ \n",
    "4 & -2\n",
    "\\end{pmatrix}$ \n",
    "\n",
    "$4C$ = $\\begin{pmatrix}\n",
    "8 & -16\\\\ \n",
    "4 & 4\n",
    "\\end{pmatrix}$ \n",
    "\n",
    "$3A-2B+4C$ = $\\begin{pmatrix}\n",
    "11 & -5\\\\ \n",
    "9 & -12\n",
    "\\end{pmatrix}$ "
   ]
  },
  {
   "cell_type": "code",
   "execution_count": 2,
   "metadata": {},
   "outputs": [
    {
     "data": {
      "text/plain": [
       "array([[ 11,  -5],\n",
       "       [  9, -12]])"
      ]
     },
     "execution_count": 2,
     "metadata": {},
     "output_type": "execute_result"
    }
   ],
   "source": [
    "A = np.array([[1, 7], [3, -6]])\n",
    "B = np.array([[0, 5], [2, -1]])\n",
    "C = np.array([[2, -4], [1, 1]])\n",
    "3*A-2*B+4*C"
   ]
  },
  {
   "cell_type": "markdown",
   "metadata": {},
   "source": [
    "__4.__ Дана матрица $A=\\begin{pmatrix}\n",
    "4 & 1\\\\ \n",
    "5 & -2\\\\ \n",
    "2 & 3\n",
    "\\end{pmatrix}$.\n",
    "Вычислить $AA^{T}$ и $A^{T}A$."
   ]
  },
  {
   "cell_type": "markdown",
   "metadata": {},
   "source": [
    "$A^{T}=\\begin{pmatrix}\n",
    "4 & 5 & 2\\\\ \n",
    "1 & -2 & 3\\end{pmatrix}$"
   ]
  },
  {
   "cell_type": "markdown",
   "metadata": {},
   "source": [
    "$AA^{T}$ = \n",
    "$\\begin{pmatrix}\n",
    "4*4+1*1 & 4*5-1*2 & 4*2+1*3\\\\ \n",
    "5*4+-1*2 & 5*5+2*2 & 5*2-2*3\\\\ \n",
    "2*4+3*1 & 2*5-3*2 & 2*2+3*3\\end{pmatrix}$\n",
    "=$\\begin{pmatrix}\n",
    "17 & 18 & 11\\\\ \n",
    "18 & 29 & 4\\\\ \n",
    "11 & 4 & 13\\end{pmatrix}$\n",
    "\n",
    "$A^{T}A$ = \n",
    "$\\begin{pmatrix}\n",
    "4*4+5*5+2*2 & 4*1-5*2+2*3\\\\ \n",
    "1*4-5*2+3*2 & 1*1+2*2+3*3\\end{pmatrix}$\n",
    "= \n",
    "$\\begin{pmatrix}\n",
    "45 & 0\\\\ \n",
    "0 & 14\\end{pmatrix}$"
   ]
  },
  {
   "cell_type": "code",
   "execution_count": 3,
   "metadata": {},
   "outputs": [
    {
     "data": {
      "text/plain": [
       "array([[ 4,  5,  2],\n",
       "       [ 1, -2,  3]])"
      ]
     },
     "execution_count": 3,
     "metadata": {},
     "output_type": "execute_result"
    }
   ],
   "source": [
    "A = np.array([[4, 1], [5, -2], [2, 3]])\n",
    "A.T"
   ]
  },
  {
   "cell_type": "code",
   "execution_count": 4,
   "metadata": {},
   "outputs": [
    {
     "name": "stdout",
     "output_type": "stream",
     "text": [
      "[[17 18 11]\n",
      " [18 29  4]\n",
      " [11  4 13]]\n",
      "[[45  0]\n",
      " [ 0 14]]\n"
     ]
    }
   ],
   "source": [
    "print(A@A.T)\n",
    "print(A.T@A)"
   ]
  },
  {
   "cell_type": "markdown",
   "metadata": {},
   "source": [
    "__5*.__ Написать на Python функцию для перемножения двух произвольных матриц, не используя NumPy."
   ]
  },
  {
   "cell_type": "code",
   "execution_count": 5,
   "metadata": {},
   "outputs": [],
   "source": [
    "def dotmatrix(A, B):\n",
    " \n",
    "    if (len(A) != len(B[0])) or len(A) == 0 or len(B) == 0:\n",
    "        return None\n",
    " \n",
    "    result = [[0] * len(B[0]) for i in range(len(A))]\n",
    "    \n",
    "    for i in range(len(A)):\n",
    "        for j in range(len(B[0])):\n",
    "            for k in range(len(B)):\n",
    "                result[i][j] += A[i][k] * B[k][j]\n",
    "    return result"
   ]
  },
  {
   "cell_type": "code",
   "execution_count": 6,
   "metadata": {},
   "outputs": [
    {
     "data": {
      "text/plain": [
       "[[4, -11], [12, -3]]"
      ]
     },
     "execution_count": 6,
     "metadata": {},
     "output_type": "execute_result"
    }
   ],
   "source": [
    "A = [[1, -2], \n",
    "     [3, 0]]\n",
    "\n",
    "B = [[4, -1], \n",
    "     [0, 5]]\n",
    "\n",
    "res = dotmatrix(A, B)\n",
    "res"
   ]
  },
  {
   "cell_type": "code",
   "execution_count": 7,
   "metadata": {},
   "outputs": [
    {
     "data": {
      "text/plain": [
       "[[17, 18, 11], [18, 29, 4], [11, 4, 13]]"
      ]
     },
     "execution_count": 7,
     "metadata": {},
     "output_type": "execute_result"
    }
   ],
   "source": [
    "A = [[4, 1], [5, -2], [2, 3]]\n",
    "B = [[ 4,  5,  2], [ 1, -2,  3]]\n",
    "\n",
    "res = dotmatrix(A, B)\n",
    "res"
   ]
  },
  {
   "cell_type": "code",
   "execution_count": 8,
   "metadata": {},
   "outputs": [
    {
     "data": {
      "text/plain": [
       "[[45, 0], [0, 14]]"
      ]
     },
     "execution_count": 8,
     "metadata": {},
     "output_type": "execute_result"
    }
   ],
   "source": [
    "res = dotmatrix(B, A)\n",
    "res"
   ]
  },
  {
   "cell_type": "markdown",
   "metadata": {},
   "source": [
    "__1.__ Вычислить определитель:\n",
    "\n",
    "   a)\n",
    "\n",
    "$$\\begin{vmatrix}\n",
    "sinx & -cosx\\\\ \n",
    "cosx & sinx\n",
    "\\end{vmatrix};$$\n"
   ]
  },
  {
   "cell_type": "markdown",
   "metadata": {},
   "source": [
    "$\\begin{vmatrix}\n",
    "sinx & -cosx\\\\ \n",
    "cosx & sinx\n",
    "\\end{vmatrix}$ \n",
    "=\n",
    "$sinx*sinx - (-cosx)*cosx$ =1"
   ]
  },
  {
   "cell_type": "markdown",
   "metadata": {},
   "source": [
    "__1.__ Вычислить определитель:\n",
    "\n",
    "   б)\n",
    "    \n",
    "$$\\begin{vmatrix}\n",
    "4 & 2 & 3\\\\ \n",
    "0 & 5 & 1\\\\ \n",
    "0 & 0 & 9\n",
    "\\end{vmatrix};$$"
   ]
  },
  {
   "cell_type": "markdown",
   "metadata": {},
   "source": [
    "$\\begin{vmatrix}\n",
    "4 & 2 & 3\\\\ \n",
    "0 & 5 & 1\\\\ \n",
    "0 & 0 & 9\n",
    "\\end{vmatrix}$\n",
    "=$4 * 5 * 9$=$180$"
   ]
  },
  {
   "cell_type": "code",
   "execution_count": 9,
   "metadata": {},
   "outputs": [
    {
     "data": {
      "text/plain": [
       "180.0"
      ]
     },
     "execution_count": 9,
     "metadata": {},
     "output_type": "execute_result"
    }
   ],
   "source": [
    "A = [[4, 2, 3],\n",
    "     [0, 5, 1],\n",
    "     [0, 0, 9]]\n",
    "np.linalg.det(A)"
   ]
  },
  {
   "cell_type": "markdown",
   "metadata": {},
   "source": [
    "__1.__ Вычислить определитель:\n",
    "в)\n",
    "$$\\begin{vmatrix}\n",
    "1 & 2 & 3\\\\ \n",
    "4 & 5 & 6\\\\ \n",
    "7 & 8 & 9\n",
    "\\end{vmatrix}.$$"
   ]
  },
  {
   "cell_type": "markdown",
   "metadata": {},
   "source": [
    "$\\begin{vmatrix}\n",
    "1 & 2 & 3\\\\ \n",
    "4 & 5 & 6\\\\ \n",
    "7 & 8 & 9\n",
    "\\end{vmatrix}$\n",
    "=\n",
    "$\\begin{vmatrix}\n",
    "1 & 2 & 3\\\\ \n",
    "2 & 1 & 0\\\\ \n",
    "7 & 8 & 9\n",
    "\\end{vmatrix}$\n",
    "=\n",
    "$(-1)^{2+1}*2*$$\\begin{vmatrix}\n",
    "2 & 3\\\\\n",
    "8 & 9\n",
    "\\end{vmatrix}$\n",
    "+\n",
    "$(-1)^{2+2}*1*$$\\begin{vmatrix}\n",
    "1 & 3\\\\\n",
    "7 & 9\n",
    "\\end{vmatrix}$\n",
    "+\n",
    "$0$\n",
    "=\n",
    "$-2*(18-24) + 1*(9-21)$\n",
    "=$0$"
   ]
  },
  {
   "cell_type": "code",
   "execution_count": 10,
   "metadata": {},
   "outputs": [
    {
     "data": {
      "text/plain": [
       "6.66133814775094e-16"
      ]
     },
     "execution_count": 10,
     "metadata": {},
     "output_type": "execute_result"
    }
   ],
   "source": [
    "A = [[1, 2, 3],\n",
    "     [4, 5, 6],\n",
    "     [7, 8, 9]]\n",
    "np.linalg.det(A)"
   ]
  },
  {
   "cell_type": "markdown",
   "metadata": {},
   "source": [
    "__2.__ Определитель матрицы $A$ равен $4$. Найти:\n",
    "\n",
    "   а) $det(A^{2})$;"
   ]
  },
  {
   "cell_type": "markdown",
   "metadata": {},
   "source": [
    "__9.__ Для двух квадратных матриц одинакового размера\n",
    "\n",
    "$$det(AB)=detA\\cdot detB.$$\n",
    "\n",
    "$det(A^{2}) = 16$;"
   ]
  },
  {
   "cell_type": "markdown",
   "metadata": {},
   "source": [
    "__2.__ Определитель матрицы $A$ равен $4$. Найти:\n",
    "    \n",
    "   б) $det(A^{T})$;"
   ]
  },
  {
   "cell_type": "markdown",
   "metadata": {},
   "source": [
    "__1.__ Определитель транспонированной матрицы равен определителю исходной:\n",
    "\n",
    "$$detA^{T}=detA.$$\n",
    "$det(A^{T})=4$"
   ]
  },
  {
   "cell_type": "markdown",
   "metadata": {},
   "source": [
    "__2.__ Определитель матрицы $A$ равен $4$. Найти:\n",
    "    \n",
    "   в) $det(2A)$."
   ]
  },
  {
   "cell_type": "markdown",
   "metadata": {},
   "source": [
    "Первое опорное правило:\n",
    "\n",
    "Умножение матрицы на число происходит так же просто, как и сложение: _произведением матрицы_ $A=\\left\\|a_{ij}\\right\\|$ на число $\\lambda$ является матрица $C = \\left\\|c_{ij}\\right\\|$, элементы которой $c_{ij}=\\lambda a_{ij}$, то есть каждый элемент матрицы умножается на число $\\lambda$:\n",
    "\n",
    "$$\\lambda\\cdot\\begin{pmatrix}\n",
    "a_{11} & a_{12} & \\cdots & a_{1n}\\\\ \n",
    "a_{21} & a_{22} & \\cdots & a_{2n}\\\\  \n",
    "\\cdots & \\cdots & \\ddots & \\cdots \\\\ \n",
    "a_{m1} & a_{m2} & \\cdots & a_{mn}\\\\ \n",
    "\\end{pmatrix}=\n",
    "\\begin{pmatrix}\n",
    "\\lambda a_{11} & \\lambda a_{12} & \\cdots & \\lambda a_{1n}\\\\ \n",
    "\\lambda a_{21} & \\lambda a_{22} & \\cdots & \\lambda a_{2n}\\\\  \n",
    "\\cdots & \\cdots & \\ddots & \\cdots \\\\ \n",
    "\\lambda a_{m1} & \\lambda a_{m2} & \\cdots & \\lambda a_{mn}\\\\ \n",
    "\\end{pmatrix}.$$\n",
    "\n",
    "Второе опорное правило:\n",
    "\n",
    "__2.__ Умножение строки или столбца матрицы на число $\\lambda$ приведет к умножению определителя матрицы на то же число. \n",
    "\n",
    "- Доказательство этого свойства элементарно, так как, исходя из формулы определителя, множитель из этой строки будет в каждом из слагаемых при нахождении определителя разложением по этой строке/столбцу, что равнозначно его умножению на это число.\n",
    "\n",
    "Для квадратной матрицы размером $n$\n",
    "\n",
    "$det(2A)$ = $det(A) *2^{n}$"
   ]
  },
  {
   "cell_type": "markdown",
   "metadata": {},
   "source": [
    "__3.__  Доказать, что матрица\n",
    "\n",
    "$$\\begin{pmatrix}\n",
    "-2 & 7 & -3\\\\ \n",
    "4 & -14 & 6\\\\ \n",
    "-3 & 7 & 13\n",
    "\\end{pmatrix}$$\n",
    "   \n",
    "вырожденная."
   ]
  },
  {
   "cell_type": "markdown",
   "metadata": {},
   "source": [
    "Первую строку $*2$ и прибавить ко второй\n",
    "\n",
    "$\\begin{pmatrix}\n",
    "-2 & 7 & -3\\\\ \n",
    "4 & -14 & 6\\\\ \n",
    "-3 & 7 & 13\n",
    "\\end{pmatrix}$\n",
    "=\n",
    "$\\begin{pmatrix}\n",
    "-2 & 7 & -3\\\\ \n",
    "0 & 0 & 0\\\\ \n",
    "-3 & 7 & 13\n",
    "\\end{pmatrix}$\n",
    "\n",
    "__6.__ Если две строки (столбца) матрицы линейно зависимы, то определитель этой матрицы равен нулю.\n",
    "\n",
    "$$det\\begin{vmatrix}\n",
    "-2 & 7 & -3\\\\ \n",
    "0 & 0 & 0\\\\ \n",
    "-3 & 7 & 13\n",
    "\\end{vmatrix}=0$$"
   ]
  },
  {
   "cell_type": "code",
   "execution_count": 11,
   "metadata": {},
   "outputs": [
    {
     "data": {
      "text/plain": [
       "0.0"
      ]
     },
     "execution_count": 11,
     "metadata": {},
     "output_type": "execute_result"
    }
   ],
   "source": [
    "A = [[-2, 7, -3],\n",
    "     [4, -14, 6],\n",
    "     [-3, 7, 13]]\n",
    "np.linalg.det(A)"
   ]
  },
  {
   "cell_type": "markdown",
   "metadata": {},
   "source": [
    "__4.__ Найти ранг матрицы:\n",
    "\n",
    "   а) $\\begin{pmatrix}\n",
    "1 & 2 & 3\\\\ \n",
    "1 & 1 & 1\\\\ \n",
    "2 & 3 & 4\n",
    "\\end{pmatrix};$"
   ]
  },
  {
   "cell_type": "markdown",
   "metadata": {},
   "source": [
    "3 строка является суммой 1 и 2 строк, а значит, ее можно отбросить:\n",
    "\n",
    "$\\begin{pmatrix}\n",
    "1 & 2 & 3\\\\ \n",
    "1 & 1 & 1\n",
    "\\end{pmatrix};$\n",
    "\n",
    "Из 1 строки вычтем 2:\n",
    "\n",
    "$\\begin{pmatrix}\n",
    "0 & 1 & 2\\\\ \n",
    "1 & 1 & 1\n",
    "\\end{pmatrix};$\n",
    "\n",
    "Таким образом, ранг матрицы равен $2$."
   ]
  },
  {
   "cell_type": "code",
   "execution_count": 12,
   "metadata": {},
   "outputs": [
    {
     "data": {
      "text/plain": [
       "2"
      ]
     },
     "execution_count": 12,
     "metadata": {},
     "output_type": "execute_result"
    }
   ],
   "source": [
    "A = [[1, 2, 3],\n",
    "     [1, 1, 1],\n",
    "     [2, 3, 4]]\n",
    "np.linalg.matrix_rank(A)"
   ]
  },
  {
   "cell_type": "markdown",
   "metadata": {},
   "source": [
    "__4.__ Найти ранг матрицы:\n",
    "\n",
    "   б) $\\begin{pmatrix}\n",
    "0 & 0 & 2 & 1\\\\ \n",
    "0 & 0 & 2 & 2\\\\ \n",
    "0 & 0 & 4 & 3\\\\ \n",
    "2 & 3 & 5 & 6\n",
    "\\end{pmatrix}.$"
   ]
  },
  {
   "cell_type": "markdown",
   "metadata": {},
   "source": [
    "3 строка является суммой 1 и 2 строк, а значит, ее можно отбросить:\n",
    "\n",
    "$\\begin{pmatrix}\n",
    "0 & 0 & 2 & 1\\\\ \n",
    "0 & 0 & 2 & 2\\\\ \n",
    "2 & 3 & 5 & 6\n",
    "\\end{pmatrix}.$\n",
    "\n",
    "Из 1 строки вычтем 2 строку, $*-1$:\n",
    "\n",
    "$\\begin{pmatrix}\n",
    "0 & 0 & 0 & -1\\\\ \n",
    "0 & 0 & 2 & 2\\\\ \n",
    "2 & 3 & 5 & 6\n",
    "\\end{pmatrix}.$\n",
    "\n",
    "Таким образом, ранг матрицы равен $3$."
   ]
  },
  {
   "cell_type": "code",
   "execution_count": 13,
   "metadata": {},
   "outputs": [
    {
     "data": {
      "text/plain": [
       "3"
      ]
     },
     "execution_count": 13,
     "metadata": {},
     "output_type": "execute_result"
    }
   ],
   "source": [
    "A = [[0, 0, 2, 1],\n",
    "     [0, 0, 2, 2],\n",
    "     [0, 0, 4, 3],\n",
    "     [2, 3, 5, 6]]\n",
    "np.linalg.matrix_rank(A)"
   ]
  },
  {
   "cell_type": "code",
   "execution_count": null,
   "metadata": {},
   "outputs": [],
   "source": []
  }
 ],
 "metadata": {
  "kernelspec": {
   "display_name": "Python 3",
   "language": "python",
   "name": "python3"
  },
  "language_info": {
   "codemirror_mode": {
    "name": "ipython",
    "version": 3
   },
   "file_extension": ".py",
   "mimetype": "text/x-python",
   "name": "python",
   "nbconvert_exporter": "python",
   "pygments_lexer": "ipython3",
   "version": "3.7.3"
  }
 },
 "nbformat": 4,
 "nbformat_minor": 4
}
