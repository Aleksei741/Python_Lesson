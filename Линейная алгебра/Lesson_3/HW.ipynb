{
 "cells": [
  {
   "cell_type": "markdown",
   "metadata": {},
   "source": [
    "1. Найти собственные векторы и собственные значения для линейного оператора, заданного матрицей\n",
    "\n",
    "$$A=\\begin{pmatrix} -1 & -6\\\\ 2 & 6 \\end{pmatrix}.$$"
   ]
  },
  {
   "cell_type": "markdown",
   "metadata": {},
   "source": [
    "Тсобственные значения линейного оператора\n",
    "\n",
    "$$\\begin{vmatrix}\n",
    "-1-\\lambda & -6\\\\ \n",
    "2 & 6-\\lambda\n",
    "\\end{vmatrix} = 0,$$\n",
    "\n",
    "$$(-1-\\lambda)(6-\\lambda)-(-6)\\cdot2=0,$$\n",
    "\n",
    "$$\\lambda^{2}-5\\cdot\\lambda+6=0,$$\n",
    "\n",
    "$$\\lambda_{1}=2$$   $$\\lambda_{2}=3.$$"
   ]
  },
  {
   "cell_type": "markdown",
   "metadata": {},
   "source": [
    "$\\begin{pmatrix} -1 & -6\\\\ 2 & 6 \\end{pmatrix}$ $\\cdot$ $\\begin{pmatrix} х_1 \\\\ х_2 \\end{pmatrix}$\n",
    "= $\\lambda$ $\\cdot$ $\\begin{pmatrix} х_1 \\\\ х_2 \\end{pmatrix}$"
   ]
  },
  {
   "cell_type": "markdown",
   "metadata": {},
   "source": [
    "$\\begin{pmatrix} -1 & -6\\\\ 2 & 6 \\end{pmatrix}$ $\\cdot$ $\\begin{pmatrix} х_1 \\\\ х_2 \\end{pmatrix}$\n",
    "=  $\\begin{pmatrix} 2\\cdotх_1 \\\\ 2\\cdotх_2 \\end{pmatrix}$\n",
    "\n",
    "$$\\begin{cases}\n",
    "-1 \\cdot x_{1}+ -6 \\cdot x_{2}= 2 \\cdot x_{1}, \\\\\n",
    "2 \\cdot x_{1}+6 \\cdot x_{2}= 2 \\cdot x_{2}.\n",
    "\\end{cases}$$ \n",
    "\n",
    "$$ x_{1} = -2 \\cdot x_{2} $$ "
   ]
  },
  {
   "cell_type": "markdown",
   "metadata": {},
   "source": [
    "$\\begin{pmatrix} -1 & -6\\\\ 2 & 6 \\end{pmatrix}$ $\\cdot$ $\\begin{pmatrix} х_1 \\\\ х_2 \\end{pmatrix}$\n",
    "=  $\\begin{pmatrix} 3\\cdotх_1 \\\\ 3\\cdotх_2 \\end{pmatrix}$\n",
    "\n",
    "$$\\begin{cases}\n",
    "-1 \\cdot x_{1}+ -6 \\cdot x_{2}= 3 \\cdot x_{1}, \\\\\n",
    "2 \\cdot x_{1}+6 \\cdot x_{2}= 3 \\cdot x_{2}.\n",
    "\\end{cases}$$ \n",
    "\n",
    "$$\\begin{cases}\n",
    "-6 \\cdot x_{2}= 4 \\cdot x_{1}, \\\\\n",
    "3 \\cdot x_{2}= -2 \\cdot x_{1}.\n",
    "\\end{cases}$$ \n",
    "\n",
    "$$x_{1} = -\\frac{3}{2} \\cdot x_{2}$$"
   ]
  },
  {
   "cell_type": "markdown",
   "metadata": {},
   "source": [
    "$x=$ \n",
    "$\\begin{pmatrix} -2 & -\\frac{3}{2}\\\\ 1 & 1 \\end{pmatrix} $"
   ]
  },
  {
   "cell_type": "code",
   "execution_count": 1,
   "metadata": {},
   "outputs": [
    {
     "name": "stdout",
     "output_type": "stream",
     "text": [
      "Матрица A:\n",
      "[[-1 -6]\n",
      " [ 2  6]]\n",
      "Собственные значения:\n",
      "[2. 3.]\n",
      "Собственные векторы:\n",
      "[[-0.89442719  0.83205029]\n",
      " [ 0.4472136  -0.5547002 ]]\n"
     ]
    }
   ],
   "source": [
    "import numpy as np\n",
    "A = np.array([\n",
    "    [-1, -6], \n",
    "    [2, 6]\n",
    "])\n",
    "w, v = np.linalg.eig(A)\n",
    "\n",
    "print(f'Матрица A:\\n{A}')\n",
    "print(f'Собственные значения:\\n{w}')\n",
    "print(f'Собственные векторы:\\n{v}')\n",
    "\n"
   ]
  },
  {
   "cell_type": "markdown",
   "metadata": {},
   "source": [
    "__2.__ Дан оператор поворота на 180 градусов, задаваемый матрицей \n",
    "\n",
    "$$A=\\begin{pmatrix}\n",
    "-1 & 0\\\\ \n",
    "0 & -1\n",
    "\\end{pmatrix}.$$\n",
    "\n",
    "Показать, что __любой__ вектор является для него собственным."
   ]
  },
  {
   "cell_type": "markdown",
   "metadata": {},
   "source": [
    "собственные значения линейного оператора\n",
    "\n",
    "$$\\begin{vmatrix}\n",
    "-1-\\lambda & 0\\\\ \n",
    "0 & -1-\\lambda\n",
    "\\end{vmatrix} = 0,$$\n",
    "\n",
    "$$(-1-\\lambda)(-1-\\lambda)-0=0,$$\n",
    "\n",
    "$$\\lambda=-1$$"
   ]
  },
  {
   "cell_type": "markdown",
   "metadata": {},
   "source": [
    "$\\begin{pmatrix} -1 & 0\\\\ 0 & -1 \\end{pmatrix}$ $\\cdot$ $\\begin{pmatrix} х_1 \\\\ х_2 \\end{pmatrix}$\n",
    "= $\\lambda$ $\\cdot$ $\\begin{pmatrix} х_1 \\\\ х_2 \\end{pmatrix}$"
   ]
  },
  {
   "cell_type": "markdown",
   "metadata": {},
   "source": [
    "$\\begin{pmatrix} -1 & 0\\\\ 0 & -1 \\end{pmatrix}$ $\\cdot$ $\\begin{pmatrix} х_1 \\\\ х_2 \\end{pmatrix}$\n",
    "=  $\\begin{pmatrix} -х_1 \\\\ -х_2 \\end{pmatrix}$"
   ]
  },
  {
   "cell_type": "markdown",
   "metadata": {},
   "source": [
    "$$\\begin{cases}\n",
    "-1 \\cdot x_{1} = -x_{1}, \\\\\n",
    "-1 \\cdot x_{2}= -x_{2}.\n",
    "\\end{cases}$$ "
   ]
  },
  {
   "cell_type": "markdown",
   "metadata": {},
   "source": [
    "__любой__ вектор является для него собственным."
   ]
  },
  {
   "cell_type": "code",
   "execution_count": 2,
   "metadata": {},
   "outputs": [
    {
     "name": "stdout",
     "output_type": "stream",
     "text": [
      "Матрица A:\n",
      "[[-1  0]\n",
      " [ 0 -1]]\n",
      "Собственные значения:\n",
      "[-1. -1.]\n",
      "Собственные векторы:\n",
      "[[1. 0.]\n",
      " [0. 1.]]\n"
     ]
    }
   ],
   "source": [
    "A = np.array([\n",
    "    [-1, 0], \n",
    "    [0, -1]\n",
    "])\n",
    "w, v = np.linalg.eig(A)\n",
    "\n",
    "print(f'Матрица A:\\n{A}')\n",
    "print(f'Собственные значения:\\n{w}')\n",
    "print(f'Собственные векторы:\\n{v}')"
   ]
  },
  {
   "cell_type": "markdown",
   "metadata": {},
   "source": [
    "__3.__ Пусть линейный оператор задан матрицей\n",
    "\n",
    "$$A=\\begin{pmatrix}\n",
    "1 & 1\\\\ \n",
    "-1 & 3\n",
    "\\end{pmatrix}.$$\n",
    "\n",
    "Установить, является ли вектор $x=(1,1)$ собственным вектором этого линейного оператора."
   ]
  },
  {
   "cell_type": "markdown",
   "metadata": {},
   "source": [
    "$\\begin{pmatrix} 1 & 1\\\\ -1 & 3 \\end{pmatrix}$ $\\cdot$ $\\begin{pmatrix} 1 \\\\ 1 \\end{pmatrix}$\n",
    "= $\\lambda$ $\\cdot$ $\\begin{pmatrix} 1 \\\\ 1 \\end{pmatrix}$"
   ]
  },
  {
   "cell_type": "markdown",
   "metadata": {},
   "source": [
    "$\\begin{pmatrix} 1 & 1\\\\ -1 & 3 \\end{pmatrix}$ $\\cdot$ $\\begin{pmatrix} 1 \\\\ 1 \\end{pmatrix}$\n",
    "= $\\begin{pmatrix} \\lambda \\\\ \\lambda \\end{pmatrix}$"
   ]
  },
  {
   "cell_type": "markdown",
   "metadata": {},
   "source": [
    "$$\\begin{cases}\n",
    "1 + 1 = \\lambda, \\\\\n",
    "-1 + 3 = \\lambda.\n",
    "\\end{cases}$$ "
   ]
  },
  {
   "cell_type": "markdown",
   "metadata": {},
   "source": [
    "$$\\lambda = 2$$"
   ]
  },
  {
   "cell_type": "markdown",
   "metadata": {},
   "source": [
    "да"
   ]
  },
  {
   "cell_type": "markdown",
   "metadata": {},
   "source": [
    "__4.__ Пусть линейный оператор задан матрицей\n",
    "\n",
    "$$A=\\begin{pmatrix}\n",
    "0 & 3 & 0\\\\ \n",
    "3 & 0 & 0\\\\\n",
    "0 & 0 & 3\n",
    "\\end{pmatrix}.$$\n",
    "\n",
    "Установить, является ли вектор $x=(3, -3, -4)$ собственным вектором этого линейного оператора."
   ]
  },
  {
   "cell_type": "markdown",
   "metadata": {},
   "source": [
    "$\\begin{pmatrix}\n",
    "0 & 3 & 0\\\\ \n",
    "3 & 0 & 0\\\\\n",
    "0 & 0 & 3\n",
    "\\end{pmatrix}$\n",
    "$\\cdot$\n",
    "$\\begin{pmatrix} 3 \\\\ -3 \\\\ -4 \\end{pmatrix}$\n",
    "$=$\n",
    "$\\begin{pmatrix} 3\\cdot \\lambda \\\\ -3\\cdot \\lambda \\\\ -4\\cdot \\lambda \\end{pmatrix}$"
   ]
  },
  {
   "cell_type": "markdown",
   "metadata": {},
   "source": [
    "$$\\begin{cases}\n",
    "-3 \\cdot 3 = 3 \\cdot \\lambda, \\\\\n",
    "3 \\cdot 3= -3 \\cdot \\lambda, \\\\\n",
    "-4 \\cdot 3= -4 \\cdot \\lambda.\n",
    "\\end{cases}$$ "
   ]
  },
  {
   "cell_type": "markdown",
   "metadata": {},
   "source": [
    "$$\\begin{cases}\n",
    "-3 = \\lambda, \\\\\n",
    "-3 = \\lambda, \\\\\n",
    "3=  \\lambda.\n",
    "\\end{cases}$$ "
   ]
  },
  {
   "cell_type": "markdown",
   "metadata": {},
   "source": [
    "Нет"
   ]
  },
  {
   "cell_type": "code",
   "execution_count": null,
   "metadata": {},
   "outputs": [],
   "source": []
  }
 ],
 "metadata": {
  "kernelspec": {
   "display_name": "Python 3",
   "language": "python",
   "name": "python3"
  },
  "language_info": {
   "codemirror_mode": {
    "name": "ipython",
    "version": 3
   },
   "file_extension": ".py",
   "mimetype": "text/x-python",
   "name": "python",
   "nbconvert_exporter": "python",
   "pygments_lexer": "ipython3",
   "version": "3.8.1"
  }
 },
 "nbformat": 4,
 "nbformat_minor": 4
}
