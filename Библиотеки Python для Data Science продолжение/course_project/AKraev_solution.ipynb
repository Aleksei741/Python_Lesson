{
 "cells": [
  {
   "cell_type": "markdown",
   "metadata": {},
   "source": [
    "**Задача**\n",
    "\n",
    "Требуется, на основании имеющихся данных о клиентах банка, построить модель, используя обучающий датасет, для прогнозирования невыполнения долговых обязательств по текущему кредиту. Выполнить прогноз для примеров из тестового датасета.\n",
    "\n",
    "**Наименование файлов с данными**\n",
    "\n",
    "course_project_train.csv - обучающий датасет<br>\n",
    "course_project_test.csv - тестовый датасет\n",
    "\n",
    "**Целевая переменная**\n",
    "\n",
    "Credit Default - факт невыполнения кредитных обязательств\n",
    "\n",
    "**Метрика качества**\n",
    "\n",
    "F1-score (sklearn.metrics.f1_score)\n",
    "\n",
    "**Требования к решению**\n",
    "\n",
    "*Целевая метрика*\n",
    "* F1 > 0.5\n",
    "* Метрика оценивается по качеству прогноза для главного класса (1 - просрочка по кредиту)\n",
    "\n",
    "*Решение должно содержать*\n",
    "1. Тетрадка Jupyter Notebook с кодом Вашего решения, названная по образцу {ФИО}\\_solution.ipynb, пример SShirkin\\_solution.ipynb\n",
    "2. Файл CSV с прогнозами целевой переменной для тестового датасета, названный по образцу {ФИО}\\_predictions.csv, пример SShirkin\\_predictions.csv\n",
    "\n",
    "*Рекомендации для файла с кодом (ipynb)*\n",
    "1. Файл должен содержать заголовки и комментарии (markdown)\n",
    "2. Повторяющиеся операции лучше оформлять в виде функций\n",
    "3. Не делать вывод большого количества строк таблиц (5-10 достаточно)\n",
    "4. По возможности добавлять графики, описывающие данные (около 3-5)\n",
    "5. Добавлять только лучшую модель, то есть не включать в код все варианты решения проекта\n",
    "6. Скрипт проекта должен отрабатывать от начала и до конца (от загрузки данных до выгрузки предсказаний)\n",
    "7. Весь проект должен быть в одном скрипте (файл ipynb).\n",
    "8. Допускается применение библиотек Python и моделей машинного обучения, которые были в данном курсе.\n",
    "\n",
    "**Сроки сдачи**\n",
    "\n",
    "Cдать проект нужно в течение 5 дней после окончания последнего вебинара.\n",
    "Оценки работ, сданных до дедлайна, будут представлены в виде рейтинга, ранжированного по заданной метрике качества.\n",
    "Проекты, сданные после дедлайна или сданные повторно, не попадают в рейтинг, но можно будет узнать результат."
   ]
  },
  {
   "cell_type": "markdown",
   "metadata": {},
   "source": [
    "**Описание датасета**\n",
    "\n",
    "* **Home Ownership** - домовладение\n",
    "* **Annual Income** - годовой доход\n",
    "* **Years in current job** - количество лет на текущем месте работы\n",
    "* **Tax Liens** - налоговые обременения\n",
    "* **Number of Open Accounts** - количество открытых счетов\n",
    "* **Years of Credit History** - количество лет кредитной истории\n",
    "* **Maximum Open Credit** - наибольший открытый кредит\n",
    "* **Number of Credit Problems** - количество проблем с кредитом\n",
    "* **Months since last delinquent** - количество месяцев с последней просрочки платежа\n",
    "* **Bankruptcies** - банкротства\n",
    "* **Purpose** - цель кредита\n",
    "* **Term** - срок кредита\n",
    "* **Current Loan Amount** - текущая сумма кредита\n",
    "* **Current Credit Balance** - текущий кредитный баланс\n",
    "* **Monthly Debt** - ежемесячный долг\n",
    "* **Credit Score** - кредитный рейтинг: бальная оценка клиента\n",
    "* **Credit Default** - факт невыполнения кредитных обязательств (0 - погашен вовремя, 1 - просрочка)"
   ]
  },
  {
   "cell_type": "code",
   "execution_count": 38,
   "metadata": {},
   "outputs": [],
   "source": [
    "import numpy as np\n",
    "import pandas as pd\n",
    "\n",
    "import seaborn as sns\n",
    "from matplotlib import pyplot as plt\n",
    "%matplotlib inline\n",
    "from scipy.stats import probplot\n",
    "\n",
    "from scipy.stats import shapiro"
   ]
  },
  {
   "cell_type": "code",
   "execution_count": 2,
   "metadata": {},
   "outputs": [],
   "source": [
    "TRAIN_DATASET_PATH = 'course_project_train.csv'\n",
    "TEST_DATASET_PATH = 'course_project_test.csv'"
   ]
  },
  {
   "cell_type": "code",
   "execution_count": 3,
   "metadata": {},
   "outputs": [
    {
     "name": "stdout",
     "output_type": "stream",
     "text": [
      "<class 'pandas.core.frame.DataFrame'>\n",
      "RangeIndex: 7500 entries, 0 to 7499\n",
      "Data columns (total 17 columns):\n",
      " #   Column                        Non-Null Count  Dtype  \n",
      "---  ------                        --------------  -----  \n",
      " 0   Home Ownership                7500 non-null   object \n",
      " 1   Annual Income                 5943 non-null   float64\n",
      " 2   Years in current job          7129 non-null   object \n",
      " 3   Tax Liens                     7500 non-null   float64\n",
      " 4   Number of Open Accounts       7500 non-null   float64\n",
      " 5   Years of Credit History       7500 non-null   float64\n",
      " 6   Maximum Open Credit           7500 non-null   float64\n",
      " 7   Number of Credit Problems     7500 non-null   float64\n",
      " 8   Months since last delinquent  3419 non-null   float64\n",
      " 9   Bankruptcies                  7486 non-null   float64\n",
      " 10  Purpose                       7500 non-null   object \n",
      " 11  Term                          7500 non-null   object \n",
      " 12  Current Loan Amount           7500 non-null   float64\n",
      " 13  Current Credit Balance        7500 non-null   float64\n",
      " 14  Monthly Debt                  7500 non-null   float64\n",
      " 15  Credit Score                  5943 non-null   float64\n",
      " 16  Credit Default                7500 non-null   int64  \n",
      "dtypes: float64(12), int64(1), object(4)\n",
      "memory usage: 879.0+ KB\n"
     ]
    }
   ],
   "source": [
    "df_train = pd.read_csv(TRAIN_DATASET_PATH)\n",
    "df_train.info()"
   ]
  },
  {
   "cell_type": "code",
   "execution_count": 4,
   "metadata": {},
   "outputs": [
    {
     "name": "stdout",
     "output_type": "stream",
     "text": [
      "<class 'pandas.core.frame.DataFrame'>\n",
      "RangeIndex: 2500 entries, 0 to 2499\n",
      "Data columns (total 16 columns):\n",
      " #   Column                        Non-Null Count  Dtype  \n",
      "---  ------                        --------------  -----  \n",
      " 0   Home Ownership                2500 non-null   object \n",
      " 1   Annual Income                 1987 non-null   float64\n",
      " 2   Years in current job          2414 non-null   object \n",
      " 3   Tax Liens                     2500 non-null   float64\n",
      " 4   Number of Open Accounts       2500 non-null   float64\n",
      " 5   Years of Credit History       2500 non-null   float64\n",
      " 6   Maximum Open Credit           2500 non-null   float64\n",
      " 7   Number of Credit Problems     2500 non-null   float64\n",
      " 8   Months since last delinquent  1142 non-null   float64\n",
      " 9   Bankruptcies                  2497 non-null   float64\n",
      " 10  Purpose                       2500 non-null   object \n",
      " 11  Term                          2500 non-null   object \n",
      " 12  Current Loan Amount           2500 non-null   float64\n",
      " 13  Current Credit Balance        2500 non-null   float64\n",
      " 14  Monthly Debt                  2500 non-null   float64\n",
      " 15  Credit Score                  1987 non-null   float64\n",
      "dtypes: float64(12), object(4)\n",
      "memory usage: 273.5+ KB\n"
     ]
    }
   ],
   "source": [
    "df_test = pd.read_csv(TEST_DATASET_PATH)\n",
    "df_test.info()"
   ]
  },
  {
   "cell_type": "code",
   "execution_count": 5,
   "metadata": {},
   "outputs": [
    {
     "data": {
      "text/plain": [
       "(7500, 17)"
      ]
     },
     "execution_count": 5,
     "metadata": {},
     "output_type": "execute_result"
    }
   ],
   "source": [
    "df_train.shape"
   ]
  },
  {
   "cell_type": "code",
   "execution_count": 6,
   "metadata": {},
   "outputs": [
    {
     "data": {
      "text/html": [
       "<div>\n",
       "<style scoped>\n",
       "    .dataframe tbody tr th:only-of-type {\n",
       "        vertical-align: middle;\n",
       "    }\n",
       "\n",
       "    .dataframe tbody tr th {\n",
       "        vertical-align: top;\n",
       "    }\n",
       "\n",
       "    .dataframe thead th {\n",
       "        text-align: right;\n",
       "    }\n",
       "</style>\n",
       "<table border=\"1\" class=\"dataframe\">\n",
       "  <thead>\n",
       "    <tr style=\"text-align: right;\">\n",
       "      <th></th>\n",
       "      <th>count</th>\n",
       "      <th>mean</th>\n",
       "      <th>std</th>\n",
       "      <th>min</th>\n",
       "      <th>25%</th>\n",
       "      <th>50%</th>\n",
       "      <th>75%</th>\n",
       "      <th>max</th>\n",
       "    </tr>\n",
       "  </thead>\n",
       "  <tbody>\n",
       "    <tr>\n",
       "      <th>Annual Income</th>\n",
       "      <td>5943.0</td>\n",
       "      <td>1.366392e+06</td>\n",
       "      <td>8.453392e+05</td>\n",
       "      <td>164597.0</td>\n",
       "      <td>844341.0</td>\n",
       "      <td>1168386.0</td>\n",
       "      <td>1640137.00</td>\n",
       "      <td>1.014934e+07</td>\n",
       "    </tr>\n",
       "    <tr>\n",
       "      <th>Tax Liens</th>\n",
       "      <td>7500.0</td>\n",
       "      <td>3.013333e-02</td>\n",
       "      <td>2.716035e-01</td>\n",
       "      <td>0.0</td>\n",
       "      <td>0.0</td>\n",
       "      <td>0.0</td>\n",
       "      <td>0.00</td>\n",
       "      <td>7.000000e+00</td>\n",
       "    </tr>\n",
       "    <tr>\n",
       "      <th>Number of Open Accounts</th>\n",
       "      <td>7500.0</td>\n",
       "      <td>1.113093e+01</td>\n",
       "      <td>4.908924e+00</td>\n",
       "      <td>2.0</td>\n",
       "      <td>8.0</td>\n",
       "      <td>10.0</td>\n",
       "      <td>14.00</td>\n",
       "      <td>4.300000e+01</td>\n",
       "    </tr>\n",
       "    <tr>\n",
       "      <th>Years of Credit History</th>\n",
       "      <td>7500.0</td>\n",
       "      <td>1.831747e+01</td>\n",
       "      <td>7.041946e+00</td>\n",
       "      <td>4.0</td>\n",
       "      <td>13.5</td>\n",
       "      <td>17.0</td>\n",
       "      <td>21.80</td>\n",
       "      <td>5.770000e+01</td>\n",
       "    </tr>\n",
       "    <tr>\n",
       "      <th>Maximum Open Credit</th>\n",
       "      <td>7500.0</td>\n",
       "      <td>9.451537e+05</td>\n",
       "      <td>1.602622e+07</td>\n",
       "      <td>0.0</td>\n",
       "      <td>279229.5</td>\n",
       "      <td>478159.0</td>\n",
       "      <td>793501.50</td>\n",
       "      <td>1.304726e+09</td>\n",
       "    </tr>\n",
       "    <tr>\n",
       "      <th>Number of Credit Problems</th>\n",
       "      <td>7500.0</td>\n",
       "      <td>1.700000e-01</td>\n",
       "      <td>4.985978e-01</td>\n",
       "      <td>0.0</td>\n",
       "      <td>0.0</td>\n",
       "      <td>0.0</td>\n",
       "      <td>0.00</td>\n",
       "      <td>7.000000e+00</td>\n",
       "    </tr>\n",
       "    <tr>\n",
       "      <th>Months since last delinquent</th>\n",
       "      <td>3419.0</td>\n",
       "      <td>3.469260e+01</td>\n",
       "      <td>2.168881e+01</td>\n",
       "      <td>0.0</td>\n",
       "      <td>16.0</td>\n",
       "      <td>32.0</td>\n",
       "      <td>50.00</td>\n",
       "      <td>1.180000e+02</td>\n",
       "    </tr>\n",
       "    <tr>\n",
       "      <th>Bankruptcies</th>\n",
       "      <td>7486.0</td>\n",
       "      <td>1.171520e-01</td>\n",
       "      <td>3.471917e-01</td>\n",
       "      <td>0.0</td>\n",
       "      <td>0.0</td>\n",
       "      <td>0.0</td>\n",
       "      <td>0.00</td>\n",
       "      <td>4.000000e+00</td>\n",
       "    </tr>\n",
       "    <tr>\n",
       "      <th>Current Loan Amount</th>\n",
       "      <td>7500.0</td>\n",
       "      <td>1.187318e+07</td>\n",
       "      <td>3.192612e+07</td>\n",
       "      <td>11242.0</td>\n",
       "      <td>180169.0</td>\n",
       "      <td>309573.0</td>\n",
       "      <td>519882.00</td>\n",
       "      <td>1.000000e+08</td>\n",
       "    </tr>\n",
       "    <tr>\n",
       "      <th>Current Credit Balance</th>\n",
       "      <td>7500.0</td>\n",
       "      <td>2.898332e+05</td>\n",
       "      <td>3.178714e+05</td>\n",
       "      <td>0.0</td>\n",
       "      <td>114256.5</td>\n",
       "      <td>209323.0</td>\n",
       "      <td>360406.25</td>\n",
       "      <td>6.506797e+06</td>\n",
       "    </tr>\n",
       "    <tr>\n",
       "      <th>Monthly Debt</th>\n",
       "      <td>7500.0</td>\n",
       "      <td>1.831445e+04</td>\n",
       "      <td>1.192676e+04</td>\n",
       "      <td>0.0</td>\n",
       "      <td>10067.5</td>\n",
       "      <td>16076.5</td>\n",
       "      <td>23818.00</td>\n",
       "      <td>1.366790e+05</td>\n",
       "    </tr>\n",
       "    <tr>\n",
       "      <th>Credit Score</th>\n",
       "      <td>5943.0</td>\n",
       "      <td>1.151087e+03</td>\n",
       "      <td>1.604451e+03</td>\n",
       "      <td>585.0</td>\n",
       "      <td>711.0</td>\n",
       "      <td>731.0</td>\n",
       "      <td>743.00</td>\n",
       "      <td>7.510000e+03</td>\n",
       "    </tr>\n",
       "    <tr>\n",
       "      <th>Credit Default</th>\n",
       "      <td>7500.0</td>\n",
       "      <td>2.817333e-01</td>\n",
       "      <td>4.498740e-01</td>\n",
       "      <td>0.0</td>\n",
       "      <td>0.0</td>\n",
       "      <td>0.0</td>\n",
       "      <td>1.00</td>\n",
       "      <td>1.000000e+00</td>\n",
       "    </tr>\n",
       "  </tbody>\n",
       "</table>\n",
       "</div>"
      ],
      "text/plain": [
       "                               count          mean           std       min  \\\n",
       "Annual Income                 5943.0  1.366392e+06  8.453392e+05  164597.0   \n",
       "Tax Liens                     7500.0  3.013333e-02  2.716035e-01       0.0   \n",
       "Number of Open Accounts       7500.0  1.113093e+01  4.908924e+00       2.0   \n",
       "Years of Credit History       7500.0  1.831747e+01  7.041946e+00       4.0   \n",
       "Maximum Open Credit           7500.0  9.451537e+05  1.602622e+07       0.0   \n",
       "Number of Credit Problems     7500.0  1.700000e-01  4.985978e-01       0.0   \n",
       "Months since last delinquent  3419.0  3.469260e+01  2.168881e+01       0.0   \n",
       "Bankruptcies                  7486.0  1.171520e-01  3.471917e-01       0.0   \n",
       "Current Loan Amount           7500.0  1.187318e+07  3.192612e+07   11242.0   \n",
       "Current Credit Balance        7500.0  2.898332e+05  3.178714e+05       0.0   \n",
       "Monthly Debt                  7500.0  1.831445e+04  1.192676e+04       0.0   \n",
       "Credit Score                  5943.0  1.151087e+03  1.604451e+03     585.0   \n",
       "Credit Default                7500.0  2.817333e-01  4.498740e-01       0.0   \n",
       "\n",
       "                                   25%        50%         75%           max  \n",
       "Annual Income                 844341.0  1168386.0  1640137.00  1.014934e+07  \n",
       "Tax Liens                          0.0        0.0        0.00  7.000000e+00  \n",
       "Number of Open Accounts            8.0       10.0       14.00  4.300000e+01  \n",
       "Years of Credit History           13.5       17.0       21.80  5.770000e+01  \n",
       "Maximum Open Credit           279229.5   478159.0   793501.50  1.304726e+09  \n",
       "Number of Credit Problems          0.0        0.0        0.00  7.000000e+00  \n",
       "Months since last delinquent      16.0       32.0       50.00  1.180000e+02  \n",
       "Bankruptcies                       0.0        0.0        0.00  4.000000e+00  \n",
       "Current Loan Amount           180169.0   309573.0   519882.00  1.000000e+08  \n",
       "Current Credit Balance        114256.5   209323.0   360406.25  6.506797e+06  \n",
       "Monthly Debt                   10067.5    16076.5    23818.00  1.366790e+05  \n",
       "Credit Score                     711.0      731.0      743.00  7.510000e+03  \n",
       "Credit Default                     0.0        0.0        1.00  1.000000e+00  "
      ]
     },
     "execution_count": 6,
     "metadata": {},
     "output_type": "execute_result"
    }
   ],
   "source": [
    "df_train.describe().T"
   ]
  },
  {
   "cell_type": "markdown",
   "metadata": {},
   "source": [
    "## Credit Default"
   ]
  },
  {
   "cell_type": "code",
   "execution_count": 7,
   "metadata": {},
   "outputs": [],
   "source": [
    "#df_train_result = df_train['Credit Default']\n",
    "#df_train.drop(['Credit Default'], inplace=True, axis=1)"
   ]
  },
  {
   "cell_type": "markdown",
   "metadata": {},
   "source": [
    "## Home Ownership\n",
    "домовладение"
   ]
  },
  {
   "cell_type": "code",
   "execution_count": 17,
   "metadata": {},
   "outputs": [
    {
     "data": {
      "text/plain": [
       "Home Mortgage    3637\n",
       "Rent             3204\n",
       "Own Home          647\n",
       "Have Mortgage      12\n",
       "Name: Home Ownership, dtype: int64"
      ]
     },
     "execution_count": 17,
     "metadata": {},
     "output_type": "execute_result"
    }
   ],
   "source": [
    "df_train['Home Ownership'].value_counts()"
   ]
  },
  {
   "cell_type": "code",
   "execution_count": 18,
   "metadata": {},
   "outputs": [],
   "source": [
    "Home_Ownership = df_train['Home Ownership']"
   ]
  },
  {
   "cell_type": "code",
   "execution_count": 19,
   "metadata": {},
   "outputs": [],
   "source": [
    "dummies = pd.get_dummies(df_train['Home Ownership']).rename(columns=lambda x: 'Home Ownership ' + str(x))\n",
    "df_train = pd.concat([df_train, dummies], axis=1)\n",
    "df_train.drop(['Home Ownership'], inplace=True, axis=1)"
   ]
  },
  {
   "cell_type": "code",
   "execution_count": 20,
   "metadata": {},
   "outputs": [],
   "source": [
    "dummies = pd.get_dummies(df_test['Home Ownership']).rename(columns=lambda x: 'Home Ownership ' + str(x))\n",
    "df_test = pd.concat([df_test, dummies], axis=1)\n",
    "df_test.drop(['Home Ownership'], inplace=True, axis=1)"
   ]
  },
  {
   "cell_type": "markdown",
   "metadata": {},
   "source": [
    "## Annual Income\n",
    "годовой доход"
   ]
  },
  {
   "cell_type": "code",
   "execution_count": 28,
   "metadata": {},
   "outputs": [
    {
     "data": {
      "text/plain": [
       "(595, 20)"
      ]
     },
     "execution_count": 28,
     "metadata": {},
     "output_type": "execute_result"
    }
   ],
   "source": [
    "df_train.loc[(df_train['Annual Income'] > df_train['Annual Income'].quantile(.90)), :].shape"
   ]
  },
  {
   "cell_type": "code",
   "execution_count": 29,
   "metadata": {},
   "outputs": [],
   "source": [
    "df_train.loc[(df_train['Annual Income'].isnull()), ['Annual Income']] = df_train['Annual Income'].mean()"
   ]
  },
  {
   "cell_type": "code",
   "execution_count": 30,
   "metadata": {},
   "outputs": [],
   "source": [
    "df_test.loc[(df_test['Annual Income'].isnull()), ['Annual Income']] = df_test['Annual Income'].mean()"
   ]
  },
  {
   "cell_type": "code",
   "execution_count": 33,
   "metadata": {},
   "outputs": [
    {
     "data": {
      "text/plain": [
       "(0.7502885460853577, 0.0)"
      ]
     },
     "execution_count": 33,
     "metadata": {},
     "output_type": "execute_result"
    }
   ],
   "source": [
    "shapiro(df_train['Annual Income'])"
   ]
  },
  {
   "cell_type": "code",
   "execution_count": 41,
   "metadata": {},
   "outputs": [
    {
     "data": {
      "image/png": "[encoded data removed]",
      "text/plain": [
       "<Figure size 1440x576 with 2 Axes>"
      ]
     },
     "metadata": {
      "needs_background": "light"
     },
     "output_type": "display_data"
    }
   ],
   "source": [
    "plt.figure(figsize=(20,8))\n",
    "\n",
    "ax1 = plt.subplot(121)\n",
    "ax1.set_xlabel('Annual Income')\n",
    "ax1.set_ylabel('Count')\n",
    "ax1.set_title('Annual Income distribution')\n",
    "df_train['Annual Income'].hist()\n",
    "plt.subplot(122)\n",
    "probplot(df_train['Annual Income'],dist='norm',plot=plt)\n",
    "\n",
    "plt.show()"
   ]
  },
  {
   "cell_type": "markdown",
   "metadata": {},
   "source": [
    "## Years in current job\n",
    "количество лет на текущем месте работы"
   ]
  },
  {
   "cell_type": "code",
   "execution_count": null,
   "metadata": {},
   "outputs": [],
   "source": [
    "df_train['Years in current job'].value_counts()"
   ]
  },
  {
   "cell_type": "code",
   "execution_count": null,
   "metadata": {},
   "outputs": [],
   "source": [
    "def correct(value):\n",
    "    if isinstance(value, int):\n",
    "        return value\n",
    "    if value == \"< 1 year\":\n",
    "        return 0\n",
    "    elif value == \"1 year\":\n",
    "        return 1\n",
    "    elif value == \"2 years\":\n",
    "        return 2\n",
    "    elif value == \"3 years\":\n",
    "        return 3\n",
    "    elif value == \"4 years\":\n",
    "        return 4\n",
    "    elif value == \"5 years\":\n",
    "        return 5\n",
    "    elif value == \"6 years\":\n",
    "        return 6\n",
    "    elif value == \"7 years\":\n",
    "        return 7\n",
    "    elif value == \"8 years\":\n",
    "        return 8\n",
    "    elif value == \"9 years\":\n",
    "        return 9\n",
    "    elif value == \"10+ years\":\n",
    "        return 10\n",
    "    else:\n",
    "        return 0\n",
    "\n",
    "df_train['Years in current job'] = df_train['Years in current job'].apply(correct)"
   ]
  },
  {
   "cell_type": "code",
   "execution_count": null,
   "metadata": {},
   "outputs": [],
   "source": [
    "df_test['Years in current job'] = df_test['Years in current job'].apply(correct)"
   ]
  },
  {
   "cell_type": "code",
   "execution_count": null,
   "metadata": {},
   "outputs": [],
   "source": [
    "##df_train.head(5)"
   ]
  },
  {
   "cell_type": "code",
   "execution_count": null,
   "metadata": {},
   "outputs": [],
   "source": [
    "##df_test.head(5)"
   ]
  },
  {
   "cell_type": "markdown",
   "metadata": {},
   "source": [
    "## Tax Liens\n",
    "налоговые обременения"
   ]
  },
  {
   "cell_type": "code",
   "execution_count": null,
   "metadata": {},
   "outputs": [],
   "source": [
    "df_train['Tax Liens'].describe()"
   ]
  },
  {
   "cell_type": "code",
   "execution_count": null,
   "metadata": {},
   "outputs": [],
   "source": [
    "df_train.loc[(df_train['Tax Liens'] > df_train['Tax Liens'].quantile(.75)), :].shape"
   ]
  },
  {
   "cell_type": "markdown",
   "metadata": {},
   "source": [
    "## Number of Open Accounts\n",
    "количество открытых счетов"
   ]
  },
  {
   "cell_type": "code",
   "execution_count": null,
   "metadata": {},
   "outputs": [],
   "source": [
    "##df_train['Number of Open Accounts'].describe()"
   ]
  },
  {
   "cell_type": "markdown",
   "metadata": {},
   "source": [
    "## Years of Credit History\n",
    "количество лет кредитной истории"
   ]
  },
  {
   "cell_type": "code",
   "execution_count": null,
   "metadata": {},
   "outputs": [],
   "source": [
    "##df_train['Years of Credit History'].describe()"
   ]
  },
  {
   "cell_type": "markdown",
   "metadata": {},
   "source": [
    "## Maximum Open Credit \n",
    "наибольший открытый кредит"
   ]
  },
  {
   "cell_type": "code",
   "execution_count": null,
   "metadata": {},
   "outputs": [],
   "source": [
    "##df_train['Maximum Open Credit'].describe()"
   ]
  },
  {
   "cell_type": "markdown",
   "metadata": {},
   "source": [
    "## Number of Credit Problems\n",
    "количество проблем с кредитом"
   ]
  },
  {
   "cell_type": "code",
   "execution_count": null,
   "metadata": {},
   "outputs": [],
   "source": [
    "##df_train['Number of Credit Problems'].describe()"
   ]
  },
  {
   "cell_type": "markdown",
   "metadata": {},
   "source": [
    "## Months since last delinquent"
   ]
  },
  {
   "cell_type": "code",
   "execution_count": null,
   "metadata": {},
   "outputs": [],
   "source": [
    "##train_data_Msld_mean = df_train.loc[df_train['Months since last delinquent'].notnull(), 'Months since last delinquent'].mean(axis=0)\n",
    "df_train.loc[df_train['Months since last delinquent'].isnull(), 'Months since last delinquent'] = 0\n",
    "\n",
    "##test_data_Msld_mean = df_test.loc[df_test['Months since last delinquent'].notnull(), 'Months since last delinquent'].mean(axis=0)\n",
    "df_test.loc[df_test['Months since last delinquent'].isnull(), 'Months since last delinquent'] = 0"
   ]
  },
  {
   "cell_type": "markdown",
   "metadata": {},
   "source": [
    "## Bankruptcies\n",
    "банкротства"
   ]
  },
  {
   "cell_type": "code",
   "execution_count": null,
   "metadata": {},
   "outputs": [],
   "source": [
    "df_train['Bankruptcies'].value_counts()"
   ]
  },
  {
   "cell_type": "code",
   "execution_count": null,
   "metadata": {},
   "outputs": [],
   "source": [
    "df_train.loc[df_train['Bankruptcies'].isnull(), 'Bankruptcies'] = 0\n",
    "df_test.loc[df_test['Bankruptcies'].isnull(), 'Bankruptcies'] = 0"
   ]
  },
  {
   "cell_type": "markdown",
   "metadata": {},
   "source": [
    "## Purpose\n",
    "цель кредита"
   ]
  },
  {
   "cell_type": "code",
   "execution_count": null,
   "metadata": {},
   "outputs": [],
   "source": [
    "df_train['Purpose'].value_counts()"
   ]
  },
  {
   "cell_type": "code",
   "execution_count": null,
   "metadata": {},
   "outputs": [],
   "source": [
    "df_test['Purpose'].value_counts()"
   ]
  },
  {
   "cell_type": "code",
   "execution_count": null,
   "metadata": {},
   "outputs": [],
   "source": [
    "dummies = pd.get_dummies(df_train['Purpose']).rename(columns=lambda x: 'Purpose ' + str(x))\n",
    "df_train = pd.concat([df_train, dummies], axis=1)\n",
    "df_train.drop(['Purpose'], inplace=True, axis=1)\n",
    "df_train.drop(['Purpose renewable energy'], inplace=True, axis=1)\n",
    "\n",
    "dummies = pd.get_dummies(df_test['Purpose']).rename(columns=lambda x: 'Purpose ' + str(x))\n",
    "df_test = pd.concat([df_test, dummies], axis=1)\n",
    "df_test.drop(['Purpose'], inplace=True, axis=1)"
   ]
  },
  {
   "cell_type": "code",
   "execution_count": null,
   "metadata": {},
   "outputs": [],
   "source": [
    "#df_train.head()"
   ]
  },
  {
   "cell_type": "code",
   "execution_count": null,
   "metadata": {},
   "outputs": [],
   "source": [
    "#df_test.head()"
   ]
  },
  {
   "cell_type": "markdown",
   "metadata": {},
   "source": [
    "## Term \n",
    "срок кредита"
   ]
  },
  {
   "cell_type": "code",
   "execution_count": null,
   "metadata": {},
   "outputs": [],
   "source": [
    "df_train['Term'].value_counts()"
   ]
  },
  {
   "cell_type": "code",
   "execution_count": null,
   "metadata": {},
   "outputs": [],
   "source": [
    "df_test['Term'].value_counts()"
   ]
  },
  {
   "cell_type": "code",
   "execution_count": null,
   "metadata": {},
   "outputs": [],
   "source": [
    "df_train['Term'] = (df_train['Term'] == 'Long Term').astype(int)\n",
    "df_test['Term'] = (df_test['Term'] == 'Long Term').astype(int)\n",
    "df_train['Term'].value_counts()"
   ]
  },
  {
   "cell_type": "markdown",
   "metadata": {},
   "source": [
    "## Current Loan Amount\n",
    "текущая сумма кредита"
   ]
  },
  {
   "cell_type": "code",
   "execution_count": null,
   "metadata": {},
   "outputs": [],
   "source": [
    "df_train['Current Loan Amount'].describe()"
   ]
  },
  {
   "cell_type": "code",
   "execution_count": null,
   "metadata": {},
   "outputs": [],
   "source": [
    "df_test['Current Loan Amount'].describe()"
   ]
  },
  {
   "cell_type": "code",
   "execution_count": null,
   "metadata": {},
   "outputs": [],
   "source": [
    "df_train.loc[ df_train['Current Loan Amount'] > df_train['Current Loan Amount'].quantile(.99), :].shape"
   ]
  },
  {
   "cell_type": "markdown",
   "metadata": {},
   "source": [
    "## Current Credit Balance\n",
    "текущий кредитный баланс"
   ]
  },
  {
   "cell_type": "code",
   "execution_count": null,
   "metadata": {},
   "outputs": [],
   "source": [
    "df_train['Current Credit Balance'].describe()"
   ]
  },
  {
   "cell_type": "markdown",
   "metadata": {},
   "source": [
    "## Monthly Debt \n",
    "ежемесячный долг"
   ]
  },
  {
   "cell_type": "code",
   "execution_count": null,
   "metadata": {},
   "outputs": [],
   "source": [
    "df_train['Monthly Debt'].describe()"
   ]
  },
  {
   "cell_type": "markdown",
   "metadata": {},
   "source": [
    "## Credit Score\n",
    "кредитный рейтинг: бальная оценка клиента"
   ]
  },
  {
   "cell_type": "code",
   "execution_count": null,
   "metadata": {},
   "outputs": [],
   "source": [
    "df_train.loc[ df_train['Credit Score'] > df_train['Credit Score'].quantile(.99), ['Credit Score']].shape"
   ]
  },
  {
   "cell_type": "code",
   "execution_count": null,
   "metadata": {},
   "outputs": [],
   "source": [
    "train_data_CS_mean = df_train.loc[df_train['Credit Score'].notnull(), 'Credit Score'].mean(axis=0)\n",
    "df_train.loc[df_train['Credit Score'].isnull(), 'Credit Score'] = train_data_CS_mean\n",
    "\n",
    "test_data_CS_mean = df_test.loc[df_test['Credit Score'].notnull(), 'Credit Score'].mean(axis=0)\n",
    "df_test.loc[df_test['Credit Score'].isnull(), 'Credit Score'] = test_data_CS_mean"
   ]
  },
  {
   "cell_type": "code",
   "execution_count": null,
   "metadata": {},
   "outputs": [],
   "source": [
    "df_train.info()"
   ]
  },
  {
   "cell_type": "code",
   "execution_count": null,
   "metadata": {},
   "outputs": [],
   "source": [
    "df_test.info()"
   ]
  },
  {
   "cell_type": "code",
   "execution_count": null,
   "metadata": {},
   "outputs": [],
   "source": [
    "TARGET_NAME = 'Credit Default'\n",
    "BASE_FEATURE_NAMES = df_train.columns.drop(TARGET_NAME).tolist()"
   ]
  },
  {
   "cell_type": "code",
   "execution_count": null,
   "metadata": {},
   "outputs": [],
   "source": [
    "corr_with_target = df_train[BASE_FEATURE_NAMES + [TARGET_NAME]].corr().iloc[:-1, -1].sort_values(ascending=False)\n",
    "\n",
    "plt.figure(figsize=(10, 8))\n",
    "\n",
    "sns.barplot(x=corr_with_target.values, y=corr_with_target.index)\n",
    "\n",
    "plt.title('Correlation with target variable')\n",
    "plt.show()"
   ]
  },
  {
   "cell_type": "code",
   "execution_count": null,
   "metadata": {},
   "outputs": [],
   "source": [
    "plt.figure(figsize = (25,20))\n",
    "\n",
    "sns.set(font_scale=1.4)\n",
    "sns.heatmap(df_train[BASE_FEATURE_NAMES].corr().round(3), annot=True, linewidths=.5, cmap='GnBu')\n",
    "\n",
    "plt.title('Correlation matrix')\n",
    "plt.show()"
   ]
  },
  {
   "cell_type": "code",
   "execution_count": null,
   "metadata": {},
   "outputs": [],
   "source": [
    "#df_train_result = df_train['Credit Default']\n",
    "#df_train.drop(['Credit Default'], inplace=True, axis=1)"
   ]
  }
 ],
 "metadata": {
  "kernelspec": {
   "display_name": "Python 3",
   "language": "python",
   "name": "python3"
  },
  "language_info": {
   "codemirror_mode": {
    "name": "ipython",
    "version": 3
   },
   "file_extension": ".py",
   "mimetype": "text/x-python",
   "name": "python",
   "nbconvert_exporter": "python",
   "pygments_lexer": "ipython3",
   "version": "3.8.1"
  }
 },
 "nbformat": 4,
 "nbformat_minor": 4
}
