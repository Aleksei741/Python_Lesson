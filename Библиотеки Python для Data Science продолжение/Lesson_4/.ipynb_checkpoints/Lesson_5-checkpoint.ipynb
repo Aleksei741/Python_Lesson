{
 "cells": [
  {
   "cell_type": "markdown",
   "metadata": {
    "colab_type": "text",
    "id": "SzvZsaSUaFKc"
   },
   "source": [
    "## Урок 4.\n",
    "# Способы улучшения полученной модели.\n",
    "\n",
    "**План занятия**\n",
    "\n",
    "* [Теоретическая часть](#theory)\n",
    "    * [Переобучение и способы борьбы с ним](#overfitting)\n",
    "    * [Регуляризация](#regularization)\n",
    "* [Практическая часть](#practice)\n",
    "    * [Загрузка подготовленных датасетов](#data_loading)\n",
    "    * [Модель, полученная на предыдущем уроке](#model_from_prev_lesson)\n",
    "    * [Снижение степени переобучения](#lowering_overfitting)\n",
    "    * [Подбор оптимального размера выборки, кривая обучения](#learning_curve)\n",
    "    * [Выбор порога вероятности для определения класса](#threshold_calibration)\n",
    "    * [Важность признаков](#feature_importances)  \n",
    "    * [Финальная модель](#final_model)\n",
    "    * [Сохранение финальной модели](#final_model_saving)"
   ]
  },
  {
   "cell_type": "markdown",
   "metadata": {
    "colab_type": "text",
    "id": "5Yg4eBVvaFKf"
   },
   "source": [
    "## <center>Теоретическая часть<a class=\"anchor\" id=\"theory\"></a><center>"
   ]
  },
  {
   "cell_type": "markdown",
   "metadata": {
    "colab_type": "text",
    "id": "nfbAwfAAaFKh"
   },
   "source": [
    "### Переобучение и способы борьбы с ним<a class=\"anchor\" id=\"overfitting\"></a>"
   ]
  },
  {
   "cell_type": "markdown",
   "metadata": {
    "colab_type": "text",
    "id": "4xmGhU2baFKj"
   },
   "source": [
    "**Переобучение**\n",
    "\n",
    "Нежелательное явление, возникающее при решении задач обучения по прецедентам, когда вероятность ошибки обученного алгоритма на объектах тестовой выборки оказывается существенно выше, чем средняя ошибка на обучающей выборке. Переобучение возникает при использовании избыточно сложных моделей."
   ]
  },
  {
   "cell_type": "markdown",
   "metadata": {
    "colab_type": "text",
    "id": "HBom454saFKl"
   },
   "source": [
    "<img src=\"overfitting.svg\" alt=\"Drawing\" style=\"width: 500px;\">"
   ]
  },
  {
   "cell_type": "markdown",
   "metadata": {
    "colab_type": "text",
    "id": "OBpCuTtTaFKn"
   },
   "source": [
    "**Способы борьбы с переобучением**\n",
    "\n",
    "1. Обнаружить переобучение:\n",
    "    * отложенная выборка\n",
    "    * кросс-валидация\n",
    "    * меры сложности модели\n",
    "2. Взять больше данных\n",
    "3. Выбрать более простую медель\n",
    "4. Регуляризация"
   ]
  },
  {
   "cell_type": "markdown",
   "metadata": {
    "colab_type": "text",
    "id": "AkGlubCZaFKo"
   },
   "source": [
    "### Регуляризация<a class=\"anchor\" id=\"regularization\"></a>"
   ]
  },
  {
   "cell_type": "markdown",
   "metadata": {
    "colab_type": "text",
    "id": "c8TG7ZQ7aFKp"
   },
   "source": [
    "Регуляризация - метод борьбы с переобучением, с помощью добавления некоторого штрафа за сложность модели."
   ]
  },
  {
   "cell_type": "markdown",
   "metadata": {
    "colab_type": "text",
    "id": "FjQCYKtcaFKr"
   },
   "source": [
    "<img src=\"bias.png\" alt=\"Drawing\" style=\"width: 500px;\">"
   ]
  },
  {
   "cell_type": "markdown",
   "metadata": {
    "colab_type": "text",
    "id": "3rj4HZmHaFKs"
   },
   "source": [
    "**L1-регуляризация** (lasso, регуляризация через манхэттенское расстояние)\n",
    "\n",
    "$\\large L_1 = \\sum_{i=1} (y_i - \\widehat{y_i})^2 + \\lambda\\sum_{j=1} |w_j|$"
   ]
  },
  {
   "cell_type": "markdown",
   "metadata": {
    "colab_type": "text",
    "id": "peyc8094aFKu"
   },
   "source": [
    "**L2-регуляризация** (ridge, регуляризация Тихонова)\n",
    "\n",
    "$\\large L_2 = \\sum_{i=1} (y_i - \\widehat{y_i})^2 + \\lambda\\sum_{j=1} w_j^2$"
   ]
  },
  {
   "cell_type": "markdown",
   "metadata": {
    "colab_type": "text",
    "id": "UjJrFKoTaFKw"
   },
   "source": [
    "## <center>Практическая часть<a class=\"anchor\" id=\"practice\"></a><center>"
   ]
  },
  {
   "cell_type": "markdown",
   "metadata": {
    "colab_type": "text",
    "id": "8_pT6UFoaFKy"
   },
   "source": [
    "**Подключение библиотек и скриптов**"
   ]
  },
  {
   "cell_type": "code",
   "execution_count": 1,
   "metadata": {
    "colab": {},
    "colab_type": "code",
    "id": "8qKDA_FoaFK0"
   },
   "outputs": [],
   "source": [
    "import pandas as pd\n",
    "import numpy as np\n",
    "import pickle\n",
    "\n",
    "from sklearn.model_selection import train_test_split, ShuffleSplit, cross_val_score, learning_curve\n",
    "from sklearn.metrics import classification_report, f1_score, precision_score, recall_score\n",
    "from sklearn.model_selection import KFold, GridSearchCV, RandomizedSearchCV\n",
    "import xgboost as xgb\n",
    "import catboost as catb\n",
    "\n",
    "import seaborn as sns\n",
    "from matplotlib import pyplot as plt\n",
    "%matplotlib inline"
   ]
  },
  {
   "cell_type": "code",
   "execution_count": 2,
   "metadata": {},
   "outputs": [],
   "source": [
    "\n",
    "from catboost import Pool"
   ]
  },
  {
   "cell_type": "code",
   "execution_count": 3,
   "metadata": {
    "colab": {},
    "colab_type": "code",
    "id": "WhTsX7omaFK4"
   },
   "outputs": [],
   "source": [
    "def get_classification_report(y_train_true, y_train_pred, y_test_true, y_test_pred):\n",
    "    print('TRAIN\\n\\n' + classification_report(y_train_true, y_train_pred))\n",
    "    print('TEST\\n\\n' + classification_report(y_test_true, y_test_pred))\n",
    "    print('CONFUSION MATRIX\\n')\n",
    "    print(pd.crosstab(y_test_true, y_test_pred))"
   ]
  },
  {
   "cell_type": "code",
   "execution_count": 4,
   "metadata": {
    "colab": {},
    "colab_type": "code",
    "id": "Pgwl5GcWaFK7"
   },
   "outputs": [],
   "source": [
    "def show_proba_calibration_plots(y_predicted_probs, y_true_labels):\n",
    "    preds_with_true_labels = np.array(list(zip(y_predicted_probs, y_true_labels)))\n",
    "\n",
    "    thresholds = []\n",
    "    precisions = []\n",
    "    recalls = []\n",
    "    f1_scores = []\n",
    "\n",
    "    for threshold in np.linspace(0.1, 0.9, 9):\n",
    "        thresholds.append(threshold)\n",
    "        precisions.append(precision_score(y_true_labels, list(map(int, y_predicted_probs > threshold))))\n",
    "        recalls.append(recall_score(y_true_labels, list(map(int, y_predicted_probs > threshold))))\n",
    "        f1_scores.append(f1_score(y_true_labels, list(map(int, y_predicted_probs > threshold))))\n",
    "\n",
    "    scores_table = pd.DataFrame({'f1':f1_scores,\n",
    "                                 'precision':precisions,\n",
    "                                 'recall':recalls,\n",
    "                                 'probability':thresholds}).sort_values('f1', ascending=False).round(3)\n",
    "  \n",
    "    figure = plt.figure(figsize = (15, 5))\n",
    "\n",
    "    plt1 = figure.add_subplot(121)\n",
    "    plt1.plot(thresholds, precisions, label='Precision', linewidth=4)\n",
    "    plt1.plot(thresholds, recalls, label='Recall', linewidth=4)\n",
    "    plt1.plot(thresholds, f1_scores, label='F1', linewidth=4)\n",
    "    plt1.set_ylabel('Scores')\n",
    "    plt1.set_xlabel('Probability threshold')\n",
    "    plt1.set_title('Probabilities threshold calibration')\n",
    "    plt1.legend(bbox_to_anchor=(0.25, 0.25))   \n",
    "    plt1.table(cellText = scores_table.values,\n",
    "               colLabels = scores_table.columns, \n",
    "               colLoc = 'center', cellLoc = 'center', loc = 'bottom', bbox = [0, -1.3, 1, 1])\n",
    "\n",
    "    plt2 = figure.add_subplot(122)\n",
    "    plt2.hist(preds_with_true_labels[preds_with_true_labels[:, 1] == 0][:, 0], \n",
    "              label='Another class', color='royalblue', alpha=1)\n",
    "    plt2.hist(preds_with_true_labels[preds_with_true_labels[:, 1] == 1][:, 0], \n",
    "              label='Main class', color='darkcyan', alpha=0.8)\n",
    "    plt2.set_ylabel('Number of examples')\n",
    "    plt2.set_xlabel('Probabilities')\n",
    "    plt2.set_title('Probability histogram')\n",
    "    plt2.legend(bbox_to_anchor=(1, 1))\n",
    "\n",
    "    plt.show()"
   ]
  },
  {
   "cell_type": "code",
   "execution_count": 5,
   "metadata": {
    "colab": {},
    "colab_type": "code",
    "id": "gruw5ZHRaFK-"
   },
   "outputs": [],
   "source": [
    "def show_learning_curve_plot(estimator, X, y, cv=3, n_jobs=-1, train_sizes=np.linspace(.1, 1.0, 5)):\n",
    "\n",
    "    train_sizes, train_scores, test_scores = learning_curve(estimator, X, y, \n",
    "                                                            cv=cv, \n",
    "                                                            scoring='f1',\n",
    "                                                            train_sizes=train_sizes, \n",
    "                                                            n_jobs=n_jobs)\n",
    "    train_scores_mean = np.mean(train_scores, axis=1)\n",
    "    train_scores_std = np.std(train_scores, axis=1)\n",
    "    test_scores_mean = np.mean(test_scores, axis=1)\n",
    "    test_scores_std = np.std(test_scores, axis=1)\n",
    "\n",
    "    plt.figure(figsize=(15,8))\n",
    "    plt.fill_between(train_sizes, train_scores_mean - train_scores_std,\n",
    "                     train_scores_mean + train_scores_std, alpha=0.1, color=\"r\")\n",
    "    plt.fill_between(train_sizes, test_scores_mean - test_scores_std,\n",
    "                     test_scores_mean + test_scores_std, alpha=0.1, color=\"g\")\n",
    "    plt.plot(train_sizes, train_scores_mean, 'o-', color=\"r\",\n",
    "             label=\"Training score\")\n",
    "    plt.plot(train_sizes, test_scores_mean, 'o-', color=\"g\",\n",
    "             label=\"Cross-validation score\")\n",
    "\n",
    "    plt.title(f\"Learning curves ({type(estimator).__name__})\")\n",
    "    plt.xlabel(\"Training examples\")\n",
    "    plt.ylabel(\"Score\")     \n",
    "    plt.legend(loc=\"best\")\n",
    "    plt.grid()\n",
    "    plt.show()"
   ]
  },
  {
   "cell_type": "code",
   "execution_count": 6,
   "metadata": {
    "colab": {},
    "colab_type": "code",
    "id": "5VzLQcWvaFLB"
   },
   "outputs": [],
   "source": [
    "def show_feature_importances(feature_names, feature_importances, get_top=None):\n",
    "    feature_importances = pd.DataFrame({'feature': feature_names, 'importance': feature_importances})\n",
    "    feature_importances = feature_importances.sort_values('importance', ascending=False)\n",
    "       \n",
    "    plt.figure(figsize = (20, len(feature_importances) * 0.355))\n",
    "    \n",
    "    sns.barplot(feature_importances['importance'], feature_importances['feature'])\n",
    "    \n",
    "    plt.xlabel('Importance')\n",
    "    plt.title('Importance of features')\n",
    "    plt.show()\n",
    "    \n",
    "    if get_top is not None:\n",
    "        return feature_importances['feature'][:get_top].tolist()"
   ]
  },
  {
   "cell_type": "markdown",
   "metadata": {
    "colab_type": "text",
    "id": "_YIEukXwaFLE"
   },
   "source": [
    "**Пути к директориям и файлам**"
   ]
  },
  {
   "cell_type": "code",
   "execution_count": 7,
   "metadata": {
    "colab": {},
    "colab_type": "code",
    "id": "cMWWQ5-saFLF"
   },
   "outputs": [],
   "source": [
    "# input\n",
    "TRAIN_FULL_PATH = 'training_project_train_full.csv'\n",
    "TRAIN_PART_PATH = 'training_project_train_part_b.csv'\n",
    "TEST_PART_PATH = 'training_project_test_part.csv'\n",
    "\n",
    "# output\n",
    "MODEL_FILE_PATH = 'model.pkl'"
   ]
  },
  {
   "cell_type": "markdown",
   "metadata": {
    "colab_type": "text",
    "id": "bxS2_hz4aFLJ"
   },
   "source": [
    "### Загрузка подготовленных датасетов<a class=\"anchor\" id=\"data_loading\"></a>"
   ]
  },
  {
   "cell_type": "markdown",
   "metadata": {
    "colab_type": "text",
    "id": "avP4rcx9aFLK"
   },
   "source": [
    "**Загрузка данных**"
   ]
  },
  {
   "cell_type": "code",
   "execution_count": 8,
   "metadata": {
    "colab": {},
    "colab_type": "code",
    "id": "TmUico1VaFLL"
   },
   "outputs": [],
   "source": [
    "df = pd.read_csv(TRAIN_FULL_PATH)\n",
    "df_train = pd.read_csv(TRAIN_PART_PATH)\n",
    "df_test = pd.read_csv(TEST_PART_PATH)"
   ]
  },
  {
   "cell_type": "markdown",
   "metadata": {
    "colab_type": "text",
    "id": "y5L5jzXzaFLO"
   },
   "source": [
    "**Выделение признакового описания и целевой переменной**"
   ]
  },
  {
   "cell_type": "code",
   "execution_count": 9,
   "metadata": {
    "colab": {},
    "colab_type": "code",
    "id": "WFwW-mL9aFLP"
   },
   "outputs": [],
   "source": [
    "TARGET_NAME = 'NEXT_MONTH_DEFAULT'\n",
    "NUM_FEATURE_NAMES = ['LIMIT_BAL', 'AGE', 'BILL_AMT1', 'BILL_AMT2', 'BILL_AMT3', 'BILL_AMT4', 'BILL_AMT5', 'BILL_AMT6',\n",
    "                     'PAY_AMT1', 'PAY_AMT2', 'PAY_AMT3', 'PAY_AMT4', 'PAY_AMT5', 'PAY_AMT6']\n",
    "\n",
    "CAT_FEATURE_NAMES = ['SEX', 'EDUCATION', 'MARRIAGE', 'PAY_1', 'PAY_2', 'PAY_3', 'PAY_4', 'PAY_5', 'PAY_6']"
   ]
  },
  {
   "cell_type": "code",
   "execution_count": 10,
   "metadata": {
    "colab": {},
    "colab_type": "code",
    "id": "OHd1Ak0zaFLS"
   },
   "outputs": [],
   "source": [
    "X = df.drop(columns=CAT_FEATURE_NAMES + ['ID', TARGET_NAME])\n",
    "y = df[TARGET_NAME]\n",
    "\n",
    "X_train = df_train.drop(columns=TARGET_NAME)\n",
    "y_train = df_train[TARGET_NAME]\n",
    "\n",
    "X_test = df_test.drop(columns=TARGET_NAME)\n",
    "y_test = df_test[TARGET_NAME]"
   ]
  },
  {
   "cell_type": "code",
   "execution_count": 11,
   "metadata": {},
   "outputs": [
    {
     "data": {
      "text/html": [
       "<div>\n",
       "<style scoped>\n",
       "    .dataframe tbody tr th:only-of-type {\n",
       "        vertical-align: middle;\n",
       "    }\n",
       "\n",
       "    .dataframe tbody tr th {\n",
       "        vertical-align: top;\n",
       "    }\n",
       "\n",
       "    .dataframe thead th {\n",
       "        text-align: right;\n",
       "    }\n",
       "</style>\n",
       "<table border=\"1\" class=\"dataframe\">\n",
       "  <thead>\n",
       "    <tr style=\"text-align: right;\">\n",
       "      <th></th>\n",
       "      <th>LIMIT_BAL</th>\n",
       "      <th>AGE</th>\n",
       "      <th>BILL_AMT1</th>\n",
       "      <th>BILL_AMT2</th>\n",
       "      <th>BILL_AMT3</th>\n",
       "      <th>BILL_AMT4</th>\n",
       "      <th>BILL_AMT5</th>\n",
       "      <th>BILL_AMT6</th>\n",
       "      <th>PAY_AMT1</th>\n",
       "      <th>PAY_AMT2</th>\n",
       "      <th>...</th>\n",
       "      <th>PAY_4_2</th>\n",
       "      <th>PAY_4_3</th>\n",
       "      <th>PAY_5_-1</th>\n",
       "      <th>PAY_5_0</th>\n",
       "      <th>PAY_5_2</th>\n",
       "      <th>PAY_5_3</th>\n",
       "      <th>PAY_6_-1</th>\n",
       "      <th>PAY_6_0</th>\n",
       "      <th>PAY_6_2</th>\n",
       "      <th>PAY_6_3</th>\n",
       "    </tr>\n",
       "  </thead>\n",
       "  <tbody>\n",
       "    <tr>\n",
       "      <th>0</th>\n",
       "      <td>-1.062022</td>\n",
       "      <td>-1.239383</td>\n",
       "      <td>-0.318155</td>\n",
       "      <td>-0.285758</td>\n",
       "      <td>-0.670259</td>\n",
       "      <td>-0.670242</td>\n",
       "      <td>-0.660989</td>\n",
       "      <td>-0.653431</td>\n",
       "      <td>-0.238120</td>\n",
       "      <td>-0.269098</td>\n",
       "      <td>...</td>\n",
       "      <td>1</td>\n",
       "      <td>0</td>\n",
       "      <td>1</td>\n",
       "      <td>0</td>\n",
       "      <td>0</td>\n",
       "      <td>0</td>\n",
       "      <td>1</td>\n",
       "      <td>0</td>\n",
       "      <td>0</td>\n",
       "      <td>0</td>\n",
       "    </tr>\n",
       "    <tr>\n",
       "      <th>1</th>\n",
       "      <td>-0.524025</td>\n",
       "      <td>-0.913115</td>\n",
       "      <td>0.088601</td>\n",
       "      <td>0.151187</td>\n",
       "      <td>0.207402</td>\n",
       "      <td>0.415086</td>\n",
       "      <td>0.489013</td>\n",
       "      <td>0.554260</td>\n",
       "      <td>-0.170315</td>\n",
       "      <td>-0.155674</td>\n",
       "      <td>...</td>\n",
       "      <td>0</td>\n",
       "      <td>0</td>\n",
       "      <td>0</td>\n",
       "      <td>1</td>\n",
       "      <td>0</td>\n",
       "      <td>0</td>\n",
       "      <td>0</td>\n",
       "      <td>1</td>\n",
       "      <td>0</td>\n",
       "      <td>0</td>\n",
       "    </tr>\n",
       "    <tr>\n",
       "      <th>2</th>\n",
       "      <td>0.244543</td>\n",
       "      <td>-0.913115</td>\n",
       "      <td>-0.545878</td>\n",
       "      <td>-0.686564</td>\n",
       "      <td>-0.645473</td>\n",
       "      <td>-0.631816</td>\n",
       "      <td>-0.620033</td>\n",
       "      <td>-0.611541</td>\n",
       "      <td>-0.373731</td>\n",
       "      <td>-0.155674</td>\n",
       "      <td>...</td>\n",
       "      <td>1</td>\n",
       "      <td>0</td>\n",
       "      <td>0</td>\n",
       "      <td>0</td>\n",
       "      <td>1</td>\n",
       "      <td>0</td>\n",
       "      <td>0</td>\n",
       "      <td>0</td>\n",
       "      <td>1</td>\n",
       "      <td>0</td>\n",
       "    </tr>\n",
       "    <tr>\n",
       "      <th>3</th>\n",
       "      <td>1.704821</td>\n",
       "      <td>1.044492</td>\n",
       "      <td>0.572511</td>\n",
       "      <td>-0.655508</td>\n",
       "      <td>-0.672723</td>\n",
       "      <td>-0.720366</td>\n",
       "      <td>-0.060825</td>\n",
       "      <td>-0.010067</td>\n",
       "      <td>-0.222525</td>\n",
       "      <td>-0.241468</td>\n",
       "      <td>...</td>\n",
       "      <td>0</td>\n",
       "      <td>0</td>\n",
       "      <td>1</td>\n",
       "      <td>0</td>\n",
       "      <td>0</td>\n",
       "      <td>0</td>\n",
       "      <td>0</td>\n",
       "      <td>1</td>\n",
       "      <td>0</td>\n",
       "      <td>0</td>\n",
       "    </tr>\n",
       "    <tr>\n",
       "      <th>4</th>\n",
       "      <td>0.244543</td>\n",
       "      <td>-0.260579</td>\n",
       "      <td>1.402726</td>\n",
       "      <td>1.645476</td>\n",
       "      <td>1.768401</td>\n",
       "      <td>1.976964</td>\n",
       "      <td>2.220946</td>\n",
       "      <td>2.353287</td>\n",
       "      <td>0.643348</td>\n",
       "      <td>0.039417</td>\n",
       "      <td>...</td>\n",
       "      <td>1</td>\n",
       "      <td>0</td>\n",
       "      <td>0</td>\n",
       "      <td>0</td>\n",
       "      <td>1</td>\n",
       "      <td>0</td>\n",
       "      <td>0</td>\n",
       "      <td>0</td>\n",
       "      <td>1</td>\n",
       "      <td>0</td>\n",
       "    </tr>\n",
       "  </tbody>\n",
       "</table>\n",
       "<p>5 rows × 51 columns</p>\n",
       "</div>"
      ],
      "text/plain": [
       "   LIMIT_BAL       AGE  BILL_AMT1  BILL_AMT2  BILL_AMT3  BILL_AMT4  BILL_AMT5  \\\n",
       "0  -1.062022 -1.239383  -0.318155  -0.285758  -0.670259  -0.670242  -0.660989   \n",
       "1  -0.524025 -0.913115   0.088601   0.151187   0.207402   0.415086   0.489013   \n",
       "2   0.244543 -0.913115  -0.545878  -0.686564  -0.645473  -0.631816  -0.620033   \n",
       "3   1.704821  1.044492   0.572511  -0.655508  -0.672723  -0.720366  -0.060825   \n",
       "4   0.244543 -0.260579   1.402726   1.645476   1.768401   1.976964   2.220946   \n",
       "\n",
       "   BILL_AMT6  PAY_AMT1  PAY_AMT2  ...  PAY_4_2  PAY_4_3  PAY_5_-1  PAY_5_0  \\\n",
       "0  -0.653431 -0.238120 -0.269098  ...        1        0         1        0   \n",
       "1   0.554260 -0.170315 -0.155674  ...        0        0         0        1   \n",
       "2  -0.611541 -0.373731 -0.155674  ...        1        0         0        0   \n",
       "3  -0.010067 -0.222525 -0.241468  ...        0        0         1        0   \n",
       "4   2.353287  0.643348  0.039417  ...        1        0         0        0   \n",
       "\n",
       "   PAY_5_2  PAY_5_3  PAY_6_-1  PAY_6_0  PAY_6_2  PAY_6_3  \n",
       "0        0        0         1        0        0        0  \n",
       "1        0        0         0        1        0        0  \n",
       "2        1        0         0        0        1        0  \n",
       "3        0        0         0        1        0        0  \n",
       "4        1        0         0        0        1        0  \n",
       "\n",
       "[5 rows x 51 columns]"
      ]
     },
     "execution_count": 11,
     "metadata": {},
     "output_type": "execute_result"
    }
   ],
   "source": [
    "X_train.head()"
   ]
  },
  {
   "cell_type": "code",
   "execution_count": 12,
   "metadata": {},
   "outputs": [
    {
     "data": {
      "text/html": [
       "<div>\n",
       "<style scoped>\n",
       "    .dataframe tbody tr th:only-of-type {\n",
       "        vertical-align: middle;\n",
       "    }\n",
       "\n",
       "    .dataframe tbody tr th {\n",
       "        vertical-align: top;\n",
       "    }\n",
       "\n",
       "    .dataframe thead th {\n",
       "        text-align: right;\n",
       "    }\n",
       "</style>\n",
       "<table border=\"1\" class=\"dataframe\">\n",
       "  <thead>\n",
       "    <tr style=\"text-align: right;\">\n",
       "      <th></th>\n",
       "      <th>LIMIT_BAL</th>\n",
       "      <th>AGE</th>\n",
       "      <th>BILL_AMT1</th>\n",
       "      <th>BILL_AMT2</th>\n",
       "      <th>BILL_AMT3</th>\n",
       "      <th>BILL_AMT4</th>\n",
       "      <th>BILL_AMT5</th>\n",
       "      <th>BILL_AMT6</th>\n",
       "      <th>PAY_AMT1</th>\n",
       "      <th>PAY_AMT2</th>\n",
       "      <th>...</th>\n",
       "      <th>PAY_4_2</th>\n",
       "      <th>PAY_4_3</th>\n",
       "      <th>PAY_5_-1</th>\n",
       "      <th>PAY_5_0</th>\n",
       "      <th>PAY_5_2</th>\n",
       "      <th>PAY_5_3</th>\n",
       "      <th>PAY_6_-1</th>\n",
       "      <th>PAY_6_0</th>\n",
       "      <th>PAY_6_2</th>\n",
       "      <th>PAY_6_3</th>\n",
       "    </tr>\n",
       "  </thead>\n",
       "  <tbody>\n",
       "    <tr>\n",
       "      <th>count</th>\n",
       "      <td>10000.000000</td>\n",
       "      <td>10000.000000</td>\n",
       "      <td>10000.000000</td>\n",
       "      <td>10000.000000</td>\n",
       "      <td>10000.000000</td>\n",
       "      <td>10000.000000</td>\n",
       "      <td>10000.000000</td>\n",
       "      <td>10000.000000</td>\n",
       "      <td>10000.000000</td>\n",
       "      <td>10000.000000</td>\n",
       "      <td>...</td>\n",
       "      <td>10000.000000</td>\n",
       "      <td>10000.000000</td>\n",
       "      <td>10000.00000</td>\n",
       "      <td>10000.000000</td>\n",
       "      <td>10000.000000</td>\n",
       "      <td>10000.0000</td>\n",
       "      <td>10000.000000</td>\n",
       "      <td>10000.000000</td>\n",
       "      <td>10000.000000</td>\n",
       "      <td>10000.000000</td>\n",
       "    </tr>\n",
       "    <tr>\n",
       "      <th>mean</th>\n",
       "      <td>-0.076442</td>\n",
       "      <td>0.016063</td>\n",
       "      <td>-0.017529</td>\n",
       "      <td>-0.013823</td>\n",
       "      <td>-0.014003</td>\n",
       "      <td>-0.017149</td>\n",
       "      <td>-0.013658</td>\n",
       "      <td>-0.013536</td>\n",
       "      <td>-0.041695</td>\n",
       "      <td>-0.029450</td>\n",
       "      <td>...</td>\n",
       "      <td>0.151500</td>\n",
       "      <td>0.019500</td>\n",
       "      <td>0.31920</td>\n",
       "      <td>0.533300</td>\n",
       "      <td>0.129100</td>\n",
       "      <td>0.0184</td>\n",
       "      <td>0.339200</td>\n",
       "      <td>0.520400</td>\n",
       "      <td>0.123600</td>\n",
       "      <td>0.016800</td>\n",
       "    </tr>\n",
       "    <tr>\n",
       "      <th>std</th>\n",
       "      <td>0.989154</td>\n",
       "      <td>1.024743</td>\n",
       "      <td>1.001902</td>\n",
       "      <td>1.008611</td>\n",
       "      <td>1.008496</td>\n",
       "      <td>0.997758</td>\n",
       "      <td>0.991346</td>\n",
       "      <td>0.990870</td>\n",
       "      <td>1.000423</td>\n",
       "      <td>0.984295</td>\n",
       "      <td>...</td>\n",
       "      <td>0.358553</td>\n",
       "      <td>0.138281</td>\n",
       "      <td>0.46619</td>\n",
       "      <td>0.498915</td>\n",
       "      <td>0.335327</td>\n",
       "      <td>0.1344</td>\n",
       "      <td>0.473461</td>\n",
       "      <td>0.499609</td>\n",
       "      <td>0.329141</td>\n",
       "      <td>0.128528</td>\n",
       "    </tr>\n",
       "    <tr>\n",
       "      <th>min</th>\n",
       "      <td>-1.215736</td>\n",
       "      <td>-1.565651</td>\n",
       "      <td>-0.776565</td>\n",
       "      <td>-1.030605</td>\n",
       "      <td>-2.947725</td>\n",
       "      <td>-1.671894</td>\n",
       "      <td>-0.911736</td>\n",
       "      <td>-1.307687</td>\n",
       "      <td>-0.373731</td>\n",
       "      <td>-0.269098</td>\n",
       "      <td>...</td>\n",
       "      <td>0.000000</td>\n",
       "      <td>0.000000</td>\n",
       "      <td>0.00000</td>\n",
       "      <td>0.000000</td>\n",
       "      <td>0.000000</td>\n",
       "      <td>0.0000</td>\n",
       "      <td>0.000000</td>\n",
       "      <td>0.000000</td>\n",
       "      <td>0.000000</td>\n",
       "      <td>0.000000</td>\n",
       "    </tr>\n",
       "    <tr>\n",
       "      <th>25%</th>\n",
       "      <td>-0.908309</td>\n",
       "      <td>-0.804359</td>\n",
       "      <td>-0.645728</td>\n",
       "      <td>-0.648962</td>\n",
       "      <td>-0.645617</td>\n",
       "      <td>-0.634295</td>\n",
       "      <td>-0.634089</td>\n",
       "      <td>-0.633240</td>\n",
       "      <td>-0.346880</td>\n",
       "      <td>-0.251404</td>\n",
       "      <td>...</td>\n",
       "      <td>0.000000</td>\n",
       "      <td>0.000000</td>\n",
       "      <td>0.00000</td>\n",
       "      <td>0.000000</td>\n",
       "      <td>0.000000</td>\n",
       "      <td>0.0000</td>\n",
       "      <td>0.000000</td>\n",
       "      <td>0.000000</td>\n",
       "      <td>0.000000</td>\n",
       "      <td>0.000000</td>\n",
       "    </tr>\n",
       "    <tr>\n",
       "      <th>50%</th>\n",
       "      <td>-0.293455</td>\n",
       "      <td>-0.151823</td>\n",
       "      <td>-0.399154</td>\n",
       "      <td>-0.395659</td>\n",
       "      <td>-0.394604</td>\n",
       "      <td>-0.378994</td>\n",
       "      <td>-0.361152</td>\n",
       "      <td>-0.360067</td>\n",
       "      <td>-0.238120</td>\n",
       "      <td>-0.178358</td>\n",
       "      <td>...</td>\n",
       "      <td>0.000000</td>\n",
       "      <td>0.000000</td>\n",
       "      <td>0.00000</td>\n",
       "      <td>1.000000</td>\n",
       "      <td>0.000000</td>\n",
       "      <td>0.0000</td>\n",
       "      <td>0.000000</td>\n",
       "      <td>1.000000</td>\n",
       "      <td>0.000000</td>\n",
       "      <td>0.000000</td>\n",
       "    </tr>\n",
       "    <tr>\n",
       "      <th>75%</th>\n",
       "      <td>0.475113</td>\n",
       "      <td>0.718224</td>\n",
       "      <td>0.162754</td>\n",
       "      <td>0.162440</td>\n",
       "      <td>0.146832</td>\n",
       "      <td>0.122047</td>\n",
       "      <td>0.140100</td>\n",
       "      <td>0.154603</td>\n",
       "      <td>-0.057487</td>\n",
       "      <td>-0.064934</td>\n",
       "      <td>...</td>\n",
       "      <td>0.000000</td>\n",
       "      <td>0.000000</td>\n",
       "      <td>1.00000</td>\n",
       "      <td>1.000000</td>\n",
       "      <td>0.000000</td>\n",
       "      <td>0.0000</td>\n",
       "      <td>1.000000</td>\n",
       "      <td>1.000000</td>\n",
       "      <td>0.000000</td>\n",
       "      <td>0.000000</td>\n",
       "    </tr>\n",
       "    <tr>\n",
       "      <th>max</th>\n",
       "      <td>6.393084</td>\n",
       "      <td>4.307170</td>\n",
       "      <td>12.189477</td>\n",
       "      <td>13.016187</td>\n",
       "      <td>9.256484</td>\n",
       "      <td>13.033913</td>\n",
       "      <td>14.528171</td>\n",
       "      <td>15.460237</td>\n",
       "      <td>33.078530</td>\n",
       "      <td>55.403356</td>\n",
       "      <td>...</td>\n",
       "      <td>1.000000</td>\n",
       "      <td>1.000000</td>\n",
       "      <td>1.00000</td>\n",
       "      <td>1.000000</td>\n",
       "      <td>1.000000</td>\n",
       "      <td>1.0000</td>\n",
       "      <td>1.000000</td>\n",
       "      <td>1.000000</td>\n",
       "      <td>1.000000</td>\n",
       "      <td>1.000000</td>\n",
       "    </tr>\n",
       "  </tbody>\n",
       "</table>\n",
       "<p>8 rows × 51 columns</p>\n",
       "</div>"
      ],
      "text/plain": [
       "          LIMIT_BAL           AGE     BILL_AMT1     BILL_AMT2     BILL_AMT3  \\\n",
       "count  10000.000000  10000.000000  10000.000000  10000.000000  10000.000000   \n",
       "mean      -0.076442      0.016063     -0.017529     -0.013823     -0.014003   \n",
       "std        0.989154      1.024743      1.001902      1.008611      1.008496   \n",
       "min       -1.215736     -1.565651     -0.776565     -1.030605     -2.947725   \n",
       "25%       -0.908309     -0.804359     -0.645728     -0.648962     -0.645617   \n",
       "50%       -0.293455     -0.151823     -0.399154     -0.395659     -0.394604   \n",
       "75%        0.475113      0.718224      0.162754      0.162440      0.146832   \n",
       "max        6.393084      4.307170     12.189477     13.016187      9.256484   \n",
       "\n",
       "          BILL_AMT4     BILL_AMT5     BILL_AMT6      PAY_AMT1      PAY_AMT2  \\\n",
       "count  10000.000000  10000.000000  10000.000000  10000.000000  10000.000000   \n",
       "mean      -0.017149     -0.013658     -0.013536     -0.041695     -0.029450   \n",
       "std        0.997758      0.991346      0.990870      1.000423      0.984295   \n",
       "min       -1.671894     -0.911736     -1.307687     -0.373731     -0.269098   \n",
       "25%       -0.634295     -0.634089     -0.633240     -0.346880     -0.251404   \n",
       "50%       -0.378994     -0.361152     -0.360067     -0.238120     -0.178358   \n",
       "75%        0.122047      0.140100      0.154603     -0.057487     -0.064934   \n",
       "max       13.033913     14.528171     15.460237     33.078530     55.403356   \n",
       "\n",
       "       ...       PAY_4_2       PAY_4_3     PAY_5_-1       PAY_5_0  \\\n",
       "count  ...  10000.000000  10000.000000  10000.00000  10000.000000   \n",
       "mean   ...      0.151500      0.019500      0.31920      0.533300   \n",
       "std    ...      0.358553      0.138281      0.46619      0.498915   \n",
       "min    ...      0.000000      0.000000      0.00000      0.000000   \n",
       "25%    ...      0.000000      0.000000      0.00000      0.000000   \n",
       "50%    ...      0.000000      0.000000      0.00000      1.000000   \n",
       "75%    ...      0.000000      0.000000      1.00000      1.000000   \n",
       "max    ...      1.000000      1.000000      1.00000      1.000000   \n",
       "\n",
       "            PAY_5_2     PAY_5_3      PAY_6_-1       PAY_6_0       PAY_6_2  \\\n",
       "count  10000.000000  10000.0000  10000.000000  10000.000000  10000.000000   \n",
       "mean       0.129100      0.0184      0.339200      0.520400      0.123600   \n",
       "std        0.335327      0.1344      0.473461      0.499609      0.329141   \n",
       "min        0.000000      0.0000      0.000000      0.000000      0.000000   \n",
       "25%        0.000000      0.0000      0.000000      0.000000      0.000000   \n",
       "50%        0.000000      0.0000      0.000000      1.000000      0.000000   \n",
       "75%        0.000000      0.0000      1.000000      1.000000      0.000000   \n",
       "max        1.000000      1.0000      1.000000      1.000000      1.000000   \n",
       "\n",
       "            PAY_6_3  \n",
       "count  10000.000000  \n",
       "mean       0.016800  \n",
       "std        0.128528  \n",
       "min        0.000000  \n",
       "25%        0.000000  \n",
       "50%        0.000000  \n",
       "75%        0.000000  \n",
       "max        1.000000  \n",
       "\n",
       "[8 rows x 51 columns]"
      ]
     },
     "execution_count": 12,
     "metadata": {},
     "output_type": "execute_result"
    }
   ],
   "source": [
    "X_train.describe()"
   ]
  },
  {
   "cell_type": "markdown",
   "metadata": {
    "colab_type": "text",
    "id": "BFYuk7hqaFLV"
   },
   "source": [
    "### Модель, полученная на предыдущем уроке<a class=\"anchor\" id=\"model_from_prev_lesson\"></a>"
   ]
  },
  {
   "cell_type": "code",
   "execution_count": 15,
   "metadata": {
    "colab": {},
    "colab_type": "code",
    "id": "FzBHg6yCaFLW",
    "outputId": "1903e406-96ab-4476-e1d1-5c9f9f15bb9c"
   },
   "outputs": [
    {
     "name": "stdout",
     "output_type": "stream",
     "text": [
      "TRAIN\n",
      "\n",
      "              precision    recall  f1-score   support\n",
      "\n",
      "           0       0.76      0.87      0.81      5500\n",
      "           1       0.80      0.66      0.72      4500\n",
      "\n",
      "    accuracy                           0.77     10000\n",
      "   macro avg       0.78      0.76      0.77     10000\n",
      "weighted avg       0.78      0.77      0.77     10000\n",
      "\n",
      "TEST\n",
      "\n",
      "              precision    recall  f1-score   support\n",
      "\n",
      "           0       0.87      0.84      0.85      2305\n",
      "           1       0.52      0.57      0.54       695\n",
      "\n",
      "    accuracy                           0.78      3000\n",
      "   macro avg       0.69      0.71      0.70      3000\n",
      "weighted avg       0.79      0.78      0.78      3000\n",
      "\n",
      "CONFUSION MATRIX\n",
      "\n",
      "col_0                0.0  1.0\n",
      "NEXT_MONTH_DEFAULT           \n",
      "0                   1944  361\n",
      "1                    301  394\n"
     ]
    }
   ],
   "source": [
    "final_model = catb.CatBoostClassifier(n_estimators=500, max_depth=3,\n",
    "                                      silent=True, random_state=21)\n",
    "final_model.fit(X_train, y_train)\n",
    "\n",
    "y_train_pred = final_model.predict(X_train)\n",
    "y_test_pred = final_model.predict(X_test)\n",
    "y_test_pred_probs = final_model.predict_proba(X_test)\n",
    "\n",
    "get_classification_report(y_train, y_train_pred, y_test, y_test_pred)"
   ]
  },
  {
   "cell_type": "markdown",
   "metadata": {
    "colab_type": "text",
    "id": "Pc5eOgXZaFLa"
   },
   "source": [
    "### Снижение степени переобучения<a class=\"anchor\" id=\"lowering_overfitting\"></a>"
   ]
  },
  {
   "cell_type": "code",
   "execution_count": 16,
   "metadata": {
    "colab": {},
    "colab_type": "code",
    "id": "CgwFS-hNaFLb",
    "outputId": "ff5d2572-635e-43b9-b533-c42dc755a271"
   },
   "outputs": [
    {
     "name": "stdout",
     "output_type": "stream",
     "text": [
      "TRAIN\n",
      "\n",
      "              precision    recall  f1-score   support\n",
      "\n",
      "           0       0.73      0.86      0.79      5500\n",
      "           1       0.78      0.62      0.69      4500\n",
      "\n",
      "    accuracy                           0.75     10000\n",
      "   macro avg       0.76      0.74      0.74     10000\n",
      "weighted avg       0.76      0.75      0.75     10000\n",
      "\n",
      "TEST\n",
      "\n",
      "              precision    recall  f1-score   support\n",
      "\n",
      "           0       0.87      0.84      0.85      2305\n",
      "           1       0.52      0.57      0.54       695\n",
      "\n",
      "    accuracy                           0.78      3000\n",
      "   macro avg       0.69      0.70      0.70      3000\n",
      "weighted avg       0.78      0.78      0.78      3000\n",
      "\n",
      "CONFUSION MATRIX\n",
      "\n",
      "col_0                0.0  1.0\n",
      "NEXT_MONTH_DEFAULT           \n",
      "0                   1938  367\n",
      "1                    302  393\n"
     ]
    }
   ],
   "source": [
    "final_model = catb.CatBoostClassifier(n_estimators=500, max_depth=3,\n",
    "                                      l2_leaf_reg=10,\n",
    "                                      silent=True, random_state=21)\n",
    "final_model.fit(X_train, y_train)\n",
    "\n",
    "y_train_pred = final_model.predict(X_train)\n",
    "y_test_pred = final_model.predict(X_test)\n",
    "y_test_pred_probs = final_model.predict_proba(X_test)\n",
    "\n",
    "get_classification_report(y_train, y_train_pred, y_test, y_test_pred)"
   ]
  },
  {
   "cell_type": "markdown",
   "metadata": {
    "colab_type": "text",
    "id": "k5eE4qtPaFLd"
   },
   "source": [
    "### Подбор оптимального размера выборки, кривая обучения<a class=\"anchor\" id=\"learning_curve\"></a>"
   ]
  },
  {
   "cell_type": "code",
   "execution_count": 17,
   "metadata": {
    "colab": {},
    "colab_type": "code",
    "id": "OT90KHoKaFLe"
   },
   "outputs": [],
   "source": [
    "final_model = catb.CatBoostClassifier(n_estimators=500, max_depth=3,\n",
    "                                      class_weights=[1, 3.5],\n",
    "                                      silent=True, random_state=21)"
   ]
  },
  {
   "cell_type": "markdown",
   "metadata": {
    "colab_type": "text",
    "id": "Htjpm4LWaFLk"
   },
   "source": [
    "### Выбор порога вероятности для определения класса<a class=\"anchor\" id=\"threshold_calibration\"></a>"
   ]
  },
  {
   "cell_type": "code",
   "execution_count": 17,
   "metadata": {
    "colab": {},
    "colab_type": "code",
    "id": "nVbz_q2paFLl",
    "outputId": "a1d89cb0-710e-4253-cf0d-f0d55e49c576"
   },
   "outputs": [
    {
     "data": {
      "image/png": "[encoded data removed]",
      "text/plain": [
       "<Figure size 1080x360 with 2 Axes>"
      ]
     },
     "metadata": {
      "needs_background": "light"
     },
     "output_type": "display_data"
    }
   ],
   "source": [
    "show_proba_calibration_plots(y_test_pred_probs[:, 1], y_test)"
   ]
  },
  {
   "cell_type": "markdown",
   "metadata": {
    "colab_type": "text",
    "id": "n8CyzGecaFLn"
   },
   "source": [
    "### Важность признаков<a class=\"anchor\" id=\"feature_importances\"></a>"
   ]
  },
  {
   "cell_type": "code",
   "execution_count": 21,
   "metadata": {
    "colab": {},
    "colab_type": "code",
    "id": "ELURYjOVaFLp",
    "outputId": "e5294c54-1748-41bd-c6f9-8e3407f9db0a"
   },
   "outputs": [
    {
     "data": {
      "image/png": "[encoded data removed]",
      "text/plain": [
       "<Figure size 1440x1303.56 with 1 Axes>"
      ]
     },
     "metadata": {
      "needs_background": "light"
     },
     "output_type": "display_data"
    }
   ],
   "source": [
    "important_features_top = show_feature_importances(X_train.columns, final_model.feature_importances_, get_top=15)"
   ]
  },
  {
   "cell_type": "code",
   "execution_count": 22,
   "metadata": {
    "colab": {},
    "colab_type": "code",
    "id": "71hicn4GaFLs",
    "outputId": "89c5581a-ec80-4f12-9b3e-1bdd6d83572f"
   },
   "outputs": [
    {
     "data": {
      "text/plain": [
       "['PAY_1_2',\n",
       " 'PAY_2_2',\n",
       " 'LIMIT_BAL',\n",
       " 'BILL_AMT1',\n",
       " 'PAY_AMT2',\n",
       " 'PAY_AMT1',\n",
       " 'PAY_AMT6',\n",
       " 'BILL_AMT3',\n",
       " 'PAY_AMT4',\n",
       " 'BILL_AMT2',\n",
       " 'PAY_3_2',\n",
       " 'PAY_AMT3',\n",
       " 'PAY_5_2',\n",
       " 'PAY_AMT5',\n",
       " 'AGE']"
      ]
     },
     "execution_count": 22,
     "metadata": {},
     "output_type": "execute_result"
    }
   ],
   "source": [
    "important_features_top"
   ]
  },
  {
   "cell_type": "markdown",
   "metadata": {
    "colab_type": "text",
    "id": "UGyl6MARaFLv"
   },
   "source": [
    "### Финальная модель<a class=\"anchor\" id=\"final_model\"></a>"
   ]
  },
  {
   "cell_type": "code",
   "execution_count": 75,
   "metadata": {
    "colab": {},
    "colab_type": "code",
    "id": "rO7UyciPaFLw",
    "outputId": "a1e1b0eb-eccb-4987-ff58-d213f19d6cf7"
   },
   "outputs": [
    {
     "name": "stdout",
     "output_type": "stream",
     "text": [
      "TRAIN\n",
      "\n",
      "              precision    recall  f1-score   support\n",
      "\n",
      "           0       0.73      0.85      0.79      5500\n",
      "           1       0.77      0.62      0.69      4500\n",
      "\n",
      "    accuracy                           0.75     10000\n",
      "   macro avg       0.75      0.74      0.74     10000\n",
      "weighted avg       0.75      0.75      0.74     10000\n",
      "\n",
      "TEST\n",
      "\n",
      "              precision    recall  f1-score   support\n",
      "\n",
      "           0       0.87      0.84      0.85      2305\n",
      "           1       0.52      0.57      0.54       695\n",
      "\n",
      "    accuracy                           0.78      3000\n",
      "   macro avg       0.69      0.71      0.70      3000\n",
      "weighted avg       0.79      0.78      0.78      3000\n",
      "\n",
      "CONFUSION MATRIX\n",
      "\n",
      "col_0                0.0  1.0\n",
      "NEXT_MONTH_DEFAULT           \n",
      "0                   1940  365\n",
      "1                    299  396\n"
     ]
    }
   ],
   "source": [
    "final_model = catb.CatBoostClassifier(n_estimators=500, max_depth=3, l2_leaf_reg=1,\n",
    "                                      silent=True, random_state=21)\n",
    "final_model.fit(X_train[important_features_top], y_train)\n",
    "\n",
    "y_train_pred = final_model.predict(X_train[important_features_top])\n",
    "y_test_pred = final_model.predict(X_test[important_features_top])\n",
    "y_test_pred_probs = final_model.predict_proba(X_test[important_features_top])\n",
    "\n",
    "get_classification_report(y_train, y_train_pred, y_test, y_test_pred)"
   ]
  },
  {
   "cell_type": "code",
   "execution_count": 76,
   "metadata": {},
   "outputs": [
    {
     "data": {
      "image/png": "[encoded data removed]",
      "text/plain": [
       "<Figure size 432x288 with 1 Axes>"
      ]
     },
     "metadata": {
      "needs_background": "light"
     },
     "output_type": "display_data"
    }
   ],
   "source": [
    "N=30\n",
    "plt.plot(y_test_pred_probs[:N,1],label='1')\n",
    "#plt.plot(y_test_pred_probs[:N,0],label='0')\n",
    "plt.legend()\n",
    "plt.show()"
   ]
  },
  {
   "cell_type": "code",
   "execution_count": 77,
   "metadata": {},
   "outputs": [
    {
     "data": {
      "image/png": "[encoded data removed]",
      "text/plain": [
       "<Figure size 432x288 with 1 Axes>"
      ]
     },
     "metadata": {
      "needs_background": "light"
     },
     "output_type": "display_data"
    },
    {
     "name": "stdout",
     "output_type": "stream",
     "text": [
      "TRAIN\n",
      "\n",
      "              precision    recall  f1-score   support\n",
      "\n",
      "           0       0.73      0.85      0.79      5500\n",
      "           1       0.77      0.62      0.69      4500\n",
      "\n",
      "    accuracy                           0.75     10000\n",
      "   macro avg       0.75      0.74      0.74     10000\n",
      "weighted avg       0.75      0.75      0.74     10000\n",
      "\n",
      "TEST\n",
      "\n",
      "              precision    recall  f1-score   support\n",
      "\n",
      "           0       0.86      0.86      0.86      2305\n",
      "           1       0.54      0.54      0.54       695\n",
      "\n",
      "    accuracy                           0.78      3000\n",
      "   macro avg       0.70      0.70      0.70      3000\n",
      "weighted avg       0.78      0.78      0.78      3000\n",
      "\n",
      "CONFUSION MATRIX\n",
      "\n",
      "col_0                  0    1\n",
      "NEXT_MONTH_DEFAULT           \n",
      "0                   1981  324\n",
      "1                    322  373\n"
     ]
    }
   ],
   "source": [
    "N=30\n",
    "porog=0.52\n",
    "y_p = (y_test_pred_probs[:,1]>porog).astype(int)\n",
    "\n",
    "plt.plot(y_test_pred_probs[:N,1], label='y_pred')\n",
    "\n",
    "plt.plot(y_test[:N], label='y_test')\n",
    "plt.plot([0,N],[porog, porog], '--r',label='porog')\n",
    "plt.plot(y_p[:N], label='y_porog')\n",
    "plt.legend()\n",
    "plt.show()\n",
    "get_classification_report(y_train, y_train_pred, y_test, y_p)"
   ]
  },
  {
   "cell_type": "markdown",
   "metadata": {
    "colab_type": "text",
    "id": "LLT836LbaFLz"
   },
   "source": [
    "### Сохранение финальной модели<a class=\"anchor\" id=\"final_model_saving\"></a>"
   ]
  },
  {
   "cell_type": "code",
   "execution_count": 0,
   "metadata": {
    "colab": {},
    "colab_type": "code",
    "id": "tAzaGx2maFL0"
   },
   "outputs": [],
   "source": [
    "with open(MODEL_FILE_PATH, 'wb') as file:\n",
    "    pickle.dump(final_model, file)"
   ]
  },
  {
   "cell_type": "code",
   "execution_count": 78,
   "metadata": {
    "colab": {},
    "colab_type": "code",
    "id": "b0b6rgsGaFL2"
   },
   "outputs": [],
   "source": [
    "dfp = pd.read_csv('course_project_train.csv')"
   ]
  },
  {
   "cell_type": "code",
   "execution_count": 79,
   "metadata": {},
   "outputs": [],
   "source": [
    "dft = pd.read_csv('course_project_test.csv')"
   ]
  },
  {
   "cell_type": "code",
   "execution_count": 80,
   "metadata": {},
   "outputs": [
    {
     "data": {
      "text/html": [
       "<div>\n",
       "<style scoped>\n",
       "    .dataframe tbody tr th:only-of-type {\n",
       "        vertical-align: middle;\n",
       "    }\n",
       "\n",
       "    .dataframe tbody tr th {\n",
       "        vertical-align: top;\n",
       "    }\n",
       "\n",
       "    .dataframe thead th {\n",
       "        text-align: right;\n",
       "    }\n",
       "</style>\n",
       "<table border=\"1\" class=\"dataframe\">\n",
       "  <thead>\n",
       "    <tr style=\"text-align: right;\">\n",
       "      <th></th>\n",
       "      <th>Home Ownership</th>\n",
       "      <th>Annual Income</th>\n",
       "      <th>Years in current job</th>\n",
       "      <th>Tax Liens</th>\n",
       "      <th>Number of Open Accounts</th>\n",
       "      <th>Years of Credit History</th>\n",
       "      <th>Maximum Open Credit</th>\n",
       "      <th>Number of Credit Problems</th>\n",
       "      <th>Months since last delinquent</th>\n",
       "      <th>Bankruptcies</th>\n",
       "      <th>Purpose</th>\n",
       "      <th>Term</th>\n",
       "      <th>Current Loan Amount</th>\n",
       "      <th>Current Credit Balance</th>\n",
       "      <th>Monthly Debt</th>\n",
       "      <th>Credit Score</th>\n",
       "      <th>Credit Default</th>\n",
       "    </tr>\n",
       "  </thead>\n",
       "  <tbody>\n",
       "    <tr>\n",
       "      <th>0</th>\n",
       "      <td>Own Home</td>\n",
       "      <td>482087.0</td>\n",
       "      <td>NaN</td>\n",
       "      <td>0.0</td>\n",
       "      <td>11.0</td>\n",
       "      <td>26.3</td>\n",
       "      <td>685960.0</td>\n",
       "      <td>1.0</td>\n",
       "      <td>NaN</td>\n",
       "      <td>1.0</td>\n",
       "      <td>debt consolidation</td>\n",
       "      <td>Short Term</td>\n",
       "      <td>99999999.0</td>\n",
       "      <td>47386.0</td>\n",
       "      <td>7914.0</td>\n",
       "      <td>749.0</td>\n",
       "      <td>0</td>\n",
       "    </tr>\n",
       "    <tr>\n",
       "      <th>1</th>\n",
       "      <td>Own Home</td>\n",
       "      <td>1025487.0</td>\n",
       "      <td>10+ years</td>\n",
       "      <td>0.0</td>\n",
       "      <td>15.0</td>\n",
       "      <td>15.3</td>\n",
       "      <td>1181730.0</td>\n",
       "      <td>0.0</td>\n",
       "      <td>NaN</td>\n",
       "      <td>0.0</td>\n",
       "      <td>debt consolidation</td>\n",
       "      <td>Long Term</td>\n",
       "      <td>264968.0</td>\n",
       "      <td>394972.0</td>\n",
       "      <td>18373.0</td>\n",
       "      <td>737.0</td>\n",
       "      <td>1</td>\n",
       "    </tr>\n",
       "    <tr>\n",
       "      <th>2</th>\n",
       "      <td>Home Mortgage</td>\n",
       "      <td>751412.0</td>\n",
       "      <td>8 years</td>\n",
       "      <td>0.0</td>\n",
       "      <td>11.0</td>\n",
       "      <td>35.0</td>\n",
       "      <td>1182434.0</td>\n",
       "      <td>0.0</td>\n",
       "      <td>NaN</td>\n",
       "      <td>0.0</td>\n",
       "      <td>debt consolidation</td>\n",
       "      <td>Short Term</td>\n",
       "      <td>99999999.0</td>\n",
       "      <td>308389.0</td>\n",
       "      <td>13651.0</td>\n",
       "      <td>742.0</td>\n",
       "      <td>0</td>\n",
       "    </tr>\n",
       "    <tr>\n",
       "      <th>3</th>\n",
       "      <td>Own Home</td>\n",
       "      <td>805068.0</td>\n",
       "      <td>6 years</td>\n",
       "      <td>0.0</td>\n",
       "      <td>8.0</td>\n",
       "      <td>22.5</td>\n",
       "      <td>147400.0</td>\n",
       "      <td>1.0</td>\n",
       "      <td>NaN</td>\n",
       "      <td>1.0</td>\n",
       "      <td>debt consolidation</td>\n",
       "      <td>Short Term</td>\n",
       "      <td>121396.0</td>\n",
       "      <td>95855.0</td>\n",
       "      <td>11338.0</td>\n",
       "      <td>694.0</td>\n",
       "      <td>0</td>\n",
       "    </tr>\n",
       "    <tr>\n",
       "      <th>4</th>\n",
       "      <td>Rent</td>\n",
       "      <td>776264.0</td>\n",
       "      <td>8 years</td>\n",
       "      <td>0.0</td>\n",
       "      <td>13.0</td>\n",
       "      <td>13.6</td>\n",
       "      <td>385836.0</td>\n",
       "      <td>1.0</td>\n",
       "      <td>NaN</td>\n",
       "      <td>0.0</td>\n",
       "      <td>debt consolidation</td>\n",
       "      <td>Short Term</td>\n",
       "      <td>125840.0</td>\n",
       "      <td>93309.0</td>\n",
       "      <td>7180.0</td>\n",
       "      <td>719.0</td>\n",
       "      <td>0</td>\n",
       "    </tr>\n",
       "  </tbody>\n",
       "</table>\n",
       "</div>"
      ],
      "text/plain": [
       "  Home Ownership  Annual Income Years in current job  Tax Liens  \\\n",
       "0       Own Home       482087.0                  NaN        0.0   \n",
       "1       Own Home      1025487.0            10+ years        0.0   \n",
       "2  Home Mortgage       751412.0              8 years        0.0   \n",
       "3       Own Home       805068.0              6 years        0.0   \n",
       "4           Rent       776264.0              8 years        0.0   \n",
       "\n",
       "   Number of Open Accounts  Years of Credit History  Maximum Open Credit  \\\n",
       "0                     11.0                     26.3             685960.0   \n",
       "1                     15.0                     15.3            1181730.0   \n",
       "2                     11.0                     35.0            1182434.0   \n",
       "3                      8.0                     22.5             147400.0   \n",
       "4                     13.0                     13.6             385836.0   \n",
       "\n",
       "   Number of Credit Problems  Months since last delinquent  Bankruptcies  \\\n",
       "0                        1.0                           NaN           1.0   \n",
       "1                        0.0                           NaN           0.0   \n",
       "2                        0.0                           NaN           0.0   \n",
       "3                        1.0                           NaN           1.0   \n",
       "4                        1.0                           NaN           0.0   \n",
       "\n",
       "              Purpose        Term  Current Loan Amount  \\\n",
       "0  debt consolidation  Short Term           99999999.0   \n",
       "1  debt consolidation   Long Term             264968.0   \n",
       "2  debt consolidation  Short Term           99999999.0   \n",
       "3  debt consolidation  Short Term             121396.0   \n",
       "4  debt consolidation  Short Term             125840.0   \n",
       "\n",
       "   Current Credit Balance  Monthly Debt  Credit Score  Credit Default  \n",
       "0                 47386.0        7914.0         749.0               0  \n",
       "1                394972.0       18373.0         737.0               1  \n",
       "2                308389.0       13651.0         742.0               0  \n",
       "3                 95855.0       11338.0         694.0               0  \n",
       "4                 93309.0        7180.0         719.0               0  "
      ]
     },
     "execution_count": 80,
     "metadata": {},
     "output_type": "execute_result"
    }
   ],
   "source": [
    "dfp.head()"
   ]
  },
  {
   "cell_type": "code",
   "execution_count": 81,
   "metadata": {},
   "outputs": [
    {
     "data": {
      "text/html": [
       "<div>\n",
       "<style scoped>\n",
       "    .dataframe tbody tr th:only-of-type {\n",
       "        vertical-align: middle;\n",
       "    }\n",
       "\n",
       "    .dataframe tbody tr th {\n",
       "        vertical-align: top;\n",
       "    }\n",
       "\n",
       "    .dataframe thead th {\n",
       "        text-align: right;\n",
       "    }\n",
       "</style>\n",
       "<table border=\"1\" class=\"dataframe\">\n",
       "  <thead>\n",
       "    <tr style=\"text-align: right;\">\n",
       "      <th></th>\n",
       "      <th>Home Ownership</th>\n",
       "      <th>Annual Income</th>\n",
       "      <th>Years in current job</th>\n",
       "      <th>Tax Liens</th>\n",
       "      <th>Number of Open Accounts</th>\n",
       "      <th>Years of Credit History</th>\n",
       "      <th>Maximum Open Credit</th>\n",
       "      <th>Number of Credit Problems</th>\n",
       "      <th>Months since last delinquent</th>\n",
       "      <th>Bankruptcies</th>\n",
       "      <th>Purpose</th>\n",
       "      <th>Term</th>\n",
       "      <th>Current Loan Amount</th>\n",
       "      <th>Current Credit Balance</th>\n",
       "      <th>Monthly Debt</th>\n",
       "      <th>Credit Score</th>\n",
       "    </tr>\n",
       "  </thead>\n",
       "  <tbody>\n",
       "    <tr>\n",
       "      <th>0</th>\n",
       "      <td>Rent</td>\n",
       "      <td>NaN</td>\n",
       "      <td>4 years</td>\n",
       "      <td>0.0</td>\n",
       "      <td>9.0</td>\n",
       "      <td>12.5</td>\n",
       "      <td>220968.0</td>\n",
       "      <td>0.0</td>\n",
       "      <td>70.0</td>\n",
       "      <td>0.0</td>\n",
       "      <td>debt consolidation</td>\n",
       "      <td>Short Term</td>\n",
       "      <td>162470.0</td>\n",
       "      <td>105906.0</td>\n",
       "      <td>6813.0</td>\n",
       "      <td>NaN</td>\n",
       "    </tr>\n",
       "    <tr>\n",
       "      <th>1</th>\n",
       "      <td>Rent</td>\n",
       "      <td>231838.0</td>\n",
       "      <td>1 year</td>\n",
       "      <td>0.0</td>\n",
       "      <td>6.0</td>\n",
       "      <td>32.7</td>\n",
       "      <td>55946.0</td>\n",
       "      <td>0.0</td>\n",
       "      <td>8.0</td>\n",
       "      <td>0.0</td>\n",
       "      <td>educational expenses</td>\n",
       "      <td>Short Term</td>\n",
       "      <td>78298.0</td>\n",
       "      <td>46037.0</td>\n",
       "      <td>2318.0</td>\n",
       "      <td>699.0</td>\n",
       "    </tr>\n",
       "    <tr>\n",
       "      <th>2</th>\n",
       "      <td>Home Mortgage</td>\n",
       "      <td>1152540.0</td>\n",
       "      <td>3 years</td>\n",
       "      <td>0.0</td>\n",
       "      <td>10.0</td>\n",
       "      <td>13.7</td>\n",
       "      <td>204600.0</td>\n",
       "      <td>0.0</td>\n",
       "      <td>NaN</td>\n",
       "      <td>0.0</td>\n",
       "      <td>debt consolidation</td>\n",
       "      <td>Short Term</td>\n",
       "      <td>200178.0</td>\n",
       "      <td>146490.0</td>\n",
       "      <td>18729.0</td>\n",
       "      <td>7260.0</td>\n",
       "    </tr>\n",
       "    <tr>\n",
       "      <th>3</th>\n",
       "      <td>Home Mortgage</td>\n",
       "      <td>1220313.0</td>\n",
       "      <td>10+ years</td>\n",
       "      <td>0.0</td>\n",
       "      <td>16.0</td>\n",
       "      <td>17.0</td>\n",
       "      <td>456302.0</td>\n",
       "      <td>0.0</td>\n",
       "      <td>70.0</td>\n",
       "      <td>0.0</td>\n",
       "      <td>debt consolidation</td>\n",
       "      <td>Short Term</td>\n",
       "      <td>217382.0</td>\n",
       "      <td>213199.0</td>\n",
       "      <td>27559.0</td>\n",
       "      <td>739.0</td>\n",
       "    </tr>\n",
       "    <tr>\n",
       "      <th>4</th>\n",
       "      <td>Home Mortgage</td>\n",
       "      <td>2340952.0</td>\n",
       "      <td>6 years</td>\n",
       "      <td>0.0</td>\n",
       "      <td>11.0</td>\n",
       "      <td>23.6</td>\n",
       "      <td>1207272.0</td>\n",
       "      <td>0.0</td>\n",
       "      <td>NaN</td>\n",
       "      <td>0.0</td>\n",
       "      <td>debt consolidation</td>\n",
       "      <td>Long Term</td>\n",
       "      <td>777634.0</td>\n",
       "      <td>425391.0</td>\n",
       "      <td>42605.0</td>\n",
       "      <td>706.0</td>\n",
       "    </tr>\n",
       "  </tbody>\n",
       "</table>\n",
       "</div>"
      ],
      "text/plain": [
       "  Home Ownership  Annual Income Years in current job  Tax Liens  \\\n",
       "0           Rent            NaN              4 years        0.0   \n",
       "1           Rent       231838.0               1 year        0.0   \n",
       "2  Home Mortgage      1152540.0              3 years        0.0   \n",
       "3  Home Mortgage      1220313.0            10+ years        0.0   \n",
       "4  Home Mortgage      2340952.0              6 years        0.0   \n",
       "\n",
       "   Number of Open Accounts  Years of Credit History  Maximum Open Credit  \\\n",
       "0                      9.0                     12.5             220968.0   \n",
       "1                      6.0                     32.7              55946.0   \n",
       "2                     10.0                     13.7             204600.0   \n",
       "3                     16.0                     17.0             456302.0   \n",
       "4                     11.0                     23.6            1207272.0   \n",
       "\n",
       "   Number of Credit Problems  Months since last delinquent  Bankruptcies  \\\n",
       "0                        0.0                          70.0           0.0   \n",
       "1                        0.0                           8.0           0.0   \n",
       "2                        0.0                           NaN           0.0   \n",
       "3                        0.0                          70.0           0.0   \n",
       "4                        0.0                           NaN           0.0   \n",
       "\n",
       "                Purpose        Term  Current Loan Amount  \\\n",
       "0    debt consolidation  Short Term             162470.0   \n",
       "1  educational expenses  Short Term              78298.0   \n",
       "2    debt consolidation  Short Term             200178.0   \n",
       "3    debt consolidation  Short Term             217382.0   \n",
       "4    debt consolidation   Long Term             777634.0   \n",
       "\n",
       "   Current Credit Balance  Monthly Debt  Credit Score  \n",
       "0                105906.0        6813.0           NaN  \n",
       "1                 46037.0        2318.0         699.0  \n",
       "2                146490.0       18729.0        7260.0  \n",
       "3                213199.0       27559.0         739.0  \n",
       "4                425391.0       42605.0         706.0  "
      ]
     },
     "execution_count": 81,
     "metadata": {},
     "output_type": "execute_result"
    }
   ],
   "source": [
    "dft.head()"
   ]
  },
  {
   "cell_type": "code",
   "execution_count": null,
   "metadata": {},
   "outputs": [],
   "source": []
  }
 ],
 "metadata": {
  "colab": {
   "name": "Lesson04.ipynb",
   "provenance": []
  },
  "kernelspec": {
   "display_name": "Python 3",
   "language": "python",
   "name": "python3"
  },
  "language_info": {
   "codemirror_mode": {
    "name": "ipython",
    "version": 3
   },
   "file_extension": ".py",
   "mimetype": "text/x-python",
   "name": "python",
   "nbconvert_exporter": "python",
   "pygments_lexer": "ipython3",
   "version": "3.7.6"
  }
 },
 "nbformat": 4,
 "nbformat_minor": 1
}
