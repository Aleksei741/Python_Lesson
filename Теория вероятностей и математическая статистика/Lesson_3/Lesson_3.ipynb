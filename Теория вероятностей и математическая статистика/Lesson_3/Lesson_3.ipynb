{
 "cells": [
  {
   "cell_type": "markdown",
   "metadata": {},
   "source": [
    "Даны значения зарплат из выборки выпускников: 100, 80, 75, 77, 89, 33, 45, 25, 65, 17, 30, 24, 57, 55, 70, 75, 65, 84, 90, 150. Посчитать (желательно без использования статистических методов наподобие std, var, mean) среднее арифметическое, среднее квадратичное отклонение, смещенную и несмещенную оценки дисперсий для данной выборки."
   ]
  },
  {
   "cell_type": "code",
   "execution_count": 1,
   "metadata": {},
   "outputs": [],
   "source": [
    "import numpy as np"
   ]
  },
  {
   "cell_type": "code",
   "execution_count": 2,
   "metadata": {},
   "outputs": [],
   "source": [
    "data = np.array([100, 80, 75, 77, 89, 33, 45, 25, 65, 17, 30, 24, 57, 55, 70, 75, 65, 84, 90, 150])"
   ]
  },
  {
   "cell_type": "code",
   "execution_count": 3,
   "metadata": {},
   "outputs": [
    {
     "name": "stdout",
     "output_type": "stream",
     "text": [
      "65.3\n"
     ]
    }
   ],
   "source": [
    "mean = data.sum()/data.size\n",
    "print(mean)"
   ]
  },
  {
   "cell_type": "code",
   "execution_count": 4,
   "metadata": {},
   "outputs": [
    {
     "data": {
      "text/plain": [
       "65.3"
      ]
     },
     "execution_count": 4,
     "metadata": {},
     "output_type": "execute_result"
    }
   ],
   "source": [
    "data.mean()"
   ]
  },
  {
   "cell_type": "code",
   "execution_count": 5,
   "metadata": {},
   "outputs": [
    {
     "name": "stdout",
     "output_type": "stream",
     "text": [
      "30.823854398825596\n"
     ]
    }
   ],
   "source": [
    "height_std = np.sqrt(((data - mean)**2).sum() / data.size)\n",
    "print(height_std)"
   ]
  },
  {
   "cell_type": "code",
   "execution_count": 6,
   "metadata": {},
   "outputs": [
    {
     "data": {
      "text/plain": [
       "30.823854398825596"
      ]
     },
     "execution_count": 6,
     "metadata": {},
     "output_type": "execute_result"
    }
   ],
   "source": [
    "data.std(ddof=0)"
   ]
  },
  {
   "cell_type": "code",
   "execution_count": 7,
   "metadata": {},
   "outputs": [
    {
     "name": "stdout",
     "output_type": "stream",
     "text": [
      "950.11\n"
     ]
    }
   ],
   "source": [
    "height_variance = ((data - mean)**2).sum() / data.size\n",
    "print(height_variance)"
   ]
  },
  {
   "cell_type": "code",
   "execution_count": 8,
   "metadata": {},
   "outputs": [
    {
     "data": {
      "text/plain": [
       "950.11"
      ]
     },
     "execution_count": 8,
     "metadata": {},
     "output_type": "execute_result"
    }
   ],
   "source": [
    "data.var(ddof=0)"
   ]
  },
  {
   "cell_type": "code",
   "execution_count": 9,
   "metadata": {},
   "outputs": [
    {
     "name": "stdout",
     "output_type": "stream",
     "text": [
      "1000.1157894736842\n"
     ]
    }
   ],
   "source": [
    "height_variance = ((data - mean)**2).sum() / (data.size - 1)\n",
    "print(height_variance)"
   ]
  },
  {
   "cell_type": "code",
   "execution_count": 10,
   "metadata": {},
   "outputs": [
    {
     "data": {
      "text/plain": [
       "1000.1157894736842"
      ]
     },
     "execution_count": 10,
     "metadata": {},
     "output_type": "execute_result"
    }
   ],
   "source": [
    "data.var(ddof=1)"
   ]
  },
  {
   "cell_type": "markdown",
   "metadata": {},
   "source": [
    "В первом ящике находится 8 мячей, из которых 5 - белые. Во втором ящике - 12 мячей, из которых 5 белых. Из первого ящика вытаскивают случайным образом два мяча, из второго - 4. Какова вероятность того, что 3 мяча белые?"
   ]
  },
  {
   "cell_type": "code",
   "execution_count": 11,
   "metadata": {},
   "outputs": [
    {
     "name": "stdout",
     "output_type": "stream",
     "text": [
      "35.714285714285715 %\n",
      "35.35353535353536 %\n",
      "12.626262626262626 %\n"
     ]
    }
   ],
   "source": [
    "#2 из первой коробки 1 из второй\n",
    "\n",
    "n = 5\n",
    "k = 2\n",
    "C1_white = np.math.factorial(n)/(np.math.factorial(k)*np.math.factorial(n - k))\n",
    "n = 8\n",
    "k = 2\n",
    "C1_all = np.math.factorial(n)/(np.math.factorial(k)*np.math.factorial(n - k))\n",
    "\n",
    "P2_1_1 = C1_white / C1_all\n",
    "print( P2_1_1*100,'%')\n",
    "\n",
    "n = 5\n",
    "k = 1\n",
    "C2_white = np.math.factorial(n)/(np.math.factorial(k)*np.math.factorial(n - k))\n",
    "n = 12 - 5\n",
    "k = 3\n",
    "C2_no_white = np.math.factorial(n)/(np.math.factorial(k)*np.math.factorial(n - k))\n",
    "n = 12\n",
    "k = 4\n",
    "C2_all = np.math.factorial(n)/(np.math.factorial(k)*np.math.factorial(n - k))\n",
    "\n",
    "P2_1_2 = C2_white * C2_no_white / C2_all\n",
    "print( P2_1_2*100,'%')\n",
    "\n",
    "P2_1 = P2_1_1 * P2_1_2\n",
    "print( P2_1*100,'%')"
   ]
  },
  {
   "cell_type": "code",
   "execution_count": 12,
   "metadata": {},
   "outputs": [
    {
     "name": "stdout",
     "output_type": "stream",
     "text": [
      "53.57142857142857 %\n",
      "35.35353535353536 %\n",
      "22.727272727272727 %\n"
     ]
    }
   ],
   "source": [
    "#1 из первой коробки 2 из второй\n",
    "n = 5\n",
    "k = 1\n",
    "C1_white = np.math.factorial(n)/(np.math.factorial(k)*np.math.factorial(n - k))\n",
    "n = 8 - 5\n",
    "k = 1\n",
    "C1_no_white = np.math.factorial(n)/(np.math.factorial(k)*np.math.factorial(n - k))\n",
    "n = 8\n",
    "k = 2\n",
    "C1_all = np.math.factorial(n)/(np.math.factorial(k)*np.math.factorial(n - k))\n",
    "\n",
    "P1_2_1 = C1_white * C1_no_white / C1_all\n",
    "print( P1_2_1*100,'%')\n",
    "\n",
    "n = 5\n",
    "k = 2\n",
    "C2_white = np.math.factorial(n)/(np.math.factorial(k)*np.math.factorial(n - k))\n",
    "n = 12 - 5\n",
    "k = 2\n",
    "C2_no_white = np.math.factorial(n)/(np.math.factorial(k)*np.math.factorial(n - k))\n",
    "n = 12\n",
    "k = 4\n",
    "C2_all = np.math.factorial(n)/(np.math.factorial(k)*np.math.factorial(n - k))\n",
    "\n",
    "P1_2_2 = C2_white * C2_no_white / C2_all\n",
    "print( P2_1_2*100,'%')\n",
    "\n",
    "P1_2 = P1_2_1 * P1_2_2\n",
    "print( P1_2*100,'%')"
   ]
  },
  {
   "cell_type": "code",
   "execution_count": 13,
   "metadata": {},
   "outputs": [
    {
     "name": "stdout",
     "output_type": "stream",
     "text": [
      "10.714285714285714 %\n",
      "14.14141414141414 %\n",
      "1.515151515151515 %\n"
     ]
    }
   ],
   "source": [
    "#0 из первой коробки 3 из второй\n",
    "#1 из первой коробки 2 из второй\n",
    "n = 8 - 5\n",
    "k = 2\n",
    "C1_no_white = np.math.factorial(n)/(np.math.factorial(k)*np.math.factorial(n - k))\n",
    "n = 8\n",
    "k = 2\n",
    "C1_all = np.math.factorial(n)/(np.math.factorial(k)*np.math.factorial(n - k))\n",
    "\n",
    "P0_3_1 = C1_no_white / C1_all\n",
    "print( P0_3_1*100,'%')\n",
    "\n",
    "n = 5\n",
    "k = 3\n",
    "C2_white = np.math.factorial(n)/(np.math.factorial(k)*np.math.factorial(n - k))\n",
    "n = 12-5\n",
    "k = 1\n",
    "C2_no_white = np.math.factorial(n)/(np.math.factorial(k)*np.math.factorial(n - k))\n",
    "n = 12\n",
    "k = 4\n",
    "C2_all = np.math.factorial(n)/(np.math.factorial(k)*np.math.factorial(n - k))\n",
    "\n",
    "P0_3_2 = C2_white * C2_no_white / C2_all\n",
    "print( P0_3_2*100,'%')\n",
    "\n",
    "P0_3 = P0_3_1 * P0_3_2\n",
    "print( P0_3*100,'%')"
   ]
  },
  {
   "cell_type": "code",
   "execution_count": 14,
   "metadata": {},
   "outputs": [
    {
     "name": "stdout",
     "output_type": "stream",
     "text": [
      "36.868686868686865 %\n"
     ]
    }
   ],
   "source": [
    "print( (P2_1 + P1_2 + P0_3)*100,'%')"
   ]
  },
  {
   "cell_type": "markdown",
   "metadata": {},
   "source": [
    "На соревновании по биатлону один из трех спортсменов стреляет и попадает в мишень. Вероятность попадания для первого спортсмена равна 0.9, для второго — 0.8, для третьего — 0.6. Найти вероятность того, что выстрел произведен: a). первым спортсменом б). вторым спортсменом в). третьим спортсменом."
   ]
  },
  {
   "cell_type": "code",
   "execution_count": 15,
   "metadata": {},
   "outputs": [],
   "source": [
    "p1 = 0.9\n",
    "p2 = 0.8\n",
    "p3 = 0.6\n",
    "\n",
    "p1_attack = 1/3\n",
    "p2_attack = 1/3\n",
    "p3_attack = 1/3"
   ]
  },
  {
   "cell_type": "code",
   "execution_count": 16,
   "metadata": {},
   "outputs": [
    {
     "name": "stdout",
     "output_type": "stream",
     "text": [
      "0.7666666666666666\n"
     ]
    }
   ],
   "source": [
    "#Вероятность поразить мишень\n",
    "P_target_kill = p1_attack * p1 + p2_attack * p2 + p3_attack * p3\n",
    "print(P_target_kill)"
   ]
  },
  {
   "cell_type": "code",
   "execution_count": 17,
   "metadata": {},
   "outputs": [
    {
     "name": "stdout",
     "output_type": "stream",
     "text": [
      "39.130434782608695 %\n"
     ]
    }
   ],
   "source": [
    "P1_kill = p1_attack * p1 / P_target_kill\n",
    "print( P1_kill*100,'%')"
   ]
  },
  {
   "cell_type": "code",
   "execution_count": 18,
   "metadata": {},
   "outputs": [
    {
     "name": "stdout",
     "output_type": "stream",
     "text": [
      "34.78260869565218 %\n"
     ]
    }
   ],
   "source": [
    "P2_kill = p2_attack * p2 / P_target_kill\n",
    "print( P2_kill*100,'%')"
   ]
  },
  {
   "cell_type": "code",
   "execution_count": 19,
   "metadata": {},
   "outputs": [
    {
     "name": "stdout",
     "output_type": "stream",
     "text": [
      "26.08695652173913 %\n"
     ]
    }
   ],
   "source": [
    "P3_kill = p3_attack * p3 / P_target_kill\n",
    "print( P3_kill*100,'%')"
   ]
  },
  {
   "cell_type": "code",
   "execution_count": 20,
   "metadata": {},
   "outputs": [
    {
     "data": {
      "text/plain": [
       "1.0"
      ]
     },
     "execution_count": 20,
     "metadata": {},
     "output_type": "execute_result"
    }
   ],
   "source": [
    "P1_kill + P2_kill + P3_kill"
   ]
  },
  {
   "cell_type": "markdown",
   "metadata": {},
   "source": [
    "В университет на факультеты A и B поступило равное количество студентов, а на факультет C студентов поступило столько же, сколько на A и B вместе. Вероятность того, что студент факультета A сдаст первую сессию, равна 0.8. Для студента факультета B эта вероятность равна 0.7, а для студента факультета C - 0.9. Студент сдал первую сессию. Какова вероятность, что он учится: a). на факультете A б). на факультете B в). на факультете C?"
   ]
  },
  {
   "cell_type": "code",
   "execution_count": 21,
   "metadata": {},
   "outputs": [],
   "source": [
    "n = 10\n",
    "\n",
    "count_A = n\n",
    "count_B = n\n",
    "count_C = 2*n\n",
    "\n",
    "p_A_completed = 0.8\n",
    "p_B_completed = 0.7\n",
    "p_C_completed = 0.9\n",
    "\n",
    "p_A_student = 1/4\n",
    "p_B_student = 1/4\n",
    "p_C_student = 2/4"
   ]
  },
  {
   "cell_type": "code",
   "execution_count": 22,
   "metadata": {},
   "outputs": [
    {
     "name": "stdout",
     "output_type": "stream",
     "text": [
      "0.825\n"
     ]
    }
   ],
   "source": [
    "p_completed = p_A_student * p_A_completed + p_B_student * p_B_completed + p_C_student * p_C_completed\n",
    "print(p_completed)"
   ]
  },
  {
   "cell_type": "code",
   "execution_count": 23,
   "metadata": {},
   "outputs": [
    {
     "name": "stdout",
     "output_type": "stream",
     "text": [
      "0.24242424242424246\n"
     ]
    }
   ],
   "source": [
    "P_A = p_A_student * p_A_completed / p_completed \n",
    "print(P_A)"
   ]
  },
  {
   "cell_type": "code",
   "execution_count": 24,
   "metadata": {},
   "outputs": [
    {
     "name": "stdout",
     "output_type": "stream",
     "text": [
      "0.21212121212121213\n"
     ]
    }
   ],
   "source": [
    "P_B = p_B_student * p_B_completed / p_completed \n",
    "print(P_B)"
   ]
  },
  {
   "cell_type": "code",
   "execution_count": 25,
   "metadata": {},
   "outputs": [
    {
     "name": "stdout",
     "output_type": "stream",
     "text": [
      "0.5454545454545455\n"
     ]
    }
   ],
   "source": [
    "P_C = p_C_student * p_C_completed / p_completed \n",
    "print(P_C)"
   ]
  },
  {
   "cell_type": "markdown",
   "metadata": {},
   "source": [
    "Устройство состоит из трех деталей. Для первой детали вероятность выйти из строя в первый месяц равна 0.1, для второй - 0.2, для третьей - 0.25. Какова вероятность того, что в первый месяц выйдут из строя: а). все детали б). только две детали в). хотя бы одна деталь г). от одной до двух деталей?"
   ]
  },
  {
   "cell_type": "code",
   "execution_count": 26,
   "metadata": {},
   "outputs": [],
   "source": [
    "p1_wasted = 0.1\n",
    "p2_wasted = 0.2\n",
    "p3_wasted = 0.25"
   ]
  },
  {
   "cell_type": "code",
   "execution_count": 27,
   "metadata": {},
   "outputs": [
    {
     "name": "stdout",
     "output_type": "stream",
     "text": [
      "0.5000000000000001 %\n"
     ]
    }
   ],
   "source": [
    "#а). все детали \n",
    "P_all = p1_wasted * p2_wasted * p3_wasted\n",
    "print( P_all*100,'%')"
   ]
  },
  {
   "cell_type": "code",
   "execution_count": 28,
   "metadata": {},
   "outputs": [
    {
     "name": "stdout",
     "output_type": "stream",
     "text": [
      "8.000000000000002 %\n"
     ]
    }
   ],
   "source": [
    "#б). только две детали\n",
    "P_2 = p1_wasted * p2_wasted * (1 - p3_wasted) + p1_wasted * (1 - p2_wasted) * p3_wasted + (1 - p1_wasted) * p2_wasted * p3_wasted\n",
    "print( P_2*100,'%')"
   ]
  },
  {
   "cell_type": "code",
   "execution_count": 29,
   "metadata": {},
   "outputs": [
    {
     "name": "stdout",
     "output_type": "stream",
     "text": [
      "55.00000000000001 %\n"
     ]
    }
   ],
   "source": [
    "#в). хотя бы одна деталь\n",
    "P_1 = p1_wasted + p2_wasted + p3_wasted\n",
    "print( P_1*100,'%')"
   ]
  },
  {
   "cell_type": "code",
   "execution_count": 33,
   "metadata": {},
   "outputs": [
    {
     "name": "stdout",
     "output_type": "stream",
     "text": [
      "63.000000000000014 %\n"
     ]
    }
   ],
   "source": [
    "#г). от одной до двух деталей?\n",
    "P_1_2 = P_1 + P_2\n",
    "print( P_1_2*100,'%')"
   ]
  },
  {
   "cell_type": "code",
   "execution_count": null,
   "metadata": {},
   "outputs": [],
   "source": []
  }
 ],
 "metadata": {
  "kernelspec": {
   "display_name": "Python 3",
   "language": "python",
   "name": "python3"
  },
  "language_info": {
   "codemirror_mode": {
    "name": "ipython",
    "version": 3
   },
   "file_extension": ".py",
   "mimetype": "text/x-python",
   "name": "python",
   "nbconvert_exporter": "python",
   "pygments_lexer": "ipython3",
   "version": "3.7.3"
  }
 },
 "nbformat": 4,
 "nbformat_minor": 4
}
