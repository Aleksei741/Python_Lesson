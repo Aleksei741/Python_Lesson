{
 "cells": [
  {
   "cell_type": "code",
   "execution_count": 1,
   "metadata": {},
   "outputs": [],
   "source": [
    "import numpy as np"
   ]
  },
  {
   "cell_type": "markdown",
   "metadata": {},
   "source": [
    "Вероятность того, что стрелок попадет в мишень, выстрелив один раз, равна 0.8. Стрелок выстрелил 100 раз. Найдите вероятность того, что стрелок попадет в цель ровно 85 раз."
   ]
  },
  {
   "cell_type": "code",
   "execution_count": 3,
   "metadata": {},
   "outputs": [
    {
     "name": "stdout",
     "output_type": "stream",
     "text": [
      "4.806179370074635 %\n"
     ]
    }
   ],
   "source": [
    "k = 85\n",
    "n = 100\n",
    "p = 0.8\n",
    "\n",
    "C = np.math.factorial(n)/(np.math.factorial(k)*np.math.factorial(n - k))\n",
    "\n",
    "P = C * p**k * (1 - p)**(n-k)\n",
    "print(P*100,'%')"
   ]
  },
  {
   "cell_type": "markdown",
   "metadata": {},
   "source": [
    "Вероятность того, что лампочка перегорит в течение первого дня эксплуатации, равна 0.0004. В жилом комплексе после ремонта в один день включили 5000 новых лампочек. Какова вероятность, что ни одна из них не перегорит в первый день? Какова вероятность, что перегорят ровно две?"
   ]
  },
  {
   "cell_type": "code",
   "execution_count": 36,
   "metadata": {},
   "outputs": [
    {
     "name": "stdout",
     "output_type": "stream",
     "text": [
      "Перегорит 0 лампочек Р = 13.528114551440707 %\n",
      "Перегорит 2 лампочек Р = 27.07247150266753 %\n"
     ]
    }
   ],
   "source": [
    "n = 5000\n",
    "p = 0.0004 \n",
    "k1 = 0\n",
    "k2 = 2\n",
    "\n",
    "k = k1\n",
    "C = np.math.factorial(n)/(np.math.factorial(k)*np.math.factorial(n - k))\n",
    "P = C * p**k * (1 - p)**(n-k) #\n",
    "print('Перегорит 0 лампочек Р =', P*100,'%')\n",
    "\n",
    "k = k2\n",
    "C = np.math.factorial(n)/(np.math.factorial(k)*np.math.factorial(n - k))\n",
    "P = C * p**k * (1 - p)**(n-k)\n",
    "print('Перегорит 2 лампочек Р =', P*100,'%')"
   ]
  },
  {
   "cell_type": "markdown",
   "metadata": {},
   "source": [
    "Монету подбросили 144 раза. Какова вероятность, что орел выпадет ровно 70 раз?"
   ]
  },
  {
   "cell_type": "code",
   "execution_count": 23,
   "metadata": {},
   "outputs": [
    {
     "name": "stdout",
     "output_type": "stream",
     "text": [
      "6.281178035144776 %\n"
     ]
    }
   ],
   "source": [
    "n = 144\n",
    "p = 0.5\n",
    "k = 70\n",
    "\n",
    "C = np.math.factorial(n)/(np.math.factorial(k)*np.math.factorial(n - k))\n",
    "P = C * p**k * (1 - p)**(n-k) #\n",
    "print( P*100,'%')"
   ]
  },
  {
   "cell_type": "markdown",
   "metadata": {},
   "source": [
    "В первом ящике находится 10 мячей, из которых 7 - белые. Во втором ящике - 11 мячей, из которых 9 белых. Из каждого ящика вытаскивают случайным образом по два мяча. Какова вероятность того, что все мячи белые? Какова вероятность того, что ровно два мяча белые? Какова вероятность того, что хотя бы один мяч белый?"
   ]
  },
  {
   "cell_type": "code",
   "execution_count": 38,
   "metadata": {},
   "outputs": [
    {
     "name": "stdout",
     "output_type": "stream",
     "text": [
      "Какова вероятность того, что все мячи белые?\n",
      "30.545454545454547 %\n"
     ]
    }
   ],
   "source": [
    "#Какова вероятность того, что все мячи белые?\n",
    "n = 7\n",
    "k = 2\n",
    "C1_white = np.math.factorial(n)/(np.math.factorial(k)*np.math.factorial(n - k))\n",
    "n = 10\n",
    "k = 2\n",
    "C1_all = np.math.factorial(n)/(np.math.factorial(k)*np.math.factorial(n - k))\n",
    "\n",
    "n = 9\n",
    "k = 2\n",
    "C2_white = np.math.factorial(n)/(np.math.factorial(k)*np.math.factorial(n - k))\n",
    "n = 11\n",
    "k = 2\n",
    "C2_all = np.math.factorial(n)/(np.math.factorial(k)*np.math.factorial(n - k))\n",
    "\n",
    "print('Какова вероятность того, что все мячи белые?')\n",
    "P = C1_white/C1_all * C2_white/C2_all\n",
    "print( P*100,'%')"
   ]
  },
  {
   "cell_type": "code",
   "execution_count": 39,
   "metadata": {},
   "outputs": [
    {
     "name": "stdout",
     "output_type": "stream",
     "text": [
      "0.8484848484848484 %\n",
      "\n",
      "46.666666666666664 %\n",
      "32.72727272727273 %\n",
      "15.272727272727273 %\n",
      "\n",
      "4.363636363636363 %\n",
      "\n",
      "Какова вероятность того, что ровно два мяча белые?\n",
      "20.484848484848488 %\n"
     ]
    }
   ],
   "source": [
    "#Какова вероятность того, что ровно два мяча белые?\n",
    "\n",
    "#1. 2 белых мяча из первой коробки\n",
    "n = 7\n",
    "k = 2\n",
    "C1_white = np.math.factorial(n)/(np.math.factorial(k)*np.math.factorial(n - k))\n",
    "n = 10\n",
    "k = 2\n",
    "C1_all = np.math.factorial(n)/(np.math.factorial(k)*np.math.factorial(n - k))\n",
    "\n",
    "n = 2\n",
    "k = 2\n",
    "C2_no_white = np.math.factorial(n)/(np.math.factorial(k)*np.math.factorial(n - k))\n",
    "n = 11\n",
    "k = 2\n",
    "C2_all = np.math.factorial(n)/(np.math.factorial(k)*np.math.factorial(n - k))\n",
    "\n",
    "P1 = (C1_white/C1_all) * (C2_no_white/C2_all)\n",
    "print( P1*100,'%')\n",
    "\n",
    "print()\n",
    "\n",
    "#2. 1 белый из первой коробки 1 белый из втророй\n",
    "n = 7\n",
    "k = 1\n",
    "C1_white = np.math.factorial(n)/(np.math.factorial(k)*np.math.factorial(n - k))\n",
    "n = 3\n",
    "k = 1\n",
    "C1_no_white = np.math.factorial(n)/(np.math.factorial(k)*np.math.factorial(n - k))\n",
    "n = 10\n",
    "k = 2\n",
    "C1_all = np.math.factorial(n)/(np.math.factorial(k)*np.math.factorial(n - k))\n",
    "\n",
    "P2_1 = C1_white * C1_no_white / C1_all\n",
    "print( P2_1*100,'%')\n",
    "\n",
    "n = 9\n",
    "k = 1\n",
    "C1_white = np.math.factorial(n)/(np.math.factorial(k)*np.math.factorial(n - k))\n",
    "n = 2\n",
    "k = 1\n",
    "C1_no_white = np.math.factorial(n)/(np.math.factorial(k)*np.math.factorial(n - k))\n",
    "n = 11\n",
    "k = 2\n",
    "C1_all = np.math.factorial(n)/(np.math.factorial(k)*np.math.factorial(n - k))\n",
    "\n",
    "P2_2 = C1_white * C1_no_white / C1_all\n",
    "print( P2_2*100,'%')\n",
    "\n",
    "P2 = (P2_1 * P2_2)\n",
    "print( P2*100,'%')\n",
    "\n",
    "print()\n",
    "\n",
    "#3. 2 белых мяча из 2 коробки\n",
    "n = 3\n",
    "k = 2\n",
    "C1_no_white = np.math.factorial(n)/(np.math.factorial(k)*np.math.factorial(n - k))\n",
    "n = 10\n",
    "k = 2\n",
    "C1_all = np.math.factorial(n)/(np.math.factorial(k)*np.math.factorial(n - k))\n",
    "\n",
    "n = 9\n",
    "k = 2\n",
    "C2_white = np.math.factorial(n)/(np.math.factorial(k)*np.math.factorial(n - k))\n",
    "n = 11\n",
    "k = 2\n",
    "C2_all = np.math.factorial(n)/(np.math.factorial(k)*np.math.factorial(n - k))\n",
    "\n",
    "P3 = (C1_no_white/C1_all) * (C2_white/C2_all)\n",
    "print( P3*100,'%')\n",
    "\n",
    "print()\n",
    "\n",
    "print('Какова вероятность того, что ровно два мяча белые?')\n",
    "P = P1 + P2 + P3\n",
    "print( P*100,'%')"
   ]
  },
  {
   "cell_type": "code",
   "execution_count": 42,
   "metadata": {},
   "outputs": [
    {
     "name": "stdout",
     "output_type": "stream",
     "text": [
      "Какова вероятность того, что хотя бы один мяч белый?\n",
      "99.87878787878788 %\n"
     ]
    }
   ],
   "source": [
    "#Какова вероятность того, что хотя бы один мяч белый?\n",
    "\n",
    "n = 3\n",
    "k = 2\n",
    "C1_no_white = np.math.factorial(n)/(np.math.factorial(k)*np.math.factorial(n - k))\n",
    "n = 10\n",
    "k = 2\n",
    "C1_all = np.math.factorial(n)/(np.math.factorial(k)*np.math.factorial(n - k))\n",
    "\n",
    "n = 2\n",
    "k = 2\n",
    "C2_no_white = np.math.factorial(n)/(np.math.factorial(k)*np.math.factorial(n - k))\n",
    "n = 11\n",
    "k = 2\n",
    "C2_all = np.math.factorial(n)/(np.math.factorial(k)*np.math.factorial(n - k))\n",
    "\n",
    "print('Какова вероятность того, что хотя бы один мяч белый?')\n",
    "P = 1 - (C1_no_white/C1_all * C2_no_white/C2_all)\n",
    "print( P*100,'%')"
   ]
  },
  {
   "cell_type": "code",
   "execution_count": null,
   "metadata": {},
   "outputs": [],
   "source": []
  }
 ],
 "metadata": {
  "kernelspec": {
   "display_name": "Python 3",
   "language": "python",
   "name": "python3"
  },
  "language_info": {
   "codemirror_mode": {
    "name": "ipython",
    "version": 3
   },
   "file_extension": ".py",
   "mimetype": "text/x-python",
   "name": "python",
   "nbconvert_exporter": "python",
   "pygments_lexer": "ipython3",
   "version": "3.7.3"
  }
 },
 "nbformat": 4,
 "nbformat_minor": 4
}
