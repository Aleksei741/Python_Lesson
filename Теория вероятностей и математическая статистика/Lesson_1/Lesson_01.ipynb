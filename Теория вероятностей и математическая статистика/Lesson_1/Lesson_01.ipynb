{
 "cells": [
  {
   "cell_type": "code",
   "execution_count": 6,
   "metadata": {},
   "outputs": [],
   "source": [
    "import numpy as np"
   ]
  },
  {
   "cell_type": "markdown",
   "metadata": {},
   "source": [
    "Из колоды в 52 карты извлекаются случайным образом 4 карты. a) Найти вероятность того, что все карты – крести. б) Найти вероятность, что среди 4-х карт окажется хотя бы один туз"
   ]
  },
  {
   "cell_type": "code",
   "execution_count": 5,
   "metadata": {},
   "outputs": [
    {
     "name": "stdout",
     "output_type": "stream",
     "text": [
      "0.26410564225690275 %\n"
     ]
    }
   ],
   "source": [
    "#a) Найти вероятность того, что все карты – крести.\n",
    "NumberCards = 52\n",
    "NumberCardsBaptism = NumberCards / 4\n",
    "\n",
    "NumberCardsExtracted = 4\n",
    "P = 1\n",
    "for i in range(NumberCardsExtracted):\n",
    "    P = P * NumberCardsBaptism / NumberCards\n",
    "    NumberCards -= 1\n",
    "    NumberCardsBaptism -= 1\n",
    "print(P*100,'%')"
   ]
  },
  {
   "cell_type": "code",
   "execution_count": 14,
   "metadata": {},
   "outputs": [
    {
     "name": "stdout",
     "output_type": "stream",
     "text": [
      "270725.0\n",
      "194580.0\n",
      "28.12632745405854 %\n"
     ]
    }
   ],
   "source": [
    "#б) Найти вероятность, что среди 4-х карт окажется хотя бы один туз\n",
    "#Общее число размещений\n",
    "C = np.math.factorial(52)/(np.math.factorial(4)*np.math.factorial(52 - 4))\n",
    "print(C)\n",
    "#Размещений без тузов\n",
    "C_noT = np.math.factorial(48)/(np.math.factorial(4)*np.math.factorial(48 - 4))\n",
    "print(C_noT)\n",
    "#Вероятность с тузами\n",
    "P = 1 - C_noT/C\n",
    "print(P*100,'%')"
   ]
  },
  {
   "cell_type": "markdown",
   "metadata": {},
   "source": [
    "На входной двери подъезда установлен кодовый замок, содержащий десять кнопок с цифрами от 0 до 9. Код содержит три цифры, которые нужно нажать одновременно. Какова вероятность того, что человек, не знающий код, откроет дверь с первой попытки?"
   ]
  },
  {
   "cell_type": "code",
   "execution_count": 18,
   "metadata": {},
   "outputs": [
    {
     "name": "stdout",
     "output_type": "stream",
     "text": [
      "120.0\n",
      "0.8333333333333334 %\n"
     ]
    }
   ],
   "source": [
    "C = np.math.factorial(10)/(np.math.factorial(3)*np.math.factorial(10 - 3))\n",
    "print(C)\n",
    "P = 1/C\n",
    "print(P*100,'%')"
   ]
  },
  {
   "cell_type": "markdown",
   "metadata": {},
   "source": [
    "В ящике имеется 15 деталей, из которых 9 окрашены. Рабочий случайным образом извлекает 3 детали. Какова вероятность того, что все извлеченные детали окрашены?"
   ]
  },
  {
   "cell_type": "code",
   "execution_count": 22,
   "metadata": {},
   "outputs": [
    {
     "name": "stdout",
     "output_type": "stream",
     "text": [
      "18.46153846153846 %\n"
     ]
    }
   ],
   "source": [
    "NumberDetail = 15\n",
    "NumberDetailPainted = 9\n",
    "NumberDetailExtracted = 3\n",
    "P =1\n",
    "for i in range(NumberDetailExtracted):\n",
    "    P = P * NumberDetailPainted / NumberDetail\n",
    "    NumberDetail -= 1\n",
    "    NumberDetailPainted -= 1\n",
    "print(P*100,'%')"
   ]
  },
  {
   "cell_type": "markdown",
   "metadata": {},
   "source": [
    "В лотерее 100 билетов. Из них 2 выигрышных. Какова вероятность того, что 2 приобретенных билета окажутся выигрышными?"
   ]
  },
  {
   "cell_type": "code",
   "execution_count": 23,
   "metadata": {},
   "outputs": [
    {
     "name": "stdout",
     "output_type": "stream",
     "text": [
      "4950.0\n",
      "0.0202020202020202 %\n"
     ]
    }
   ],
   "source": [
    "C = np.math.factorial(100)/(np.math.factorial(2)*np.math.factorial(100 - 2))\n",
    "print(C)\n",
    "P = 1/C\n",
    "print(P*100,'%')"
   ]
  },
  {
   "cell_type": "code",
   "execution_count": null,
   "metadata": {},
   "outputs": [],
   "source": []
  }
 ],
 "metadata": {
  "kernelspec": {
   "display_name": "Python 3",
   "language": "python",
   "name": "python3"
  },
  "language_info": {
   "codemirror_mode": {
    "name": "ipython",
    "version": 3
   },
   "file_extension": ".py",
   "mimetype": "text/x-python",
   "name": "python",
   "nbconvert_exporter": "python",
   "pygments_lexer": "ipython3",
   "version": "3.7.3"
  }
 },
 "nbformat": 4,
 "nbformat_minor": 4
}
