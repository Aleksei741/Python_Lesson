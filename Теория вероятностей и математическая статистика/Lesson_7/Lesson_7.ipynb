{
 "cells": [
  {
   "cell_type": "code",
   "execution_count": 1,
   "metadata": {},
   "outputs": [],
   "source": [
    "import numpy as np\n",
    "import matplotlib.pyplot as plt\n",
    "%matplotlib inline"
   ]
  },
  {
   "cell_type": "markdown",
   "metadata": {},
   "source": [
    "1.Даны значения величины заработной платы заемщиков банка (zp) и значения их поведенческого кредитного скоринга (ks): zp = [35, 45, 190, 200, 40, 70, 54, 150, 120, 110], ks = [401, 574, 874, 919, 459, 739, 653, 902, 746, 832]. Используя математические операции, посчитать коэффициенты линейной регрессии, приняв за X заработную плату (то есть, zp - признак), а за y - значения скорингового балла (то есть, ks - целевая переменная). Произвести расчет как с использованием intercept, так и без."
   ]
  },
  {
   "cell_type": "code",
   "execution_count": 2,
   "metadata": {},
   "outputs": [],
   "source": [
    "zp = np.array([35, 45, 190, 200, 40, 70, 54, 150, 120, 110], float)\n",
    "ks = np.array([401, 574, 874, 919, 459, 739, 653, 902, 746, 832], float)"
   ]
  },
  {
   "cell_type": "code",
   "execution_count": 3,
   "metadata": {},
   "outputs": [
    {
     "name": "stderr",
     "output_type": "stream",
     "text": [
      "c:\\users\\a.kraev\\appdata\\local\\programs\\python\\python37-32\\lib\\site-packages\\ipykernel_launcher.py:1: DeprecationWarning: bias and ddof have no effect and are deprecated\n",
      "  \"\"\"Entry point for launching an IPython kernel.\n"
     ]
    },
    {
     "data": {
      "text/plain": [
       "array([[1.        , 0.88749009],\n",
       "       [0.88749009, 1.        ]])"
      ]
     },
     "execution_count": 3,
     "metadata": {},
     "output_type": "execute_result"
    }
   ],
   "source": [
    "np.corrcoef(zp, ks, ddof=0)"
   ]
  },
  {
   "cell_type": "code",
   "execution_count": 4,
   "metadata": {},
   "outputs": [
    {
     "data": {
      "text/plain": [
       "2.620538882402765"
      ]
     },
     "execution_count": 4,
     "metadata": {},
     "output_type": "execute_result"
    }
   ],
   "source": [
    "b = ((zp * ks).mean() - zp.mean() * ks.mean()) / ((zp ** 2).mean() - (zp.mean() ** 2))\n",
    "b"
   ]
  },
  {
   "cell_type": "code",
   "execution_count": 5,
   "metadata": {},
   "outputs": [
    {
     "data": {
      "text/plain": [
       "444.1773573243596"
      ]
     },
     "execution_count": 5,
     "metadata": {},
     "output_type": "execute_result"
    }
   ],
   "source": [
    "a = ks.mean() - b * zp.mean()\n",
    "a"
   ]
  },
  {
   "cell_type": "code",
   "execution_count": 6,
   "metadata": {},
   "outputs": [
    {
     "data": {
      "text/plain": [
       "array([535.89621821, 562.10160703, 942.07974498, 968.2851338 ,\n",
       "       548.99891262, 627.61507909, 585.68645697, 837.25818968,\n",
       "       758.64202321, 732.43663439])"
      ]
     },
     "execution_count": 6,
     "metadata": {},
     "output_type": "execute_result"
    }
   ],
   "source": [
    "y_hat = a + b * zp\n",
    "y_hat"
   ]
  },
  {
   "cell_type": "code",
   "execution_count": 7,
   "metadata": {},
   "outputs": [
    {
     "data": {
      "text/plain": [
       "[<matplotlib.lines.Line2D at 0xaea66d0>]"
      ]
     },
     "execution_count": 7,
     "metadata": {},
     "output_type": "execute_result"
    },
    {
     "data": {
      "image/png": "[encoded data removed]",
      "text/plain": [
       "<Figure size 432x288 with 1 Axes>"
      ]
     },
     "metadata": {
      "needs_background": "light"
     },
     "output_type": "display_data"
    }
   ],
   "source": [
    "plt.scatter(zp, ks)\n",
    "plt.plot(zp, y_hat)"
   ]
  },
  {
   "cell_type": "code",
   "execution_count": 8,
   "metadata": {},
   "outputs": [
    {
     "data": {
      "text/plain": [
       "6470.414201176658"
      ]
     },
     "execution_count": 8,
     "metadata": {},
     "output_type": "execute_result"
    }
   ],
   "source": [
    "mse = ((y_hat - ks)**2).sum() / 10\n",
    "mse"
   ]
  },
  {
   "cell_type": "code",
   "execution_count": 9,
   "metadata": {},
   "outputs": [],
   "source": [
    "zp_ = zp.reshape(1, len(zp))\n",
    "ks_ = ks.reshape(1, len(ks))"
   ]
  },
  {
   "cell_type": "code",
   "execution_count": 10,
   "metadata": {},
   "outputs": [
    {
     "data": {
      "text/plain": [
       "array([[ 35.,  45., 190., 200.,  40.,  70.,  54., 150., 120., 110.]])"
      ]
     },
     "execution_count": 10,
     "metadata": {},
     "output_type": "execute_result"
    }
   ],
   "source": [
    "zp_"
   ]
  },
  {
   "cell_type": "code",
   "execution_count": 11,
   "metadata": {},
   "outputs": [
    {
     "data": {
      "text/plain": [
       "5.889820420132689"
      ]
     },
     "execution_count": 11,
     "metadata": {},
     "output_type": "execute_result"
    }
   ],
   "source": [
    "b = np.dot(np.dot(np.linalg.inv(np.dot(zp_, zp_.T)), zp_), ks_.T)[0][0]\n",
    "b"
   ]
  },
  {
   "cell_type": "code",
   "execution_count": 12,
   "metadata": {},
   "outputs": [
    {
     "data": {
      "text/plain": [
       "array([ 206.1437147 ,  265.04191891, 1119.06587983, 1177.96408403,\n",
       "        235.59281681,  412.28742941,  318.05030269,  883.47306302,\n",
       "        706.77845042,  647.88024621])"
      ]
     },
     "execution_count": 12,
     "metadata": {},
     "output_type": "execute_result"
    }
   ],
   "source": [
    "y_hat_ = b * zp\n",
    "y_hat_"
   ]
  },
  {
   "cell_type": "code",
   "execution_count": 13,
   "metadata": {},
   "outputs": [
    {
     "data": {
      "text/plain": [
       "[<matplotlib.lines.Line2D at 0xaf20eb0>]"
      ]
     },
     "execution_count": 13,
     "metadata": {},
     "output_type": "execute_result"
    },
    {
     "data": {
      "image/png": "[encoded data removed]",
      "text/plain": [
       "<Figure size 432x288 with 1 Axes>"
      ]
     },
     "metadata": {
      "needs_background": "light"
     },
     "output_type": "display_data"
    }
   ],
   "source": [
    "plt.scatter(zp, ks)\n",
    "plt.plot(zp, y_hat_)"
   ]
  },
  {
   "cell_type": "code",
   "execution_count": 14,
   "metadata": {},
   "outputs": [
    {
     "data": {
      "text/plain": [
       "56516.85841571941"
      ]
     },
     "execution_count": 14,
     "metadata": {},
     "output_type": "execute_result"
    }
   ],
   "source": [
    "mse = ((y_hat_ - ks)**2).sum() / 10\n",
    "mse"
   ]
  },
  {
   "cell_type": "markdown",
   "metadata": {},
   "source": [
    "2.Посчитать коэффициент линейной регрессии при заработной плате (zp), используя градиентный спуск (без intercept)."
   ]
  },
  {
   "cell_type": "code",
   "execution_count": 15,
   "metadata": {},
   "outputs": [],
   "source": [
    "zp = np.array([35, 45, 190, 200, 40, 70, 54, 150, 120, 110], float)\n",
    "ks = np.array([401, 574, 874, 919, 459, 739, 653, 902, 746, 832], float)\n",
    "alpha = 1e-6\n",
    "b = 5.0"
   ]
  },
  {
   "cell_type": "code",
   "execution_count": 16,
   "metadata": {},
   "outputs": [],
   "source": [
    "def mse_(b, y=ks, X=zp, n=len(zp)):\n",
    "    return np.sum((b * X - y) ** 2) / n"
   ]
  },
  {
   "cell_type": "code",
   "execution_count": 17,
   "metadata": {},
   "outputs": [
    {
     "name": "stdout",
     "output_type": "stream",
     "text": [
      "iteration: 0, b : 5.0245174, mse: 66832.07825149018\n",
      "iteration: 100, b : 5.8368841456289715, mse: 56555.46388147409\n",
      "iteration: 200, b : 5.886581960202314, mse: 56517.00289950258\n",
      "iteration: 300, b : 5.889622302248138, mse: 56516.85895646055\n",
      "iteration: 400, b : 5.8898082999592045, mse: 56516.85841774318\n",
      "iteration: 500, b : 5.889819678661995, mse: 56516.85841572698\n",
      "iteration: 600, b : 5.889820374772051, mse: 56516.85841571945\n",
      "iteration: 700, b : 5.889820417357683, mse: 56516.85841571939\n",
      "iteration: 800, b : 5.889820419962923, mse: 56516.85841571939\n",
      "iteration: 900, b : 5.889820420122303, mse: 56516.85841571941\n",
      "iteration: 1000, b : 5.889820420132053, mse: 56516.85841571941\n",
      "iteration: 1100, b : 5.889820420132648, mse: 56516.85841571943\n",
      "iteration: 1200, b : 5.889820420132673, mse: 56516.85841571943\n",
      "iteration: 1300, b : 5.889820420132673, mse: 56516.85841571943\n",
      "iteration: 1400, b : 5.889820420132673, mse: 56516.85841571943\n",
      "iteration: 1500, b : 5.889820420132673, mse: 56516.85841571943\n",
      "iteration: 1600, b : 5.889820420132673, mse: 56516.85841571943\n",
      "iteration: 1700, b : 5.889820420132673, mse: 56516.85841571943\n",
      "iteration: 1800, b : 5.889820420132673, mse: 56516.85841571943\n",
      "iteration: 1900, b : 5.889820420132673, mse: 56516.85841571943\n"
     ]
    }
   ],
   "source": [
    "for i in range(2000):\n",
    "    fp = (1 / len(zp)) * np.sum(2 * (b * zp - ks) * zp)\n",
    "    b -= alpha * fp\n",
    "    if i % 100 == 0:\n",
    "        print(f'iteration: {i}, b : {b}, mse: {mse_(b) }')"
   ]
  },
  {
   "cell_type": "markdown",
   "metadata": {},
   "source": [
    "3. В каких случаях для вычисления доверительных интервалов и проверки статистических гипотез используется таблица значений функции Лапласа, а в каких - таблица критических точек распределения Стьюдента? "
   ]
  },
  {
   "cell_type": "markdown",
   "metadata": {},
   "source": [
    "Сравнение двух средних выборок при известных дисперсиях генеральной совокупности осуществляется при помощи функции Лапласа. \n",
    "При неизвестных дисперсиях, распределение отлично от нормального, большой объем выборки используется распределение Стьюдента."
   ]
  },
  {
   "cell_type": "markdown",
   "metadata": {},
   "source": [
    "Произвести вычисления как в пункте 2, но с вычислением intercept. Учесть, что изменение коэффициентов должно производиться на каждом шаге одновременно (то есть изменение одного коэффициента не должно влиять на изменение другого во время одной итерации)."
   ]
  },
  {
   "cell_type": "code",
   "execution_count": 18,
   "metadata": {},
   "outputs": [],
   "source": [
    "def mse_(a, b, y=ks, X=zp, n=len(zp)):\n",
    "    return np.sum((a+b*X - y) ** 2) / n"
   ]
  },
  {
   "cell_type": "code",
   "execution_count": 19,
   "metadata": {},
   "outputs": [
    {
     "name": "stdout",
     "output_type": "stream",
     "text": [
      "iteration: 0, a : 100.011184, b : 1.7822453188480003, mse: 193112.3751835355\n",
      "iteration: 10000, a : 117.05922076863159, b : 5.028260780676913, mse: 33614.15140653042\n",
      "iteration: 20000, a : 133.2403757895004, b : 4.909160929799408, mse: 30995.19596120071\n",
      "iteration: 30000, a : 148.62111729442623, b : 4.795952446396363, mse: 28628.929656379933\n",
      "iteration: 40000, a : 163.2410383653414, b : 4.688343909357986, mse: 26490.97185518289\n",
      "iteration: 50000, a : 177.1377735813466, b : 4.586058312948099, mse: 24559.29427925374\n",
      "iteration: 60000, a : 190.34709589759103, b : 4.488832353736373, mse: 22813.99404214966\n",
      "iteration: 70000, a : 202.9030087319581, b : 4.396415752803039, mse: 21237.088581531818\n",
      "iteration: 80000, a : 214.8378334966122, b : 4.3085706114712705, mse: 19812.33037726309\n",
      "iteration: 90000, a : 226.18229279973286, b : 4.225070798908753, mse: 18525.03954637473\n",
      "iteration: 100000, a : 236.9655895316027, b : 4.145701370022048, mse: 17361.95259005893\n",
      "iteration: 110000, a : 247.21548203865316, b : 4.0702580121452, mse: 16311.08573426154\n",
      "iteration: 120000, a : 256.9583555789465, b : 3.998546519098456, mse: 15361.611455819551\n",
      "iteration: 130000, a : 266.2192902430787, b : 3.93038229126293, mse: 14503.746921935166\n",
      "iteration: 140000, a : 275.0221255152979, b : 3.865589860384639, mse: 13728.653193536604\n",
      "iteration: 150000, a : 283.38952164109406, b : 3.8040024378842014, mse: 13028.344153969258\n",
      "iteration: 160000, a : 291.3430179591365, b : 3.745461485510161, mse: 12395.604224680177\n",
      "iteration: 170000, a : 298.90308834783497, b : 3.6898163072298606, mse: 11823.91402007528\n",
      "iteration: 180000, a : 306.0891939291524, b : 3.6369236613080402, mse: 11307.383175549021\n",
      "iteration: 190000, a : 312.91983316539785, b : 3.5866473915741635, mse: 10840.68965658046\n",
      "iteration: 200000, a : 319.41258947794705, b : 3.538858076929363, mse: 10419.024923573004\n",
      "iteration: 210000, a : 325.5841765104561, b : 3.493432698190862, mse: 10038.044387448843\n",
      "iteration: 220000, a : 331.4504811530915, b : 3.450254321416224, mse: 9693.822645521037\n",
      "iteration: 230000, a : 337.02660443855376, b : 3.4092117968920705, mse: 9382.813036417847\n",
      "iteration: 240000, a : 342.32690041511836, b : 3.3701994730127587, mse: 9101.811097339958\n",
      "iteration: 250000, a : 347.36501309681546, b : 3.333116924312105, mse: 8847.921547132024\n",
      "iteration: 260000, a : 352.15391158582526, b : 3.297868692948338, mse: 8618.528454983596\n",
      "iteration: 270000, a : 356.70592345752505, b : 3.2643640429766347, mse: 8411.268287393654\n",
      "iteration: 280000, a : 361.0327664941081, b : 3.2325167267768458, mse: 8224.005555691288\n",
      "iteration: 290000, a : 365.1455788484945, b : 3.2022447630348974, mse: 8054.810813197207\n",
      "iteration: 300000, a : 369.0549477161389, b : 3.1734702257066836, mse: 7901.940775323632\n",
      "iteration: 310000, a : 372.77093658857046, b : 3.1461190434209763, mse: 7763.820357780089\n",
      "iteration: 320000, a : 376.3031111588246, b : 3.1201208088049657, mse: 7639.026447817274\n",
      "iteration: 330000, a : 379.6605639454314, b : 3.095408597241736, mse: 7526.273241298115\n",
      "iteration: 340000, a : 382.8519376983695, b : 3.071918794592969, mse: 7424.398994516736\n",
      "iteration: 350000, a : 385.88544764720893, b : 3.04959093344361, mse: 7332.354054264875\n",
      "iteration: 360000, a : 388.76890264875783, b : 3.0283675374466275, mse: 7249.190042812983\n",
      "iteration: 370000, a : 391.50972528859654, b : 3.008193973367581, mse: 7174.050086376003\n",
      "iteration: 380000, a : 394.1149709882904, b : 2.9890183104478067, mse: 7106.1599863823085\n",
      "iteration: 390000, a : 396.591346167448, b : 2.9707911867243117, mse: 7044.8202425801155\n",
      "iteration: 400000, a : 398.9452255073789, b : 2.953465681962269, mse: 6989.398845792204\n",
      "iteration: 410000, a : 401.1826683607828, b : 2.936997196873061, mse: 6939.32476605969\n",
      "iteration: 420000, a : 403.30943434972835, b : 2.921343338306841, mse: 6894.08206908017\n",
      "iteration: 430000, a : 405.33099819206655, b : 2.9064638101241296, mse: 6853.2046003195555\n",
      "iteration: 440000, a : 407.25256379443766, b : 2.8923203094655805, mse: 6816.27118202594\n",
      "iteration: 450000, a : 409.0790776481514, b : 2.878876428152878, mse: 6782.901273658275\n",
      "iteration: 460000, a : 410.8152415624696, b : 2.866097558966622, mse: 6752.751051016487\n",
      "iteration: 470000, a : 412.4655247679544, b : 2.8539508065607895, mse: 6725.509863676982\n",
      "iteration: 480000, a : 414.03417542117955, b : 2.8424049027833975, mse: 6700.897034230188\n",
      "iteration: 490000, a : 415.525231540334, b : 2.8314301261860377, mse: 6678.658966343141\n",
      "iteration: 500000, a : 416.9425313998575, b : 2.8209982255151482, mse: 6658.566531850161\n",
      "iteration: 510000, a : 418.2897234109475, b : 2.811082346987488, mse: 6640.412709948604\n",
      "iteration: 520000, a : 419.57027551327656, b : 2.8016569651632874, mse: 6624.0104541767505\n",
      "iteration: 530000, a : 420.7874841021642, b : 2.792697817238657, mse: 6609.190765195318\n",
      "iteration: 540000, a : 421.9444825141481, b : 2.784181840588346, mse: 6595.800949516272\n",
      "iteration: 550000, a : 423.04424909282625, b : 2.776087113397876, mse: 6583.703046237453\n",
      "iteration: 560000, a : 424.08961485569023, b : 2.7683927982325502, mse: 6572.772405573555\n",
      "iteration: 570000, a : 425.0832707817324, b : 2.7610790883977123, mse: 6562.896404536885\n",
      "iteration: 580000, a : 426.02777473856287, b : 2.7541271569523587, mse: 6553.973286535346\n",
      "iteration: 590000, a : 426.9255580668626, b : 2.7475191082449015, mse: 6545.9111129315115\n",
      "iteration: 600000, a : 427.77893183914125, b : 2.741237931846179, mse: 6538.6268157601435\n",
      "iteration: 610000, a : 428.5900928089014, b : 2.7352674587611925, mse: 6532.045341844003\n",
      "iteration: 620000, a : 429.36112906550215, b : 2.7295923198070287, mse: 6526.098879489475\n",
      "iteration: 630000, a : 430.09402540932916, b : 2.724197906049427, mse: 6520.726159794118\n",
      "iteration: 640000, a : 430.7906684610596, b : 2.7190703311965225, mse: 6515.871825367395\n",
      "iteration: 650000, a : 431.4528515182065, b : 2.714196395852717, mse: 6511.485859960159\n",
      "iteration: 660000, a : 432.08227917141545, b : 2.7095635535408626, mse: 6507.523073126256\n",
      "iteration: 670000, a : 432.6805716924105, b : 2.7051598784052038, mse: 6503.942634606404\n",
      "iteration: 680000, a : 433.2492692049096, b : 2.700974034511755, mse: 6500.707653636759\n",
      "iteration: 690000, a : 433.78983564920446, b : 2.6969952466673854, mse: 6497.784798847903\n",
      "iteration: 700000, a : 434.30366255063666, b : 2.693213272682308, mse: 6495.143954837706\n",
      "iteration: 710000, a : 434.79207260165026, b : 2.689618377004727, mse: 6492.757911879713\n",
      "iteration: 720000, a : 435.25632306667313, b : 2.686201305659528, mse: 6490.602085569869\n",
      "iteration: 730000, a : 435.697609018562, b : 2.682953262426735, mse: 6488.654263523062\n",
      "iteration: 740000, a : 436.1170664149589, b : 2.679865886198282, mse: 6486.894376509581\n",
      "iteration: 750000, a : 436.5157750224718, b : 2.6769312294548593, mse: 6485.304291673375\n",
      "iteration: 760000, a : 436.8947611962032, b : 2.6741417378074566, mse: 6483.867625701671\n",
      "iteration: 770000, a : 437.255000521806, b : 2.6714902305507637, mse: 6482.569576020758\n",
      "iteration: 780000, a : 437.59742032680947, b : 2.6689698821787946, mse: 6481.396768278867\n",
      "iteration: 790000, a : 437.9229020677663, b : 2.6665742048145207, mse: 6480.337118544624\n",
      "iteration: 800000, a : 438.23228359929334, b : 2.664297031508808, mse: 6479.379708801163\n",
      "iteration: 810000, a : 438.5263613308715, b : 2.6621325003655003, mse: 6478.514674453245\n",
      "iteration: 820000, a : 438.80589227695646, b : 2.6600750394517747, mse: 6477.733102688203\n",
      "iteration: 830000, a : 439.07159600569423, b : 2.6581193524548055, mse: 6477.026940643444\n",
      "iteration: 840000, a : 439.3241564912338, b : 2.6562604050479908, mse: 6476.388912434426\n",
      "iteration: 850000, a : 439.5642238744002, b : 2.6544934119316896, mse: 6475.812444188194\n",
      "iteration: 860000, a : 439.79241613629114, b : 2.652813824514873, mse: 6475.291596309974\n",
      "iteration: 870000, a : 440.0093206890871, b : 2.6512173192061153, mse: 6474.821002285034\n",
      "iteration: 880000, a : 440.21549588816947, b : 2.6496997862837945, mse: 6474.395813385219\n",
      "iteration: 890000, a : 440.41147246942836, b : 2.6482573193169237, mse: 6474.011648710477\n",
      "iteration: 900000, a : 440.5977549154871, b : 2.6468862051091877, mse: 6473.664550050602\n",
      "iteration: 910000, a : 440.7748227543436, b : 2.6455829141404146, mse: 6473.350941102134\n",
      "iteration: 920000, a : 440.9431317937648, b : 2.644344091480935, mse: 6473.06759062017\n"
     ]
    },
    {
     "name": "stdout",
     "output_type": "stream",
     "text": [
      "iteration: 930000, a : 441.1031152946318, b : 2.643166548155286, mse: 6472.811579125548\n",
      "iteration: 940000, a : 441.25518508623134, b : 2.6420472529332133, mse: 6472.58026882416\n",
      "iteration: 950000, a : 441.39973262639717, b : 2.6409833245266032, mse: 6472.3712764287\n",
      "iteration: 960000, a : 441.53713000919174, b : 2.6399720241725375, mse: 6472.18244860262\n",
      "iteration: 970000, a : 441.6677309227541, b : 2.6390107485831447, mse: 6472.011839773409\n",
      "iteration: 980000, a : 441.7918715597598, b : 2.638097023244246, mse: 6471.857692086561\n",
      "iteration: 990000, a : 441.90987148285683, b : 2.637228496045397, mse: 6471.718417293627\n"
     ]
    }
   ],
   "source": [
    "alpha = 1e-5\n",
    "a = 100 \n",
    "b = 0.5\n",
    "for i in range(1000000):\n",
    "    a -= alpha * (1 / len(zp)) * np.sum(2 * (a+b*zp - ks))\n",
    "    b -= alpha * (1 / len(zp)) * np.sum(2 * (a+b*zp - ks) * zp)\n",
    "    if i % 10000 == 0:\n",
    "        print(f'iteration: {i}, a : {a}, b : {b}, mse: {mse_(a, b)}')"
   ]
  },
  {
   "cell_type": "code",
   "execution_count": 20,
   "metadata": {},
   "outputs": [
    {
     "data": {
      "text/plain": [
       "[<matplotlib.lines.Line2D at 0xaf72570>]"
      ]
     },
     "execution_count": 20,
     "metadata": {},
     "output_type": "execute_result"
    },
    {
     "data": {
      "image/png": "[encoded data removed]",
      "text/plain": [
       "<Figure size 432x288 with 1 Axes>"
      ]
     },
     "metadata": {
      "needs_background": "light"
     },
     "output_type": "display_data"
    }
   ],
   "source": [
    "y_hat = a + b * zp\n",
    "y_hat\n",
    "plt.scatter(zp, ks)\n",
    "plt.plot(zp, y_hat)"
   ]
  },
  {
   "cell_type": "code",
   "execution_count": null,
   "metadata": {},
   "outputs": [],
   "source": []
  }
 ],
 "metadata": {
  "kernelspec": {
   "display_name": "Python 3",
   "language": "python",
   "name": "python3"
  },
  "language_info": {
   "codemirror_mode": {
    "name": "ipython",
    "version": 3
   },
   "file_extension": ".py",
   "mimetype": "text/x-python",
   "name": "python",
   "nbconvert_exporter": "python",
   "pygments_lexer": "ipython3",
   "version": "3.8.1"
  }
 },
 "nbformat": 4,
 "nbformat_minor": 4
}
