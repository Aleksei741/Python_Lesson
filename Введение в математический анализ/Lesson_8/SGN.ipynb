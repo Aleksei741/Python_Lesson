{
 "cells": [
  {
   "cell_type": "code",
   "execution_count": 1,
   "metadata": {},
   "outputs": [
    {
     "data": {
      "image/png": "[encoded data removed]",
      "text/plain": [
       "<Figure size 432x288 with 1 Axes>"
      ]
     },
     "metadata": {
      "needs_background": "light"
     },
     "output_type": "display_data"
    }
   ],
   "source": [
    "import numpy as np\n",
    "import matplotlib.pyplot as plt\n",
    "\n",
    "# Задаем рандомное распределение точек\n",
    "X = np.random.uniform(-8, 8, 200)\n",
    "A = np.random.uniform(0.5, 1.5, 200)\n",
    "B = np.random.uniform(-1, 1, 200)\n",
    "\n",
    "f = 1/(1+np.exp(-A*X-B))\n",
    "plt.plot(X,f, marker=\"o\", ls=\"\")\n",
    "\n",
    "\n",
    "plt.show()"
   ]
  },
  {
   "cell_type": "markdown",
   "metadata": {},
   "source": []
  },
  {
   "cell_type": "code",
   "execution_count": 2,
   "metadata": {},
   "outputs": [
    {
     "name": "stdout",
     "output_type": "stream",
     "text": [
      "1.0 1.0\n"
     ]
    }
   ],
   "source": [
    "###### import numpy as np\n",
    "from scipy.optimize import fsolve, broyden1\n",
    "import math\n",
    "\n",
    "def equations(p):\n",
    "    x, y = p\n",
    "    # Запись системы уравнения вида x+y=2, x-y=0\n",
    "    return (x+y-2, x-y)\n",
    "\n",
    "# Численное решение нелинечной системы уравнений\n",
    "x, y =  fsolve(equations, (5, 5))\n",
    "print (x, y)\n"
   ]
  },
  {
   "cell_type": "code",
   "execution_count": 3,
   "metadata": {
    "scrolled": true
   },
   "outputs": [
    {
     "name": "stderr",
     "output_type": "stream",
     "text": [
      "c:\\users\\a.kraev\\appdata\\local\\programs\\python\\python37-32\\lib\\site-packages\\ipykernel_launcher.py:8: RuntimeWarning: overflow encountered in double_scalars\n",
      "  \n",
      "c:\\users\\a.kraev\\appdata\\local\\programs\\python\\python37-32\\lib\\site-packages\\scipy\\optimize\\minpack.py:162: RuntimeWarning: The number of calls to function has reached maxfev = 600.\n",
      "  warnings.warn(msg, RuntimeWarning)\n"
     ]
    }
   ],
   "source": [
    "e = 2.7182818284\n",
    "for i in range(len(f)):\n",
    "    x = X[i]\n",
    "    y = f[i]\n",
    "    #print(x,y)\n",
    "    def equations(p):\n",
    "        a, b = p\n",
    "        return (2*x*math.e**(-a*x+b)*(1/(1+math.e**(-a*x+b))-y)/((1+math.e**(-a*x+b))**2), -2*math.e**(-a*x+b)*(1/(1+math.e**(-a*x+b))-y)/((1+math.e**(-a*x+b))**2))\n",
    "\n",
    "    a, b =  fsolve(equations, (1, 1))\n",
    "    #print (a, b)"
   ]
  },
  {
   "cell_type": "code",
   "execution_count": 4,
   "metadata": {},
   "outputs": [],
   "source": [
    "#2*x*math.e**(-a*x+b)*(1/(1+math.e**(-a*x+b))-y)/((1+math.e**(-a*x+b))**2)"
   ]
  },
  {
   "cell_type": "code",
   "execution_count": 5,
   "metadata": {},
   "outputs": [],
   "source": [
    "#-2*math.e**(-a*x+b)*(1/(1+math.e**(-a*x+b))-y)/((1+math.e**(-a*x+b))**2)"
   ]
  },
  {
   "cell_type": "code",
   "execution_count": 6,
   "metadata": {},
   "outputs": [
    {
     "name": "stdout",
     "output_type": "stream",
     "text": [
      "-0.7522935091977843 0.22472906047140032\n",
      "0.9311829807189094 -0.09019448002140089\n"
     ]
    }
   ],
   "source": [
    "x = X[i]\n",
    "y = f[i]\n",
    "print(x,y)\n",
    "\n",
    "def equations(p):\n",
    "    a, b = p\n",
    "    res_1 = 0\n",
    "    res_2 = 0\n",
    "    for i in range(len(f)):\n",
    "        x = X[i]\n",
    "        y = f[i]\n",
    "        res_1 = res_1 + 2*x*math.e**(-a*x+b)*(1/(1+math.e**(-a*x+b))-y)/((1+math.e**(-a*x+b))**2)\n",
    "        res_2 = res_2 - 2*math.e**(-a*x+b)*(1/(1+math.e**(-a*x+b))-y)/((1+math.e**(-a*x+b))**2)\n",
    "    return (res_1, res_2)\n",
    "\n",
    "a, b =  fsolve(equations, (1, 1))\n",
    "print (a, b)"
   ]
  },
  {
   "cell_type": "code",
   "execution_count": 7,
   "metadata": {},
   "outputs": [
    {
     "data": {
      "image/png": "[encoded data removed]",
      "text/plain": [
       "<Figure size 432x288 with 1 Axes>"
      ]
     },
     "metadata": {
      "needs_background": "light"
     },
     "output_type": "display_data"
    }
   ],
   "source": [
    "X_ = np.sort(X)\n",
    "f_ = 1/(1+np.exp(-a*X_+b))\n",
    "plt.plot(X,f, marker=\"o\", ls=\"\")\n",
    "plt.plot(X_,f_)\n",
    "\n",
    "plt.show()"
   ]
  },
  {
   "cell_type": "code",
   "execution_count": 8,
   "metadata": {},
   "outputs": [
    {
     "name": "stdout",
     "output_type": "stream",
     "text": [
      "0.9865633120040936\n"
     ]
    }
   ],
   "source": [
    "def DeviationFromAverage():\n",
    "    mean = np.mean(f)\n",
    "    summ = 0\n",
    "    for i in range(len(f)):\n",
    "        summ = summ + (f[i]-mean)**2\n",
    "    return summ\n",
    "\n",
    "def DeviationFromLine():\n",
    "    summ = 0\n",
    "    for i in range(len(f)):\n",
    "        summ = summ + (f[i] - 1/(1+np.exp(-a*X[i]+b)))**2\n",
    "    return summ\n",
    "    \n",
    "r = np.sqrt((DeviationFromAverage() - DeviationFromLine()) / DeviationFromAverage())\n",
    "print(r)"
   ]
  },
  {
   "cell_type": "code",
   "execution_count": 9,
   "metadata": {},
   "outputs": [
    {
     "data": {
      "text/plain": [
       "36.02633963066061"
      ]
     },
     "execution_count": 9,
     "metadata": {},
     "output_type": "execute_result"
    }
   ],
   "source": [
    "DeviationFromAverage()"
   ]
  },
  {
   "cell_type": "code",
   "execution_count": 10,
   "metadata": {},
   "outputs": [
    {
     "data": {
      "text/plain": [
       "0.9616450099910433"
      ]
     },
     "execution_count": 10,
     "metadata": {},
     "output_type": "execute_result"
    }
   ],
   "source": [
    "DeviationFromLine()"
   ]
  }
 ],
 "metadata": {
  "kernelspec": {
   "display_name": "Python 3",
   "language": "python",
   "name": "python3"
  },
  "language_info": {
   "codemirror_mode": {
    "name": "ipython",
    "version": 3
   },
   "file_extension": ".py",
   "mimetype": "text/x-python",
   "name": "python",
   "nbconvert_exporter": "python",
   "pygments_lexer": "ipython3",
   "version": "3.7.3"
  }
 },
 "nbformat": 4,
 "nbformat_minor": 2
}
