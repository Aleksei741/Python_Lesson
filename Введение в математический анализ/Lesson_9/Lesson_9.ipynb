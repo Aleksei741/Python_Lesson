{
 "cells": [
  {
   "cell_type": "code",
   "execution_count": 1,
   "metadata": {},
   "outputs": [],
   "source": [
    "import numpy as np\n",
    "from scipy.optimize import fsolve\n",
    "\n",
    "import matplotlib.pyplot as plt\n",
    "%matplotlib inline"
   ]
  },
  {
   "cell_type": "code",
   "execution_count": 2,
   "metadata": {
    "scrolled": true
   },
   "outputs": [
    {
     "name": "stdout",
     "output_type": "stream",
     "text": [
      "{(2.494357, 0.708318), (-3.65308, -0.274763), (1.375687, -0.174758), (2.217754, 0.610194), (1.273302, 1.662039)}\n"
     ]
    }
   ],
   "source": [
    "def equations(p):\n",
    "    x, y = p   \n",
    "    return (x**2-y**2+3*x*(y**3)-2*(x**2)*(y**2)+2*x-3*y-5,3*(y**3)-2*(x**2)+2*(x**3)*(y)-5*(x**2)*(y**2)+5)\n",
    "\n",
    "lim_x = np.arange(-1, 1, 0.1)\n",
    "lim_y = np.arange(-1, 1, 0.1)\n",
    "out = set()\n",
    "for i in lim_x:\n",
    "    for j in lim_y:\n",
    "        (x, y), info, ier, mesg =  fsolve(equations, (i, j), full_output=True)\n",
    "        x = round(x, 6)\n",
    "        y = round(y, 6)\n",
    "        if ier == 1:\n",
    "            out.add((x, y))\n",
    "\n",
    "print (out)"
   ]
  },
  {
   "cell_type": "code",
   "execution_count": null,
   "metadata": {},
   "outputs": [],
   "source": []
  }
 ],
 "metadata": {
  "kernelspec": {
   "display_name": "Python 3",
   "language": "python",
   "name": "python3"
  },
  "language_info": {
   "codemirror_mode": {
    "name": "ipython",
    "version": 3
   },
   "file_extension": ".py",
   "mimetype": "text/x-python",
   "name": "python",
   "nbconvert_exporter": "python",
   "pygments_lexer": "ipython3",
   "version": "3.7.3"
  }
 },
 "nbformat": 4,
 "nbformat_minor": 4
}
