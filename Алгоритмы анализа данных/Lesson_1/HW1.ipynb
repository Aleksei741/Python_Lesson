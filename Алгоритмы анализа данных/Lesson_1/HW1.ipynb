{
 "cells": [
  {
   "cell_type": "code",
   "execution_count": 1,
   "metadata": {},
   "outputs": [],
   "source": [
    "import numpy as np\n",
    "import matplotlib.pyplot as plt"
   ]
  },
  {
   "cell_type": "code",
   "execution_count": 2,
   "metadata": {},
   "outputs": [],
   "source": [
    "X = np.array([[1, 1, 1, 1, 1, 1, 1, 1, 1, 1],\n",
    "              [1, 1, 2, 1, 3, 0, 5, 10, 1, 2]])"
   ]
  },
  {
   "cell_type": "code",
   "execution_count": 3,
   "metadata": {},
   "outputs": [],
   "source": [
    "y = [45, 55, 50, 59, 65, 35, 75, 80, 50, 60]"
   ]
  },
  {
   "cell_type": "code",
   "execution_count": 4,
   "metadata": {},
   "outputs": [],
   "source": [
    "def calc_mse(y, y_pred):\n",
    "  err = np.mean((y - y_pred)**2)\n",
    "  return err\n",
    "\n",
    "def calc_mae(y, y_pred):\n",
    "  err = np.mean(np.abs(y - y_pred))\n",
    "  return err"
   ]
  },
  {
   "cell_type": "markdown",
   "metadata": {},
   "source": [
    "Задание 1. Подберите скорость обучения (alpha) и количество итераций."
   ]
  },
  {
   "cell_type": "code",
   "execution_count": 5,
   "metadata": {},
   "outputs": [
    {
     "data": {
      "text/plain": [
       "(array([1. , 0.5]), 0.001)"
      ]
     },
     "execution_count": 5,
     "metadata": {},
     "output_type": "execute_result"
    }
   ],
   "source": [
    "n = X.shape[1]\n",
    "alpha = 1e-3\n",
    "W = np.array([1, 0.5])\n",
    "W, alpha"
   ]
  },
  {
   "cell_type": "code",
   "execution_count": 6,
   "metadata": {},
   "outputs": [
    {
     "name": "stdout",
     "output_type": "stream",
     "text": [
      "0 [1.1102 0.84  ] 3173.15\n",
      "1000 [31.66648131  6.78503276] 176.46806566379882\n",
      "2000 [41.73215361  4.92632937] 62.2342399245102\n",
      "3000 [45.28877016  4.26957292] 47.97214782992787\n",
      "4000 [46.54546925  4.03751382] 46.19152576288303\n",
      "5000 [46.98951279  3.95551778] 45.96921511416331\n",
      "6000 [47.14641166  3.92654521] 45.94145963171208\n",
      "7000 [47.2018505  3.916308 ] 45.93799435998288\n",
      "8000 [47.22143932  3.91269078] 45.937561720839334\n",
      "9000 [47.22836086  3.91141266] 45.93750770584623\n",
      "10000 [47.23080652  3.91096105] 45.93750096207482\n",
      "11000 [47.23167067  3.91080148] 45.93750012011503\n",
      "12000 [47.23197602  3.91074509] 45.937500014996345\n",
      "13000 [47.23208391  3.91072517] 45.9375000018723\n",
      "14000 [47.23212203  3.91071813] 45.93750000023376\n",
      "15000 [47.2321355   3.91071564] 45.93750000002917\n",
      "16000 [47.23214026  3.91071477] 45.93750000000364\n",
      "17000 [47.23214194  3.91071446] 45.93750000000046\n",
      "18000 [47.23214253  3.91071435] 45.937500000000036\n",
      "19000 [47.23214274  3.91071431] 45.9375\n"
     ]
    }
   ],
   "source": [
    "W = np.array([1, 0.5])\n",
    "for i in range(20000):\n",
    "  y_pred = np.dot(W, X)\n",
    "  err = calc_mse(y, y_pred)\n",
    "  for ii in range(W.shape[0]):\n",
    "    W[ii] -= alpha * (1/n * 2 * np.sum(X[ii] * (y_pred - y)))\n",
    "  if i % 1000 == 0:\n",
    "    print(i, W, err)"
   ]
  },
  {
   "cell_type": "markdown",
   "metadata": {},
   "source": [
    "Задание *2. В этом коде мы избавляемся от итераций по весам, но тут есть ошибка, исправьте ее."
   ]
  },
  {
   "cell_type": "code",
   "execution_count": 7,
   "metadata": {},
   "outputs": [
    {
     "name": "stdout",
     "output_type": "stream",
     "text": [
      "0 [1.1102 0.84  ] 3173.15\n",
      "1000 [31.66648131  6.78503276] 176.46806566379882\n",
      "2000 [41.73215361  4.92632937] 62.2342399245102\n",
      "3000 [45.28877016  4.26957292] 47.97214782992787\n",
      "4000 [46.54546925  4.03751382] 46.19152576288303\n",
      "5000 [46.98951279  3.95551778] 45.96921511416331\n",
      "6000 [47.14641166  3.92654521] 45.94145963171208\n",
      "7000 [47.2018505  3.916308 ] 45.93799435998288\n",
      "8000 [47.22143932  3.91269078] 45.937561720839334\n",
      "9000 [47.22836086  3.91141266] 45.93750770584623\n",
      "10000 [47.23080652  3.91096105] 45.93750096207482\n",
      "11000 [47.23167067  3.91080148] 45.93750012011503\n",
      "12000 [47.23197602  3.91074509] 45.937500014996345\n",
      "13000 [47.23208391  3.91072517] 45.9375000018723\n",
      "14000 [47.23212203  3.91071813] 45.93750000023376\n",
      "15000 [47.2321355   3.91071564] 45.93750000002917\n",
      "16000 [47.23214026  3.91071477] 45.93750000000364\n",
      "17000 [47.23214194  3.91071446] 45.93750000000046\n",
      "18000 [47.23214253  3.91071435] 45.937500000000036\n",
      "19000 [47.23214274  3.91071431] 45.9375\n"
     ]
    }
   ],
   "source": [
    "W = np.array([1, 0.5])\n",
    "for i in range(20000):\n",
    "  y_pred = np.dot(W, X)\n",
    "  err = calc_mse(y, y_pred)\n",
    "  '''for ii in range(W.shape[0]):\n",
    "    W[ii] -= alpha * (1/n * 2 * np.sum(X[ii] * (y_pred - y)))'''\n",
    "  W -= [alpha * (1/n * 2 * np.sum(X[0] * (y_pred - y))), alpha * (1/n * 2 * np.sum(X[1] * (y_pred - y)))]\n",
    "  if i % 1000 == 0:\n",
    "    print(i, W, err)"
   ]
  },
  {
   "cell_type": "markdown",
   "metadata": {},
   "source": [
    "Задание *3: вместо того, чтобы задавать количество итераций, задайте условие остановки алгоритма - когда ошибка за итерацию\n",
    "начинает изменяться ниже определенного порога (упрощенный аналог параметра tol в линейной регрессии в sklearn)."
   ]
  },
  {
   "cell_type": "code",
   "execution_count": 8,
   "metadata": {},
   "outputs": [
    {
     "name": "stdout",
     "output_type": "stream",
     "text": [
      "590969 [47.13756973  3.92817794] 45.942308592314504\n"
     ]
    }
   ],
   "source": [
    "alpha = 1e-5\n",
    "W = np.array([1, 0.5])\n",
    "true_mse = 1e-7\n",
    "\n",
    "mse = 0\n",
    "old_mse = 0\n",
    "iteration = 0\n",
    "\n",
    "while True:\n",
    "    iteration += 1\n",
    "    y_pred = np.dot(W, X)\n",
    "    mse = calc_mse(y, y_pred)\n",
    "\n",
    "    for ii in range(W.shape[0]):\n",
    "        W[ii] -= alpha * (1/n * 2 * np.sum(X[ii] * (y_pred - y)))\n",
    "    \n",
    "    if np.abs(mse - old_mse) < true_mse:\n",
    "        print(iteration, W, mse)\n",
    "        break\n",
    "    \n",
    "    old_mse = mse"
   ]
  },
  {
   "cell_type": "code",
   "execution_count": null,
   "metadata": {},
   "outputs": [],
   "source": []
  }
 ],
 "metadata": {
  "kernelspec": {
   "display_name": "Python 3",
   "language": "python",
   "name": "python3"
  },
  "language_info": {
   "codemirror_mode": {
    "name": "ipython",
    "version": 3
   },
   "file_extension": ".py",
   "mimetype": "text/x-python",
   "name": "python",
   "nbconvert_exporter": "python",
   "pygments_lexer": "ipython3",
   "version": "3.7.3"
  }
 },
 "nbformat": 4,
 "nbformat_minor": 4
}
