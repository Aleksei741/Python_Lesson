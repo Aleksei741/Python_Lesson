{
 "cells": [
  {
   "cell_type": "code",
   "execution_count": 1,
   "metadata": {},
   "outputs": [],
   "source": [
    "from sklearn.tree import DecisionTreeRegressor\n",
    "\n",
    "from sklearn import model_selection\n",
    "import numpy as np"
   ]
  },
  {
   "cell_type": "code",
   "execution_count": 2,
   "metadata": {},
   "outputs": [],
   "source": [
    "#Формируем данные\n",
    "from sklearn.datasets import load_diabetes\n",
    "X, y = load_diabetes(return_X_y=True)"
   ]
  },
  {
   "cell_type": "code",
   "execution_count": 3,
   "metadata": {},
   "outputs": [],
   "source": [
    "#Делим данные \n",
    "X_train, X_test, y_train, y_test = model_selection.train_test_split(X, y, test_size=0.25)"
   ]
  },
  {
   "cell_type": "code",
   "execution_count": 4,
   "metadata": {},
   "outputs": [],
   "source": [
    "#Градиентный бустинг\n",
    "\n",
    "def gb_predict(X, trees_list, coef_list, eta):\n",
    "    # Реализуемый алгоритм градиентного бустинга будет инициализироваться нулевыми значениями,\n",
    "    # поэтому все деревья из списка trees_list уже являются дополнительными и при предсказании прибавляются с шагом eta\n",
    "    return np.array([sum([eta* coef * alg.predict([x])[0] for alg, coef in zip(trees_list, coef_list)]) for x in X])\n",
    "\n",
    "def mean_squared_error(y_real, prediction):\n",
    "    return (sum((y_real - prediction)**2)) / len(y_real)\n",
    "\n",
    "def bias(y, z):\n",
    "    return (y - z)\n",
    "\n",
    "def gb_fit(n_trees, max_depth, X_train, X_test, y_train, y_test, coefs, eta):\n",
    "    \n",
    "    # Деревья будем записывать в список\n",
    "    trees = []\n",
    "    \n",
    "    # Будем записывать ошибки на обучающей и тестовой выборке на каждой итерации в список\n",
    "    train_errors = []\n",
    "    test_errors = []\n",
    "    \n",
    "    for i in range(n_trees):\n",
    "        tree = DecisionTreeRegressor(max_depth=max_depth, random_state=42)\n",
    "\n",
    "        # инициализируем бустинг начальным алгоритмом, возвращающим ноль, \n",
    "        # поэтому первый алгоритм просто обучаем на выборке и добавляем в список\n",
    "        if len(trees) == 0:\n",
    "            # обучаем первое дерево на обучающей выборке\n",
    "            tree.fit(X_train, y_train)\n",
    "            \n",
    "            train_errors.append(mean_squared_error(y_train, gb_predict(X_train, trees, coefs, eta)))\n",
    "            test_errors.append(mean_squared_error(y_test, gb_predict(X_test, trees, coefs, eta)))\n",
    "        else:\n",
    "            # Получим ответы на текущей композиции\n",
    "            target = gb_predict(X_train, trees, coefs, eta)\n",
    "            \n",
    "            # алгоритмы начиная со второго обучаем на сдвиг\n",
    "            tree.fit(X_train, bias(y_train, target))\n",
    "            \n",
    "            train_errors.append(mean_squared_error(y_train, gb_predict(X_train, trees, coefs, eta)))\n",
    "            test_errors.append(mean_squared_error(y_test, gb_predict(X_test, trees, coefs, eta)))\n",
    "\n",
    "        trees.append(tree)\n",
    "        \n",
    "    return trees, train_errors, test_errors\n"
   ]
  },
  {
   "cell_type": "code",
   "execution_count": 5,
   "metadata": {},
   "outputs": [],
   "source": [
    "import matplotlib.pyplot as plt\n",
    "def get_error_plot(n_trees, train_err, test_err):\n",
    "    plt.xlabel('Iteration number')\n",
    "    plt.ylabel('MSE')\n",
    "    plt.xlim(0, n_trees)\n",
    "    plt.plot(list(range(n_trees)), train_err, label='train error')\n",
    "    plt.plot(list(range(n_trees)), test_err, label='test error')\n",
    "    plt.legend(loc='upper right')\n",
    "    plt.show()"
   ]
  },
  {
   "cell_type": "markdown",
   "metadata": {},
   "source": [
    "1. Для реализованной в методичке модели градиентного бустинга построить графики зависимости ошибки от количества деревьев в ансамбле и от максимальной глубины деревьев. \n",
    "Сделать выводы о зависимости ошибки от этих параметров."
   ]
  },
  {
   "cell_type": "code",
   "execution_count": 6,
   "metadata": {},
   "outputs": [],
   "source": [
    "# Число деревьев в ансамбле\n",
    "n_trees = 20\n",
    "\n",
    "# для простоты примем коэффициенты равными 1\n",
    "coefs = [1] * n_trees\n",
    "\n",
    "# Максимальная глубина деревьев\n",
    "max_depth = 5\n",
    "\n",
    "# Шаг\n",
    "eta = 1\n",
    "\n",
    "trees, train_errors, test_errors = gb_fit(n_trees, max_depth, X_train, X_test, y_train, y_test, coefs, eta)"
   ]
  },
  {
   "cell_type": "code",
   "execution_count": 7,
   "metadata": {},
   "outputs": [
    {
     "name": "stdout",
     "output_type": "stream",
     "text": [
      "Ошибка алгоритма из 20 деревьев глубиной 5 с шагом 1 на тренировочной выборке: 5.90772116256204\n",
      "Ошибка алгоритма из 20 деревьев глубиной 5 с шагом 1 на тестовой выборке: 6310.92875319967\n"
     ]
    }
   ],
   "source": [
    "train_prediction = gb_predict(X_train, trees, coefs, eta)\n",
    "\n",
    "print(f'Ошибка алгоритма из {n_trees} деревьев глубиной {max_depth} \\\n",
    "с шагом {eta} на тренировочной выборке: {mean_squared_error(y_train, train_prediction)}')\n",
    "\n",
    "test_prediction = gb_predict(X_test, trees, coefs, eta)\n",
    "\n",
    "print(f'Ошибка алгоритма из {n_trees} деревьев глубиной {max_depth} \\\n",
    "с шагом {eta} на тестовой выборке: {mean_squared_error(y_test, test_prediction)}')"
   ]
  },
  {
   "cell_type": "code",
   "execution_count": 8,
   "metadata": {},
   "outputs": [
    {
     "name": "stdout",
     "output_type": "stream",
     "text": [
      "Начало обучения 1 деревьев глубиной 10\n",
      "Конец обучения 1 деревьев глубиной 10\n",
      "Начало обучения 5 деревьев глубиной 10\n",
      "Конец обучения 5 деревьев глубиной 10\n",
      "Начало обучения 10 деревьев глубиной 10\n",
      "Конец обучения 10 деревьев глубиной 10\n",
      "Начало обучения 50 деревьев глубиной 10\n",
      "Конец обучения 50 деревьев глубиной 10\n",
      "Начало обучения 100 деревьев глубиной 10\n",
      "Конец обучения 100 деревьев глубиной 10\n"
     ]
    }
   ],
   "source": [
    "n_trees_mas = [1, 5, 10, 50, 100]\n",
    "\n",
    "# Число деревьев в ансамбле\n",
    "#n_trees = 20\n",
    "\n",
    "# для простоты примем коэффициенты равными 1\n",
    "#coefs = [1] * n_trees\n",
    "\n",
    "# Максимальная глубина деревьев\n",
    "max_depth = 10\n",
    "\n",
    "# Шаг\n",
    "eta = 0.1\n",
    "\n",
    "error_train_mas = []\n",
    "error_test_mas = []\n",
    "for n_trees in n_trees_mas:\n",
    "    print(f'Начало обучения {n_trees} деревьев глубиной {max_depth}')\n",
    "    coefs = [1] * n_trees\n",
    "    trees, train_errors, test_errors = gb_fit(n_trees, max_depth, X_train, X_test, y_train, y_test, coefs, eta)\n",
    "    train_prediction = gb_predict(X_train, trees, coefs, eta)\n",
    "    error_train_mas.append(mean_squared_error(y_train, train_prediction))\n",
    "    test_prediction = gb_predict(X_test, trees, coefs, eta)\n",
    "    error_test_mas.append(mean_squared_error(y_test, test_prediction))\n",
    "    print(f'Конец обучения {n_trees} деревьев глубиной {max_depth}')"
   ]
  },
  {
   "cell_type": "code",
   "execution_count": 9,
   "metadata": {},
   "outputs": [
    {
     "data": {
      "image/png": "[encoded data removed]",
      "text/plain": [
       "<Figure size 1152x504 with 1 Axes>"
      ]
     },
     "metadata": {
      "needs_background": "light"
     },
     "output_type": "display_data"
    },
    {
     "name": "stdout",
     "output_type": "stream",
     "text": [
      "Ошибки на обучающей: [24145.6908348679, 10446.410413450496, 3664.1482509928032, 0.8723134776320577, 3.278724041506504e-05]\n",
      "Ошибки на обучающей: [22515.349452987055, 11875.591082992361, 6787.7898146522775, 4784.268927291629, 4793.884494877736]\n"
     ]
    }
   ],
   "source": [
    "plt.figure(figsize = (16, 7))\n",
    "\n",
    "# график обучающей выборки\n",
    "#plt.subplot(1,2,1)\n",
    "plt.xlabel('n_trees')\n",
    "plt.ylabel('MSE')\n",
    "#plt.xlim(0, n_trees)\n",
    "plt.plot(n_trees_mas, error_train_mas, label='train error')\n",
    "\n",
    "# график тестовой выборки\n",
    "#plt.subplot(1,2,2)\n",
    "plt.xlabel('n_trees')\n",
    "plt.ylabel('MSE')\n",
    "#plt.xlim(0, n_trees)\n",
    "plt.plot(n_trees_mas, error_test_mas, label='test error')\n",
    "plt.legend(loc='upper right')\n",
    "\n",
    "plt.show()\n",
    "\n",
    "print(f'Ошибки на обучающей: {error_train_mas}')\n",
    "print(f'Ошибки на обучающей: {error_test_mas}')"
   ]
  },
  {
   "cell_type": "code",
   "execution_count": 10,
   "metadata": {},
   "outputs": [
    {
     "name": "stdout",
     "output_type": "stream",
     "text": [
      "Начало обучения 20 деревьев глубиной 1\n",
      "Конец обучения 20 деревьев глубиной 1\n",
      "Начало обучения 20 деревьев глубиной 5\n",
      "Конец обучения 20 деревьев глубиной 5\n",
      "Начало обучения 20 деревьев глубиной 10\n",
      "Конец обучения 20 деревьев глубиной 10\n",
      "Начало обучения 20 деревьев глубиной 50\n",
      "Конец обучения 20 деревьев глубиной 50\n",
      "Начало обучения 20 деревьев глубиной 100\n",
      "Конец обучения 20 деревьев глубиной 100\n"
     ]
    }
   ],
   "source": [
    "max_depth_mas = [1, 5, 10, 50, 100]\n",
    "\n",
    "# Число деревьев в ансамбле\n",
    "n_trees = 20\n",
    "\n",
    "# для простоты примем коэффициенты равными 1\n",
    "coefs = [1] * n_trees\n",
    "\n",
    "# Максимальная глубина деревьев\n",
    "# max_depth = 10\n",
    "\n",
    "# Шаг\n",
    "eta = 0.1\n",
    "\n",
    "error_train_mas = []\n",
    "error_test_mas = []\n",
    "for max_depth in max_depth_mas:\n",
    "    print(f'Начало обучения {n_trees} деревьев глубиной {max_depth}')\n",
    "    trees, train_errors, test_errors = gb_fit(n_trees, max_depth, X_train, X_test, y_train, y_test, coefs, eta)\n",
    "    train_prediction = gb_predict(X_train, trees, coefs, eta)\n",
    "    error_train_mas.append(mean_squared_error(y_train, train_prediction))\n",
    "    test_prediction = gb_predict(X_test, trees, coefs, eta)\n",
    "    error_test_mas.append(mean_squared_error(y_test, test_prediction))\n",
    "    print(f'Конец обучения {n_trees} деревьев глубиной {max_depth}')"
   ]
  },
  {
   "cell_type": "code",
   "execution_count": 11,
   "metadata": {},
   "outputs": [
    {
     "data": {
      "image/png": "[encoded data removed]",
      "text/plain": [
       "<Figure size 1152x504 with 1 Axes>"
      ]
     },
     "metadata": {
      "needs_background": "light"
     },
     "output_type": "display_data"
    },
    {
     "name": "stdout",
     "output_type": "stream",
     "text": [
      "Ошибки на обучающей: [3753.4707567684704, 1309.2368304302759, 452.3399725525517, 440.0242058523794, 440.0242058523794]\n",
      "Ошибки на обучающей: [3486.089688943339, 3601.0586799089856, 4743.633389230289, 5972.314788804747, 5972.314788804747]\n"
     ]
    }
   ],
   "source": [
    "plt.figure(figsize = (16, 7))\n",
    "\n",
    "# график обучающей выборки\n",
    "#plt.subplot(1,2,1)\n",
    "plt.xlabel('n_trees')\n",
    "plt.ylabel('MSE')\n",
    "#plt.xlim(0, n_trees)\n",
    "plt.plot(n_trees_mas, error_train_mas, label='train error')\n",
    "\n",
    "# график тестовой выборки\n",
    "#plt.subplot(1,2,2)\n",
    "plt.xlabel('n_trees')\n",
    "plt.ylabel('MSE')\n",
    "#plt.xlim(0, n_trees)\n",
    "plt.plot(n_trees_mas, error_test_mas, label='test error')\n",
    "plt.legend(loc='upper right')\n",
    "\n",
    "plt.show()\n",
    "\n",
    "print(f'Ошибки на обучающей: {error_train_mas}')\n",
    "print(f'Ошибки на обучающей: {error_test_mas}')"
   ]
  },
  {
   "cell_type": "markdown",
   "metadata": {},
   "source": [
    "С увеличением числа деревьев ансамбле точность растет. При увеличении глубины деревьев модель переобучается."
   ]
  },
  {
   "cell_type": "markdown",
   "metadata": {},
   "source": [
    "2*. Модифицировать реализованный алгоритм, чтобы получился стохастический градиентный бустинг. Размер подвыборки принять равным 0.5. \n",
    "    Сравнить на одном графике кривые  изменения ошибки на тестовой выборке в зависимости от  числа итераций."
   ]
  },
  {
   "cell_type": "code",
   "execution_count": 12,
   "metadata": {},
   "outputs": [],
   "source": [
    "def gb_bust_fit(n_trees, max_depth, X_train, X_test, y_train, y_test, coefs, eta):\n",
    "    \n",
    "    # Деревья будем записывать в список\n",
    "    trees = []\n",
    "    \n",
    "    # Будем записывать ошибки на обучающей и тестовой выборке на каждой итерации в список\n",
    "    train_errors = []\n",
    "    test_errors = []\n",
    "    \n",
    "    for i in range(n_trees):\n",
    "        tree = DecisionTreeRegressor(max_depth=max_depth, random_state=42)\n",
    "        \n",
    "        X_train_subset, X_test_subset, y_train_subset, y_test_subset = \\\n",
    "        model_selection.train_test_split(X_train, y_train, test_size=0.50)\n",
    "\n",
    "        # инициализируем бустинг начальным алгоритмом, возвращающим ноль, \n",
    "        # поэтому первый алгоритм просто обучаем на выборке и добавляем в список\n",
    "        if len(trees) == 0:\n",
    "            # обучаем первое дерево на обучающей выборке\n",
    "            tree.fit(X_train_subset, y_train_subset)\n",
    "            \n",
    "            train_errors.append(mean_squared_error(y_train_subset, gb_predict(X_train_subset, trees, coefs, eta)))\n",
    "            test_errors.append(mean_squared_error(y_test_subset, gb_predict(X_test_subset, trees, coefs, eta)))\n",
    "        else:\n",
    "            # Получим ответы на текущей композиции\n",
    "            target = gb_predict(X_train_subset, trees, coefs, eta)\n",
    "            \n",
    "            # алгоритмы начиная со второго обучаем на сдвиг\n",
    "            tree.fit(X_train_subset, bias(y_train_subset, target))\n",
    "            \n",
    "            train_errors.append(mean_squared_error(y_train_subset, gb_predict(X_train_subset, trees, coefs, eta)))\n",
    "            test_errors.append(mean_squared_error(y_test_subset, gb_predict(X_test_subset, trees, coefs, eta)))\n",
    "\n",
    "        trees.append(tree)\n",
    "        \n",
    "    return trees, train_errors, test_errors\n"
   ]
  },
  {
   "cell_type": "code",
   "execution_count": 13,
   "metadata": {},
   "outputs": [
    {
     "name": "stdout",
     "output_type": "stream",
     "text": [
      "Начало обучения 1 деревьев глубиной 10\n",
      "Конец обучения 1 деревьев глубиной 10\n",
      "Начало обучения 5 деревьев глубиной 10\n",
      "Конец обучения 5 деревьев глубиной 10\n",
      "Начало обучения 10 деревьев глубиной 10\n",
      "Конец обучения 10 деревьев глубиной 10\n",
      "Начало обучения 30 деревьев глубиной 10\n",
      "Конец обучения 30 деревьев глубиной 10\n",
      "Начало обучения 50 деревьев глубиной 10\n",
      "Конец обучения 50 деревьев глубиной 10\n"
     ]
    },
    {
     "data": {
      "image/png": "[encoded data removed]",
      "text/plain": [
       "<Figure size 432x288 with 1 Axes>"
      ]
     },
     "metadata": {
      "needs_background": "light"
     },
     "output_type": "display_data"
    },
    {
     "name": "stdout",
     "output_type": "stream",
     "text": [
      "Ошибки на обучающей: [24708.871611144674, 11167.189005633933, 4448.351555706255, 310.0366595908327, 75.32178073474567]\n",
      "Ошибки на обучающей: [22542.275148448454, 11022.50712761239, 5706.71219089426, 2937.077592896442, 3389.8566660347938]\n"
     ]
    }
   ],
   "source": [
    "n_trees_mas = [1, 5, 10, 30, 50]\n",
    "\n",
    "# Число деревьев в ансамбле\n",
    "#n_trees = 20\n",
    "\n",
    "# для простоты примем коэффициенты равными 1\n",
    "#coefs = [1] * n_trees\n",
    "\n",
    "# Максимальная глубина деревьев\n",
    "max_depth = 10\n",
    "\n",
    "# Шаг\n",
    "eta = 0.1\n",
    "\n",
    "error_train_mas = []\n",
    "error_test_mas = []\n",
    "for n_trees in n_trees_mas:\n",
    "    print(f'Начало обучения {n_trees} деревьев глубиной {max_depth}')\n",
    "    coefs = [1] * n_trees\n",
    "    trees, train_errors, test_errors = gb_bust_fit(n_trees, max_depth, X_train, X_test, y_train, y_test, coefs, eta)\n",
    "    train_prediction = gb_predict(X_train, trees, coefs, eta)\n",
    "    error_train_mas.append(mean_squared_error(y_train, train_prediction))\n",
    "    test_prediction = gb_predict(X_test, trees, coefs, eta)\n",
    "    error_test_mas.append(mean_squared_error(y_test, test_prediction))\n",
    "    print(f'Конец обучения {n_trees} деревьев глубиной {max_depth}')\n",
    "    \n",
    "    \n",
    "# график обучающей выборки\n",
    "#plt.subplot(1,2,1)\n",
    "plt.xlabel('n_trees')\n",
    "plt.ylabel('MSE')\n",
    "#plt.xlim(0, n_trees)\n",
    "plt.plot(n_trees_mas, error_train_mas, label='train error')\n",
    "\n",
    "# график тестовой выборки\n",
    "#plt.subplot(1,2,2)\n",
    "plt.xlabel('n_trees')\n",
    "plt.ylabel('MSE')\n",
    "#plt.xlim(0, n_trees)\n",
    "plt.plot(n_trees_mas, error_test_mas, label='test error')\n",
    "plt.legend(loc='upper right')\n",
    "\n",
    "plt.show()\n",
    "\n",
    "print(f'Ошибки на обучающей: {error_train_mas}')\n",
    "print(f'Ошибки на обучающей: {error_test_mas}')"
   ]
  },
  {
   "cell_type": "code",
   "execution_count": null,
   "metadata": {},
   "outputs": [],
   "source": []
  }
 ],
 "metadata": {
  "kernelspec": {
   "display_name": "Python 3",
   "language": "python",
   "name": "python3"
  },
  "language_info": {
   "codemirror_mode": {
    "name": "ipython",
    "version": 3
   },
   "file_extension": ".py",
   "mimetype": "text/x-python",
   "name": "python",
   "nbconvert_exporter": "python",
   "pygments_lexer": "ipython3",
   "version": "3.8.1"
  }
 },
 "nbformat": 4,
 "nbformat_minor": 4
}
