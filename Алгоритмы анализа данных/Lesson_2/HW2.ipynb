{
 "cells": [
  {
   "cell_type": "code",
   "execution_count": 1,
   "metadata": {},
   "outputs": [],
   "source": [
    "import numpy as np\n",
    "import matplotlib.pyplot as plt"
   ]
  },
  {
   "cell_type": "code",
   "execution_count": 2,
   "metadata": {},
   "outputs": [],
   "source": [
    "# К признаку стажа добавим признаки: средняя стоимость занятия,\n",
    "# квалификация репетитора\n",
    "X = np.array([[1, 1, 1, 1, 1, 1, 1, 1, 1, 1],\n",
    "              [1, 1, 2, 1, 3, 0, 5, 10, 1, 2],\n",
    "              [500, 700, 750, 600, 1450, 800, 1500, 2000, 450, 1000],\n",
    "              [1, 1, 2, 1, 2, 1, 3, 3, 1, 2]])"
   ]
  },
  {
   "cell_type": "code",
   "execution_count": 3,
   "metadata": {},
   "outputs": [],
   "source": [
    "X_st = X.copy().astype(np.float64)"
   ]
  },
  {
   "cell_type": "code",
   "execution_count": 4,
   "metadata": {},
   "outputs": [],
   "source": [
    "y = [45, 55, 50, 59, 65, 35, 75, 80, 50, 60]"
   ]
  },
  {
   "cell_type": "code",
   "execution_count": 5,
   "metadata": {},
   "outputs": [],
   "source": [
    "def calc_std_feat(x):\n",
    "  res = (x - x.mean()) / x.std()\n",
    "  return res"
   ]
  },
  {
   "cell_type": "code",
   "execution_count": 6,
   "metadata": {},
   "outputs": [],
   "source": [
    "X_st[1] = calc_std_feat(X[1])\n",
    "X_st[2] = calc_std_feat(X[2])\n",
    "X_st[3] = calc_std_feat(X[3])"
   ]
  },
  {
   "cell_type": "markdown",
   "metadata": {},
   "source": [
    "1. Постройте график зависимости весов всех признаков от lambda в L2-регуляризации (на данных из урока)."
   ]
  },
  {
   "cell_type": "code",
   "execution_count": 7,
   "metadata": {},
   "outputs": [],
   "source": [
    "def calc_mse(y, y_pred):\n",
    "  err = np.mean((y - y_pred)**2)\n",
    "  return err"
   ]
  },
  {
   "cell_type": "code",
   "execution_count": 8,
   "metadata": {},
   "outputs": [],
   "source": [
    "def eval_model(X, y, W_, lambda_, alpha=1e-4):  \n",
    "  n = X.shape[1]\n",
    "  err_old = 0\n",
    "  err = 0\n",
    "  iterations = 0\n",
    "  while True:\n",
    "    y_pred = np.dot(W_, X)\n",
    "    err = calc_mse(y, y_pred)\n",
    "    W_ -= alpha * (1/n * 2 * np.dot((y_pred - y), X.T) + lambda_ * np.sum(W_**2))\n",
    "    \n",
    "    if np.abs(err_old - err) < 1e-3:\n",
    "        break\n",
    "    err_old = err\n",
    "        \n",
    "    #if (iterations % 100) == 0:\n",
    "      #print(iterations, W_, err)\n",
    "    #iterations+=1\n",
    "    \n",
    "  print(err)\n",
    "  return W_"
   ]
  },
  {
   "cell_type": "code",
   "execution_count": 9,
   "metadata": {},
   "outputs": [
    {
     "data": {
      "text/plain": [
       "array([ 1.14219814, -0.06008129, -0.27039866, -0.83733936])"
      ]
     },
     "execution_count": 9,
     "metadata": {},
     "output_type": "execute_result"
    }
   ],
   "source": [
    "W = np.random.randn(X.shape[0])\n",
    "W"
   ]
  },
  {
   "cell_type": "code",
   "execution_count": 10,
   "metadata": {},
   "outputs": [
    {
     "data": {
      "text/plain": [
       "[1e-10, 1e-09, 1e-08, 1e-07, 1e-06, 1e-05, 0.0001, 0.001, 0.01, 0.1, 1]"
      ]
     },
     "execution_count": 10,
     "metadata": {},
     "output_type": "execute_result"
    }
   ],
   "source": [
    "_lambda_ = [10**x for x in range(-10, 1)]\n",
    "_lambda_"
   ]
  },
  {
   "cell_type": "code",
   "execution_count": 11,
   "metadata": {},
   "outputs": [
    {
     "name": "stdout",
     "output_type": "stream",
     "text": [
      "42.75088988852331\n",
      "42.75089369138785\n",
      "42.75093172040124\n",
      "42.75031241800521\n",
      "42.7531189243778\n",
      "42.77550400236125\n",
      "43.03609651020328\n",
      "49.1640208284417\n",
      "286.67734476633444\n",
      "1547.5374453619984\n",
      "2701.397074321439\n"
     ]
    },
    {
     "data": {
      "text/plain": [
       "[array([55.83452917,  4.76210629,  3.32268958,  3.55720136]),\n",
       " array([55.83452796,  4.76210579,  3.32268911,  3.55720085]),\n",
       " array([55.83451586,  4.76210073,  3.32268434,  3.5571957 ]),\n",
       " array([55.83470797,  4.7620766 ,  3.32260296,  3.55715236]),\n",
       " array([55.83381114,  4.76159774,  3.32209265,  3.55664605]),\n",
       " array([55.82671024,  4.75696821,  3.31678846,  3.55163217]),\n",
       " array([55.75312641,  4.7106206 ,  3.26404541,  3.50152797]),\n",
       " array([54.85711429,  4.25023194,  2.76691608,  3.01059544]),\n",
       " array([45.78361001,  0.96975802, -0.08500164, -0.22627415]),\n",
       " array([21.77651001, -1.04127222, -1.44206829, -1.93319763]),\n",
       " array([ 7.89292687, -0.78813197, -1.05061409, -1.59996575])]"
      ]
     },
     "execution_count": 11,
     "metadata": {},
     "output_type": "execute_result"
    }
   ],
   "source": [
    "result_W = list()\n",
    "for i in range(len(_lambda_)):\n",
    "    result_W.append(eval_model(X_st, y, W_=W.copy(), lambda_=_lambda_[i]))\n",
    "    \n",
    "result_W"
   ]
  },
  {
   "cell_type": "code",
   "execution_count": 12,
   "metadata": {},
   "outputs": [],
   "source": [
    "import matplotlib.pyplot as plt\n",
    "%matplotlib inline"
   ]
  },
  {
   "cell_type": "code",
   "execution_count": 13,
   "metadata": {},
   "outputs": [
    {
     "data": {
      "image/png": "[encoded data removed]",
      "text/plain": [
       "<Figure size 432x288 with 1 Axes>"
      ]
     },
     "metadata": {
      "needs_background": "light"
     },
     "output_type": "display_data"
    }
   ],
   "source": [
    "plt.xscale('log')\n",
    "for i in range(len(_lambda_)):\n",
    "    plt.plot(_lambda_, result_W, 'o-')\n",
    "plt.xlabel(\"lambda\")\n",
    "plt.ylabel(\"weight\")\n",
    "plt.legend([f'{i} weight' for i in range(1, 5)])\n",
    "plt.show()"
   ]
  },
  {
   "cell_type": "markdown",
   "metadata": {},
   "source": [
    "2. Можно ли к одному и тому же признаку применить сразу и нормализацию, и стандартизацию?"
   ]
  },
  {
   "cell_type": "markdown",
   "metadata": {},
   "source": [
    "Нет."
   ]
  },
  {
   "cell_type": "markdown",
   "metadata": {},
   "source": [
    "3*. Напишите функцию наподобие eval_model_reg2, но для применения L1-регуляризации."
   ]
  },
  {
   "cell_type": "code",
   "execution_count": 14,
   "metadata": {},
   "outputs": [],
   "source": [
    "def eval_model_reg2(X, y, iterations, alpha=1e-4, lambda_=1e-8):\n",
    "  np.random.seed(42)\n",
    "  W = np.random.randn(X.shape[0])\n",
    "  n = X.shape[1]\n",
    "  for i in range(1, iterations+1):\n",
    "    y_pred = np.dot(W, X)\n",
    "    err = calc_mse(y, y_pred)\n",
    "    W -= alpha * (1/n * 2 * np.dot((y_pred - y), X.T) + lambda_ * np.sum(np.abs(W))) \n",
    "    if i % (iterations / 10) == 0:\n",
    "      print(i, W, err)\n",
    "  return W"
   ]
  },
  {
   "cell_type": "code",
   "execution_count": 16,
   "metadata": {},
   "outputs": [
    {
     "name": "stdout",
     "output_type": "stream",
     "text": [
      "200 [56.39600577  4.16617218  3.16553993  4.31221065] 41.52846728101865\n",
      "400 [57.37895388  4.86177653  2.65581955  4.13156426] 40.08356616119156\n",
      "600 [57.39623819  5.30195475  2.29334035  4.0578041 ] 39.91476011507877\n",
      "800 [57.39654197  5.58340568  2.03657478  4.03603996] 39.840684388930796\n",
      "1000 [57.39654719  5.7651832   1.85524989  4.03772303] 39.80717735614978\n",
      "1200 [57.3965472   5.88371205  1.72751229  4.04847714] 39.791692507945626\n",
      "1400 [57.39654714  5.9616903   1.63770028  4.0614204 ] 39.784422052179124\n",
      "1600 [57.3965471   6.01341087  1.57465212  4.07353981] 39.78096926686833\n",
      "1800 [57.39654707  6.04796845  1.53044771  4.08374911] 39.779316208207895\n",
      "2000 [57.39654705  6.07120951  1.49948638  4.09186747] 39.778520240421216\n"
     ]
    },
    {
     "data": {
      "text/plain": [
       "array([57.39654705,  6.07120951,  1.49948638,  4.09186747])"
      ]
     },
     "execution_count": 16,
     "metadata": {},
     "output_type": "execute_result"
    }
   ],
   "source": [
    "eval_model_reg2(X_st, y, iterations=2000, alpha=1e-2, lambda_=1e-4)"
   ]
  },
  {
   "cell_type": "code",
   "execution_count": null,
   "metadata": {},
   "outputs": [],
   "source": []
  }
 ],
 "metadata": {
  "kernelspec": {
   "display_name": "Python 3",
   "language": "python",
   "name": "python3"
  },
  "language_info": {
   "codemirror_mode": {
    "name": "ipython",
    "version": 3
   },
   "file_extension": ".py",
   "mimetype": "text/x-python",
   "name": "python",
   "nbconvert_exporter": "python",
   "pygments_lexer": "ipython3",
   "version": "3.8.1"
  }
 },
 "nbformat": 4,
 "nbformat_minor": 4
}
