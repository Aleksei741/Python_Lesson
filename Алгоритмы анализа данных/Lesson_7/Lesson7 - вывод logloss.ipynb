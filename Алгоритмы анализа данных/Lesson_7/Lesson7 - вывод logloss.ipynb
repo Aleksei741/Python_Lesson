{
 "cells": [
  {
   "cell_type": "code",
   "execution_count": 0,
   "metadata": {
    "colab": {},
    "colab_type": "code",
    "id": "9QNrOAEbxESg"
   },
   "outputs": [],
   "source": [
    "Распределение Бернулли: 0 1"
   ]
  },
  {
   "cell_type": "code",
   "execution_count": 0,
   "metadata": {
    "colab": {},
    "colab_type": "code",
    "id": "C6i3J4qXz-EF"
   },
   "outputs": [],
   "source": [
    "P(x=1) = p\n",
    "P(x=0) = q\n",
    "\n",
    "p = 0.02\n",
    "q = 0.98\n",
    "\n",
    "q = 1 - p"
   ]
  },
  {
   "cell_type": "code",
   "execution_count": 0,
   "metadata": {
    "colab": {},
    "colab_type": "code",
    "id": "uNLzuAYr1Qs9"
   },
   "outputs": [],
   "source": [
    "sigmoid(W.T * X)"
   ]
  },
  {
   "cell_type": "code",
   "execution_count": 0,
   "metadata": {
    "colab": {},
    "colab_type": "code",
    "id": "VKYmTwDl2P5D"
   },
   "outputs": [],
   "source": [
    "p*(1-p)"
   ]
  },
  {
   "cell_type": "code",
   "execution_count": 0,
   "metadata": {
    "colab": {},
    "colab_type": "code",
    "id": "SziIZo6B1k54"
   },
   "outputs": [],
   "source": [
    "П p**y * (1 - p)**(1-y)"
   ]
  },
  {
   "cell_type": "code",
   "execution_count": 0,
   "metadata": {
    "colab": {},
    "colab_type": "code",
    "id": "ctRZszXG2hl-"
   },
   "outputs": [],
   "source": [
    "log(П p**y * (1 - p)**(1-y)) = log(p**y * (1 - p)**(1-y)) + ... + log(p**y * (1 - p)**(1-y)) = "
   ]
  },
  {
   "cell_type": "code",
   "execution_count": 0,
   "metadata": {
    "colab": {},
    "colab_type": "code",
    "id": "hdZ2FeHo20j6"
   },
   "outputs": [],
   "source": [
    "= log(p**y) + log((1 - p)**(1-y))) + ... + log(p**y) + log((1 - p)**(1-y))) ="
   ]
  },
  {
   "cell_type": "code",
   "execution_count": 0,
   "metadata": {
    "colab": {},
    "colab_type": "code",
    "id": "gcvlUfCQ3CW6"
   },
   "outputs": [],
   "source": [
    "= Sigma(log(p**y) + log((1 - p)**(1-y)))) = "
   ]
  },
  {
   "cell_type": "code",
   "execution_count": 0,
   "metadata": {
    "colab": {},
    "colab_type": "code",
    "id": "o947B-Vm3ZZr"
   },
   "outputs": [],
   "source": [
    "= Sigma(y*log(p) + (1-y)*log((1 - p))))"
   ]
  },
  {
   "cell_type": "code",
   "execution_count": 0,
   "metadata": {
    "colab": {},
    "colab_type": "code",
    "id": "3k47JUgH3hH0"
   },
   "outputs": [],
   "source": [
    "logloss = np.mean(- y*log(p) - (1-y)*log((1 - p)))"
   ]
  }
 ],
 "metadata": {
  "colab": {
   "collapsed_sections": [],
   "name": "Untitled14.ipynb",
   "provenance": []
  },
  "kernelspec": {
   "display_name": "Python 3",
   "language": "python",
   "name": "python3"
  },
  "language_info": {
   "codemirror_mode": {
    "name": "ipython",
    "version": 3
   },
   "file_extension": ".py",
   "mimetype": "text/x-python",
   "name": "python",
   "nbconvert_exporter": "python",
   "pygments_lexer": "ipython3",
   "version": "3.7.3"
  }
 },
 "nbformat": 4,
 "nbformat_minor": 1
}
