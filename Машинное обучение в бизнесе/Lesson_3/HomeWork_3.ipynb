{
 "cells": [
  {
   "cell_type": "code",
   "execution_count": 1,
   "metadata": {},
   "outputs": [],
   "source": [
    "%matplotlib inline\n",
    "import matplotlib.pyplot as plt\n",
    "\n",
    "import numpy as np\n",
    "import pandas as pd \n",
    "import seaborn as sns\n",
    "\n",
    "\n",
    "from sklearn.metrics import mean_squared_error\n",
    "import os\n",
    "\n",
    "#импорт модулей для формирования модели\n",
    "import statsmodels.api as sm\n",
    "from statsmodels.tsa.arima_model import ARIMA\n"
   ]
  },
  {
   "cell_type": "markdown",
   "metadata": {},
   "source": [
    "1. Прочитайте базу my_PJME_MW.csv и сделайте ее перрасчет (ресемплинг) в представление по 1 месяцу.\n",
    "\n",
    "2. Подберите параметры модели SARIMAX для этого ряда.\n",
    "\n",
    "3. Сделайте вывод о том, как изменилась модель по сравнению с недельной.\n",
    "\n",
    "4. Возмите вариант 1 или 2 \n",
    "    - Вариант 1) - Постройте ACF, PACF и модель ARIMA для BRENT (недельный ресемплинг)\n",
    "    - Вариант 2) - Постройте ACF, PACF и модель ARIMA для СOVID_19  (по любой стране кроме Китая на дневных графиках )\n",
    "\n",
    "\n",
    "5. Оцените результат моделирования\n",
    "\n",
    "6. Сделайте предположение о моделях, которые лучше работают с техниками регрессии  на основе AR I MA."
   ]
  },
  {
   "cell_type": "markdown",
   "metadata": {},
   "source": [
    "1. Прочитайте базу my_PJME_MW.csv и сделайте ее перрасчет (ресемплинг) в представление по 1 месяцу."
   ]
  },
  {
   "cell_type": "code",
   "execution_count": 2,
   "metadata": {},
   "outputs": [
    {
     "data": {
      "text/html": [
       "<div>\n",
       "<style scoped>\n",
       "    .dataframe tbody tr th:only-of-type {\n",
       "        vertical-align: middle;\n",
       "    }\n",
       "\n",
       "    .dataframe tbody tr th {\n",
       "        vertical-align: top;\n",
       "    }\n",
       "\n",
       "    .dataframe thead th {\n",
       "        text-align: right;\n",
       "    }\n",
       "</style>\n",
       "<table border=\"1\" class=\"dataframe\">\n",
       "  <thead>\n",
       "    <tr style=\"text-align: right;\">\n",
       "      <th></th>\n",
       "      <th>Time</th>\n",
       "      <th>PJME_MW</th>\n",
       "      <th>year</th>\n",
       "      <th>month</th>\n",
       "      <th>dayofmonth</th>\n",
       "      <th>quarter</th>\n",
       "      <th>dayofyear</th>\n",
       "      <th>weekofyear</th>\n",
       "      <th>dayofweek</th>\n",
       "      <th>hour</th>\n",
       "      <th>is_holiday</th>\n",
       "      <th>is_prev_holiday</th>\n",
       "      <th>is_next_holiday</th>\n",
       "    </tr>\n",
       "    <tr>\n",
       "      <th>Date</th>\n",
       "      <th></th>\n",
       "      <th></th>\n",
       "      <th></th>\n",
       "      <th></th>\n",
       "      <th></th>\n",
       "      <th></th>\n",
       "      <th></th>\n",
       "      <th></th>\n",
       "      <th></th>\n",
       "      <th></th>\n",
       "      <th></th>\n",
       "      <th></th>\n",
       "      <th></th>\n",
       "    </tr>\n",
       "  </thead>\n",
       "  <tbody>\n",
       "    <tr>\n",
       "      <th>2002-01-01</th>\n",
       "      <td>01:00:00</td>\n",
       "      <td>30393.0</td>\n",
       "      <td>2002</td>\n",
       "      <td>1</td>\n",
       "      <td>1</td>\n",
       "      <td>1</td>\n",
       "      <td>1</td>\n",
       "      <td>1</td>\n",
       "      <td>1</td>\n",
       "      <td>1</td>\n",
       "      <td>1</td>\n",
       "      <td>0</td>\n",
       "      <td>0</td>\n",
       "    </tr>\n",
       "    <tr>\n",
       "      <th>2002-01-01</th>\n",
       "      <td>02:00:00</td>\n",
       "      <td>29265.0</td>\n",
       "      <td>2002</td>\n",
       "      <td>1</td>\n",
       "      <td>1</td>\n",
       "      <td>1</td>\n",
       "      <td>1</td>\n",
       "      <td>1</td>\n",
       "      <td>1</td>\n",
       "      <td>2</td>\n",
       "      <td>1</td>\n",
       "      <td>0</td>\n",
       "      <td>0</td>\n",
       "    </tr>\n",
       "    <tr>\n",
       "      <th>2002-01-01</th>\n",
       "      <td>03:00:00</td>\n",
       "      <td>28357.0</td>\n",
       "      <td>2002</td>\n",
       "      <td>1</td>\n",
       "      <td>1</td>\n",
       "      <td>1</td>\n",
       "      <td>1</td>\n",
       "      <td>1</td>\n",
       "      <td>1</td>\n",
       "      <td>3</td>\n",
       "      <td>1</td>\n",
       "      <td>0</td>\n",
       "      <td>0</td>\n",
       "    </tr>\n",
       "    <tr>\n",
       "      <th>2002-01-01</th>\n",
       "      <td>04:00:00</td>\n",
       "      <td>27899.0</td>\n",
       "      <td>2002</td>\n",
       "      <td>1</td>\n",
       "      <td>1</td>\n",
       "      <td>1</td>\n",
       "      <td>1</td>\n",
       "      <td>1</td>\n",
       "      <td>1</td>\n",
       "      <td>4</td>\n",
       "      <td>1</td>\n",
       "      <td>0</td>\n",
       "      <td>0</td>\n",
       "    </tr>\n",
       "    <tr>\n",
       "      <th>2002-01-01</th>\n",
       "      <td>05:00:00</td>\n",
       "      <td>28057.0</td>\n",
       "      <td>2002</td>\n",
       "      <td>1</td>\n",
       "      <td>1</td>\n",
       "      <td>1</td>\n",
       "      <td>1</td>\n",
       "      <td>1</td>\n",
       "      <td>1</td>\n",
       "      <td>5</td>\n",
       "      <td>1</td>\n",
       "      <td>0</td>\n",
       "      <td>0</td>\n",
       "    </tr>\n",
       "  </tbody>\n",
       "</table>\n",
       "</div>"
      ],
      "text/plain": [
       "                Time  PJME_MW  year  month  dayofmonth  quarter  dayofyear  \\\n",
       "Date                                                                         \n",
       "2002-01-01  01:00:00  30393.0  2002      1           1        1          1   \n",
       "2002-01-01  02:00:00  29265.0  2002      1           1        1          1   \n",
       "2002-01-01  03:00:00  28357.0  2002      1           1        1          1   \n",
       "2002-01-01  04:00:00  27899.0  2002      1           1        1          1   \n",
       "2002-01-01  05:00:00  28057.0  2002      1           1        1          1   \n",
       "\n",
       "            weekofyear  dayofweek  hour  is_holiday  is_prev_holiday  \\\n",
       "Date                                                                   \n",
       "2002-01-01           1          1     1           1                0   \n",
       "2002-01-01           1          1     2           1                0   \n",
       "2002-01-01           1          1     3           1                0   \n",
       "2002-01-01           1          1     4           1                0   \n",
       "2002-01-01           1          1     5           1                0   \n",
       "\n",
       "            is_next_holiday  \n",
       "Date                         \n",
       "2002-01-01                0  \n",
       "2002-01-01                0  \n",
       "2002-01-01                0  \n",
       "2002-01-01                0  \n",
       "2002-01-01                0  "
      ]
     },
     "execution_count": 2,
     "metadata": {},
     "output_type": "execute_result"
    }
   ],
   "source": [
    "data = pd.read_csv(\"my_PJME_MW.csv\", index_col=[0], parse_dates=[0])\n",
    "data.head()"
   ]
  },
  {
   "cell_type": "code",
   "execution_count": 3,
   "metadata": {},
   "outputs": [
    {
     "data": {
      "text/html": [
       "<div>\n",
       "<style scoped>\n",
       "    .dataframe tbody tr th:only-of-type {\n",
       "        vertical-align: middle;\n",
       "    }\n",
       "\n",
       "    .dataframe tbody tr th {\n",
       "        vertical-align: top;\n",
       "    }\n",
       "\n",
       "    .dataframe thead th {\n",
       "        text-align: right;\n",
       "    }\n",
       "</style>\n",
       "<table border=\"1\" class=\"dataframe\">\n",
       "  <thead>\n",
       "    <tr style=\"text-align: right;\">\n",
       "      <th></th>\n",
       "      <th>PJME_MW</th>\n",
       "      <th>year</th>\n",
       "      <th>month</th>\n",
       "      <th>quarter</th>\n",
       "    </tr>\n",
       "    <tr>\n",
       "      <th>Date</th>\n",
       "      <th></th>\n",
       "      <th></th>\n",
       "      <th></th>\n",
       "      <th></th>\n",
       "    </tr>\n",
       "  </thead>\n",
       "  <tbody>\n",
       "    <tr>\n",
       "      <th>2002-01-31</th>\n",
       "      <td>31075.399731</td>\n",
       "      <td>2002</td>\n",
       "      <td>1</td>\n",
       "      <td>1</td>\n",
       "    </tr>\n",
       "    <tr>\n",
       "      <th>2002-02-28</th>\n",
       "      <td>30239.166667</td>\n",
       "      <td>2002</td>\n",
       "      <td>2</td>\n",
       "      <td>1</td>\n",
       "    </tr>\n",
       "    <tr>\n",
       "      <th>2002-03-31</th>\n",
       "      <td>28875.256720</td>\n",
       "      <td>2002</td>\n",
       "      <td>3</td>\n",
       "      <td>1</td>\n",
       "    </tr>\n",
       "    <tr>\n",
       "      <th>2002-04-30</th>\n",
       "      <td>28534.731572</td>\n",
       "      <td>2002</td>\n",
       "      <td>4</td>\n",
       "      <td>2</td>\n",
       "    </tr>\n",
       "    <tr>\n",
       "      <th>2002-05-31</th>\n",
       "      <td>28073.653226</td>\n",
       "      <td>2002</td>\n",
       "      <td>5</td>\n",
       "      <td>2</td>\n",
       "    </tr>\n",
       "  </tbody>\n",
       "</table>\n",
       "</div>"
      ],
      "text/plain": [
       "                 PJME_MW  year  month  quarter\n",
       "Date                                          \n",
       "2002-01-31  31075.399731  2002      1        1\n",
       "2002-02-28  30239.166667  2002      2        1\n",
       "2002-03-31  28875.256720  2002      3        1\n",
       "2002-04-30  28534.731572  2002      4        2\n",
       "2002-05-31  28073.653226  2002      5        2"
      ]
     },
     "execution_count": 3,
     "metadata": {},
     "output_type": "execute_result"
    }
   ],
   "source": [
    "data_m = data[[\"PJME_MW\", \"year\", \"month\", \"quarter\"]].resample(\"M\").mean().sort_index()\n",
    "data_m.head(5)"
   ]
  },
  {
   "cell_type": "code",
   "execution_count": 4,
   "metadata": {},
   "outputs": [
    {
     "data": {
      "text/plain": [
       "(200,)"
      ]
     },
     "execution_count": 4,
     "metadata": {},
     "output_type": "execute_result"
    }
   ],
   "source": [
    "data_m['PJME_MW'].shape"
   ]
  },
  {
   "cell_type": "markdown",
   "metadata": {},
   "source": [
    "2. Подберите параметры модели SARIMAX для этого ряда."
   ]
  },
  {
   "cell_type": "code",
   "execution_count": 5,
   "metadata": {},
   "outputs": [
    {
     "data": {
      "image/png": "[encoded data removed]",
      "text/plain": [
       "<Figure size 432x288 with 1 Axes>"
      ]
     },
     "metadata": {
      "needs_background": "light"
     },
     "output_type": "display_data"
    },
    {
     "data": {
      "image/png": "[encoded data removed]",
      "text/plain": [
       "<Figure size 432x288 with 1 Axes>"
      ]
     },
     "metadata": {
      "needs_background": "light"
     },
     "output_type": "display_data"
    }
   ],
   "source": [
    "#plt.figure(figsize=(20,8))\n",
    "#plt.subplot(2,1,1)\n",
    "sm.graphics.tsa.plot_acf(data_m['PJME_MW'].values, lags=12)\n",
    "plt.show()\n",
    "\n",
    "#plt.subplot(2,1,2)\n",
    "sm.graphics.tsa.plot_pacf(data_m['PJME_MW'].values, lags=12)\n",
    "plt.show()"
   ]
  },
  {
   "cell_type": "code",
   "execution_count": 6,
   "metadata": {},
   "outputs": [
    {
     "data": {
      "image/png": "[encoded data removed]",
      "text/plain": [
       "<Figure size 432x288 with 1 Axes>"
      ]
     },
     "metadata": {
      "needs_background": "light"
     },
     "output_type": "display_data"
    },
    {
     "data": {
      "image/png": "[encoded data removed]",
      "text/plain": [
       "<Figure size 432x288 with 1 Axes>"
      ]
     },
     "metadata": {
      "needs_background": "light"
     },
     "output_type": "display_data"
    }
   ],
   "source": [
    "sm.graphics.tsa.plot_acf(data_m['PJME_MW'].values, lags=24)\n",
    "plt.show()\n",
    "\n",
    "sm.graphics.tsa.plot_pacf(data_m['PJME_MW'].values, lags=24)\n",
    "plt.show()"
   ]
  },
  {
   "cell_type": "code",
   "execution_count": 7,
   "metadata": {},
   "outputs": [
    {
     "name": "stdout",
     "output_type": "stream",
     "text": [
      "Examples of parameter combinations for Seasonal ARIMA...\n",
      "SARIMAX: (0, 0, 1) x (1, 0, 1, 12)\n",
      "SARIMAX: (0, 0, 1) x (1, 0, 0, 12)\n",
      "SARIMAX: (0, 0, 2) x (1, 0, 0, 12)\n",
      "SARIMAX: (0, 0, 2) x (1, 0, 1, 12)\n"
     ]
    }
   ],
   "source": [
    "import itertools\n",
    "\n",
    "# Определим p, d и q в диапазоне 0-3\n",
    "p = d = q = range(0, 3)\n",
    "# зададим сетку p, q и q\n",
    "pdq = list(itertools.product(p, d, q))\n",
    "# зададим сезонность p, q и q\n",
    "\n",
    "ps = [1] \n",
    "ds = [0,1]\n",
    "qs = range(0, 3)\n",
    "seasonal_pdq = [(x[0], x[1], x[2], 12) for x in list(itertools.product(ps, ds, qs))]\n",
    "print('Examples of parameter combinations for Seasonal ARIMA...')\n",
    "print('SARIMAX: {} x {}'.format(pdq[1], seasonal_pdq[1]))\n",
    "print('SARIMAX: {} x {}'.format(pdq[1], seasonal_pdq[0]))\n",
    "print('SARIMAX: {} x {}'.format(pdq[2], seasonal_pdq[0]))\n",
    "print('SARIMAX: {} x {}'.format(pdq[2], seasonal_pdq[1]))"
   ]
  },
  {
   "cell_type": "code",
   "execution_count": 8,
   "metadata": {},
   "outputs": [
    {
     "name": "stdout",
     "output_type": "stream",
     "text": [
      "ARIMA(0, 0, 0)x(1, 0, 0, 12)3 - AIC:3395.4729852030323\n",
      "ARIMA(0, 0, 0)x(1, 0, 1, 12)3 - AIC:3374.748426772136\n",
      "ARIMA(0, 0, 0)x(1, 0, 2, 12)3 - AIC:3120.5216495293516\n",
      "ARIMA(0, 0, 0)x(1, 1, 0, 12)3 - AIC:3150.4921894031295\n",
      "ARIMA(0, 0, 0)x(1, 1, 1, 12)3 - AIC:3133.2572647453185\n",
      "ARIMA(0, 0, 0)x(1, 1, 2, 12)3 - AIC:2898.867195399489\n",
      "ARIMA(0, 0, 1)x(1, 0, 0, 12)3 - AIC:4252.256233105178\n"
     ]
    },
    {
     "name": "stderr",
     "output_type": "stream",
     "text": [
      "c:\\users\\a.kraev\\appdata\\local\\programs\\python\\python37-32\\lib\\site-packages\\statsmodels\\base\\model.py:568: ConvergenceWarning: Maximum Likelihood optimization failed to converge. Check mle_retvals\n",
      "  \"Check mle_retvals\", ConvergenceWarning)\n"
     ]
    },
    {
     "name": "stdout",
     "output_type": "stream",
     "text": [
      "ARIMA(0, 0, 1)x(1, 0, 1, 12)3 - AIC:3325.720874949164\n"
     ]
    },
    {
     "name": "stderr",
     "output_type": "stream",
     "text": [
      "c:\\users\\a.kraev\\appdata\\local\\programs\\python\\python37-32\\lib\\site-packages\\statsmodels\\base\\model.py:568: ConvergenceWarning: Maximum Likelihood optimization failed to converge. Check mle_retvals\n",
      "  \"Check mle_retvals\", ConvergenceWarning)\n"
     ]
    },
    {
     "name": "stdout",
     "output_type": "stream",
     "text": [
      "ARIMA(0, 0, 1)x(1, 0, 2, 12)3 - AIC:3430.2352063791413\n",
      "ARIMA(0, 0, 1)x(1, 1, 0, 12)3 - AIC:3126.359976846858\n",
      "ARIMA(0, 0, 1)x(1, 1, 1, 12)3 - AIC:3092.841079599963\n",
      "ARIMA(0, 0, 1)x(1, 1, 2, 12)3 - AIC:2869.960486061297\n"
     ]
    },
    {
     "name": "stderr",
     "output_type": "stream",
     "text": [
      "c:\\users\\a.kraev\\appdata\\local\\programs\\python\\python37-32\\lib\\site-packages\\statsmodels\\base\\model.py:568: ConvergenceWarning: Maximum Likelihood optimization failed to converge. Check mle_retvals\n",
      "  \"Check mle_retvals\", ConvergenceWarning)\n"
     ]
    },
    {
     "name": "stdout",
     "output_type": "stream",
     "text": [
      "ARIMA(0, 0, 2)x(1, 0, 0, 12)3 - AIC:3387.99961797978\n",
      "ARIMA(0, 0, 2)x(1, 0, 1, 12)3 - AIC:4192.011994046619\n",
      "ARIMA(0, 0, 2)x(1, 0, 2, 12)3 - AIC:3922.664277858389\n",
      "ARIMA(0, 0, 2)x(1, 1, 0, 12)3 - AIC:3128.833410736437\n",
      "ARIMA(0, 0, 2)x(1, 1, 1, 12)3 - AIC:3078.127471455029\n",
      "ARIMA(0, 0, 2)x(1, 1, 2, 12)3 - AIC:2844.0510009801073\n",
      "ARIMA(0, 1, 0)x(1, 0, 0, 12)3 - AIC:3400.8181137173547\n",
      "ARIMA(0, 1, 0)x(1, 0, 1, 12)3 - AIC:3348.940189327792\n",
      "ARIMA(0, 1, 0)x(1, 0, 2, 12)3 - AIC:3125.767029720866\n",
      "ARIMA(0, 1, 0)x(1, 1, 0, 12)3 - AIC:3167.3838452348764\n",
      "ARIMA(0, 1, 0)x(1, 1, 1, 12)3 - AIC:3133.468884020476\n",
      "ARIMA(0, 1, 0)x(1, 1, 2, 12)3 - AIC:2903.564063424823\n",
      "ARIMA(0, 1, 1)x(1, 0, 0, 12)3 - AIC:3383.3790806440156\n",
      "ARIMA(0, 1, 1)x(1, 0, 1, 12)3 - AIC:3297.5573450515367\n",
      "ARIMA(0, 1, 1)x(1, 0, 2, 12)3 - AIC:3068.8488254273257\n",
      "ARIMA(0, 1, 1)x(1, 1, 0, 12)3 - AIC:3144.3148107104394\n",
      "ARIMA(0, 1, 1)x(1, 1, 1, 12)3 - AIC:3072.4819388121678\n",
      "ARIMA(0, 1, 1)x(1, 1, 2, 12)3 - AIC:2848.5139073074474\n",
      "ARIMA(0, 1, 2)x(1, 0, 0, 12)3 - AIC:3376.1937736019545\n",
      "ARIMA(0, 1, 2)x(1, 0, 1, 12)3 - AIC:3255.5923815477254\n",
      "ARIMA(0, 1, 2)x(1, 0, 2, 12)3 - AIC:3037.3702252185126\n",
      "ARIMA(0, 1, 2)x(1, 1, 0, 12)3 - AIC:3132.152549892231\n",
      "ARIMA(0, 1, 2)x(1, 1, 1, 12)3 - AIC:3042.0264045802455\n",
      "ARIMA(0, 1, 2)x(1, 1, 2, 12)3 - AIC:2818.395758422374\n",
      "ARIMA(0, 2, 0)x(1, 0, 0, 12)3 - AIC:3536.77560389884\n",
      "ARIMA(0, 2, 0)x(1, 0, 1, 12)3 - AIC:3490.9411944318363\n",
      "ARIMA(0, 2, 0)x(1, 0, 2, 12)3 - AIC:3266.7063176450065\n",
      "ARIMA(0, 2, 0)x(1, 1, 0, 12)3 - AIC:3313.629026648717\n",
      "ARIMA(0, 2, 0)x(1, 1, 1, 12)3 - AIC:3273.7296006691267\n",
      "ARIMA(0, 2, 0)x(1, 1, 2, 12)3 - AIC:3042.23811846458\n",
      "ARIMA(0, 2, 1)x(1, 0, 0, 12)3 - AIC:3497.583206254869\n",
      "ARIMA(0, 2, 1)x(1, 0, 1, 12)3 - AIC:3352.3802353034826\n",
      "ARIMA(0, 2, 1)x(1, 0, 2, 12)3 - AIC:3096.517941112992\n",
      "ARIMA(0, 2, 1)x(1, 1, 0, 12)3 - AIC:3174.059861975578\n",
      "ARIMA(0, 2, 1)x(1, 1, 1, 12)3 - AIC:3134.3850145340866\n",
      "ARIMA(0, 2, 1)x(1, 1, 2, 12)3 - AIC:2902.3395285517627\n",
      "ARIMA(0, 2, 2)x(1, 0, 0, 12)3 - AIC:3446.0853374252747\n",
      "ARIMA(0, 2, 2)x(1, 0, 1, 12)3 - AIC:3371.2191857276175\n"
     ]
    },
    {
     "name": "stderr",
     "output_type": "stream",
     "text": [
      "c:\\users\\a.kraev\\appdata\\local\\programs\\python\\python37-32\\lib\\site-packages\\statsmodels\\base\\model.py:568: ConvergenceWarning: Maximum Likelihood optimization failed to converge. Check mle_retvals\n",
      "  \"Check mle_retvals\", ConvergenceWarning)\n"
     ]
    },
    {
     "name": "stdout",
     "output_type": "stream",
     "text": [
      "ARIMA(0, 2, 2)x(1, 0, 2, 12)3 - AIC:3099.3407520023557\n",
      "ARIMA(0, 2, 2)x(1, 1, 0, 12)3 - AIC:3167.786830182322\n",
      "ARIMA(0, 2, 2)x(1, 1, 1, 12)3 - AIC:3088.918301651396\n"
     ]
    },
    {
     "name": "stderr",
     "output_type": "stream",
     "text": [
      "c:\\users\\a.kraev\\appdata\\local\\programs\\python\\python37-32\\lib\\site-packages\\statsmodels\\base\\model.py:568: ConvergenceWarning: Maximum Likelihood optimization failed to converge. Check mle_retvals\n",
      "  \"Check mle_retvals\", ConvergenceWarning)\n"
     ]
    },
    {
     "name": "stdout",
     "output_type": "stream",
     "text": [
      "ARIMA(0, 2, 2)x(1, 1, 2, 12)3 - AIC:2832.0385686807613\n",
      "ARIMA(1, 0, 0)x(1, 0, 0, 12)3 - AIC:3451.4602983710683\n",
      "ARIMA(1, 0, 0)x(1, 0, 1, 12)3 - AIC:3343.7017955488664\n",
      "ARIMA(1, 0, 0)x(1, 0, 2, 12)3 - AIC:3093.0172055953026\n",
      "ARIMA(1, 0, 0)x(1, 1, 0, 12)3 - AIC:3105.6696272757813\n",
      "ARIMA(1, 0, 0)x(1, 1, 1, 12)3 - AIC:3108.9483173160083\n",
      "ARIMA(1, 0, 0)x(1, 1, 2, 12)3 - AIC:2869.017658398462\n"
     ]
    },
    {
     "name": "stderr",
     "output_type": "stream",
     "text": [
      "c:\\users\\a.kraev\\appdata\\local\\programs\\python\\python37-32\\lib\\site-packages\\statsmodels\\base\\model.py:568: ConvergenceWarning: Maximum Likelihood optimization failed to converge. Check mle_retvals\n",
      "  \"Check mle_retvals\", ConvergenceWarning)\n"
     ]
    },
    {
     "name": "stdout",
     "output_type": "stream",
     "text": [
      "ARIMA(1, 0, 1)x(1, 0, 0, 12)3 - AIC:3353.072528614626\n",
      "ARIMA(1, 0, 1)x(1, 0, 1, 12)3 - AIC:3398.2901701706533\n"
     ]
    },
    {
     "name": "stderr",
     "output_type": "stream",
     "text": [
      "c:\\users\\a.kraev\\appdata\\local\\programs\\python\\python37-32\\lib\\site-packages\\statsmodels\\base\\model.py:568: ConvergenceWarning: Maximum Likelihood optimization failed to converge. Check mle_retvals\n",
      "  \"Check mle_retvals\", ConvergenceWarning)\n"
     ]
    },
    {
     "name": "stdout",
     "output_type": "stream",
     "text": [
      "ARIMA(1, 0, 1)x(1, 0, 2, 12)3 - AIC:3081.432831338642\n",
      "ARIMA(1, 0, 1)x(1, 1, 0, 12)3 - AIC:3110.4970867049815\n"
     ]
    },
    {
     "name": "stderr",
     "output_type": "stream",
     "text": [
      "c:\\users\\a.kraev\\appdata\\local\\programs\\python\\python37-32\\lib\\site-packages\\statsmodels\\base\\model.py:568: ConvergenceWarning: Maximum Likelihood optimization failed to converge. Check mle_retvals\n",
      "  \"Check mle_retvals\", ConvergenceWarning)\n"
     ]
    },
    {
     "name": "stdout",
     "output_type": "stream",
     "text": [
      "ARIMA(1, 0, 1)x(1, 1, 1, 12)3 - AIC:3090.8671939517835\n",
      "ARIMA(1, 0, 1)x(1, 1, 2, 12)3 - AIC:2866.9243387791967\n",
      "ARIMA(1, 0, 2)x(1, 0, 0, 12)3 - AIC:3441.0629947217803\n",
      "ARIMA(1, 0, 2)x(1, 0, 1, 12)3 - AIC:3399.3738434303095\n"
     ]
    },
    {
     "name": "stderr",
     "output_type": "stream",
     "text": [
      "c:\\users\\a.kraev\\appdata\\local\\programs\\python\\python37-32\\lib\\site-packages\\statsmodels\\base\\model.py:568: ConvergenceWarning: Maximum Likelihood optimization failed to converge. Check mle_retvals\n",
      "  \"Check mle_retvals\", ConvergenceWarning)\n"
     ]
    },
    {
     "name": "stdout",
     "output_type": "stream",
     "text": [
      "ARIMA(1, 0, 2)x(1, 0, 2, 12)3 - AIC:3076.1660446315045\n",
      "ARIMA(1, 0, 2)x(1, 1, 0, 12)3 - AIC:3107.762648491289\n",
      "ARIMA(1, 0, 2)x(1, 1, 1, 12)3 - AIC:3063.696367673683\n"
     ]
    },
    {
     "name": "stderr",
     "output_type": "stream",
     "text": [
      "c:\\users\\a.kraev\\appdata\\local\\programs\\python\\python37-32\\lib\\site-packages\\statsmodels\\base\\model.py:568: ConvergenceWarning: Maximum Likelihood optimization failed to converge. Check mle_retvals\n",
      "  \"Check mle_retvals\", ConvergenceWarning)\n"
     ]
    },
    {
     "name": "stdout",
     "output_type": "stream",
     "text": [
      "ARIMA(1, 0, 2)x(1, 1, 2, 12)3 - AIC:2837.4726504365844\n",
      "ARIMA(1, 1, 0)x(1, 0, 0, 12)3 - AIC:3374.5175644426495\n",
      "ARIMA(1, 1, 0)x(1, 0, 1, 12)3 - AIC:3337.5576736178846\n",
      "ARIMA(1, 1, 0)x(1, 0, 2, 12)3 - AIC:3110.008554422263\n",
      "ARIMA(1, 1, 0)x(1, 1, 0, 12)3 - AIC:3139.003056983158\n",
      "ARIMA(1, 1, 0)x(1, 1, 1, 12)3 - AIC:3118.9521931060654\n",
      "ARIMA(1, 1, 0)x(1, 1, 2, 12)3 - AIC:2882.518154144377\n",
      "ARIMA(1, 1, 1)x(1, 0, 0, 12)3 - AIC:3332.0061085493076\n"
     ]
    },
    {
     "name": "stderr",
     "output_type": "stream",
     "text": [
      "c:\\users\\a.kraev\\appdata\\local\\programs\\python\\python37-32\\lib\\site-packages\\statsmodels\\base\\model.py:568: ConvergenceWarning: Maximum Likelihood optimization failed to converge. Check mle_retvals\n",
      "  \"Check mle_retvals\", ConvergenceWarning)\n"
     ]
    },
    {
     "name": "stdout",
     "output_type": "stream",
     "text": [
      "ARIMA(1, 1, 1)x(1, 0, 1, 12)3 - AIC:3270.0727149205045\n"
     ]
    },
    {
     "name": "stderr",
     "output_type": "stream",
     "text": [
      "c:\\users\\a.kraev\\appdata\\local\\programs\\python\\python37-32\\lib\\site-packages\\statsmodels\\base\\model.py:568: ConvergenceWarning: Maximum Likelihood optimization failed to converge. Check mle_retvals\n",
      "  \"Check mle_retvals\", ConvergenceWarning)\n"
     ]
    },
    {
     "name": "stdout",
     "output_type": "stream",
     "text": [
      "ARIMA(1, 1, 1)x(1, 0, 2, 12)3 - AIC:3054.9465845656764\n",
      "ARIMA(1, 1, 1)x(1, 1, 0, 12)3 - AIC:3114.311540789776\n",
      "ARIMA(1, 1, 1)x(1, 1, 1, 12)3 - AIC:3059.0337205250107\n"
     ]
    },
    {
     "name": "stderr",
     "output_type": "stream",
     "text": [
      "c:\\users\\a.kraev\\appdata\\local\\programs\\python\\python37-32\\lib\\site-packages\\statsmodels\\base\\model.py:568: ConvergenceWarning: Maximum Likelihood optimization failed to converge. Check mle_retvals\n",
      "  \"Check mle_retvals\", ConvergenceWarning)\n"
     ]
    },
    {
     "name": "stdout",
     "output_type": "stream",
     "text": [
      "ARIMA(1, 1, 1)x(1, 1, 2, 12)3 - AIC:2834.183271936225\n",
      "ARIMA(1, 1, 2)x(1, 0, 0, 12)3 - AIC:3397.990252197833\n"
     ]
    },
    {
     "name": "stderr",
     "output_type": "stream",
     "text": [
      "c:\\users\\a.kraev\\appdata\\local\\programs\\python\\python37-32\\lib\\site-packages\\statsmodels\\base\\model.py:568: ConvergenceWarning: Maximum Likelihood optimization failed to converge. Check mle_retvals\n",
      "  \"Check mle_retvals\", ConvergenceWarning)\n"
     ]
    },
    {
     "name": "stdout",
     "output_type": "stream",
     "text": [
      "ARIMA(1, 1, 2)x(1, 0, 1, 12)3 - AIC:3252.699195824596\n"
     ]
    },
    {
     "name": "stderr",
     "output_type": "stream",
     "text": [
      "c:\\users\\a.kraev\\appdata\\local\\programs\\python\\python37-32\\lib\\site-packages\\statsmodels\\base\\model.py:568: ConvergenceWarning: Maximum Likelihood optimization failed to converge. Check mle_retvals\n",
      "  \"Check mle_retvals\", ConvergenceWarning)\n"
     ]
    },
    {
     "name": "stdout",
     "output_type": "stream",
     "text": [
      "ARIMA(1, 1, 2)x(1, 0, 2, 12)3 - AIC:3058.391838816583\n",
      "ARIMA(1, 1, 2)x(1, 1, 0, 12)3 - AIC:3114.2730572579276\n",
      "ARIMA(1, 1, 2)x(1, 1, 1, 12)3 - AIC:3061.328427419833\n"
     ]
    },
    {
     "name": "stderr",
     "output_type": "stream",
     "text": [
      "c:\\users\\a.kraev\\appdata\\local\\programs\\python\\python37-32\\lib\\site-packages\\statsmodels\\base\\model.py:568: ConvergenceWarning: Maximum Likelihood optimization failed to converge. Check mle_retvals\n",
      "  \"Check mle_retvals\", ConvergenceWarning)\n"
     ]
    },
    {
     "name": "stdout",
     "output_type": "stream",
     "text": [
      "ARIMA(1, 1, 2)x(1, 1, 2, 12)3 - AIC:2821.136364137119\n",
      "ARIMA(1, 2, 0)x(1, 0, 0, 12)3 - AIC:3480.6581137081675\n",
      "ARIMA(1, 2, 0)x(1, 0, 1, 12)3 - AIC:3497.294081763127\n",
      "ARIMA(1, 2, 0)x(1, 0, 2, 12)3 - AIC:3213.474706348644\n",
      "ARIMA(1, 2, 0)x(1, 1, 0, 12)3 - AIC:3246.5676925639173\n",
      "ARIMA(1, 2, 0)x(1, 1, 1, 12)3 - AIC:3218.3367599917055\n",
      "ARIMA(1, 2, 0)x(1, 1, 2, 12)3 - AIC:3002.384195344406\n",
      "ARIMA(1, 2, 1)x(1, 0, 0, 12)3 - AIC:3389.950441816186\n",
      "ARIMA(1, 2, 1)x(1, 0, 1, 12)3 - AIC:3349.0318658058395\n",
      "ARIMA(1, 2, 1)x(1, 0, 2, 12)3 - AIC:3083.91300687123\n",
      "ARIMA(1, 2, 1)x(1, 1, 0, 12)3 - AIC:3155.736323227052\n",
      "ARIMA(1, 2, 1)x(1, 1, 1, 12)3 - AIC:3104.2563658273675\n",
      "ARIMA(1, 2, 1)x(1, 1, 2, 12)3 - AIC:2867.736398648741\n",
      "ARIMA(1, 2, 2)x(1, 0, 0, 12)3 - AIC:3375.5739394573066\n",
      "ARIMA(1, 2, 2)x(1, 0, 1, 12)3 - AIC:3328.4044994511514\n",
      "ARIMA(1, 2, 2)x(1, 0, 2, 12)3 - AIC:3103.5636489746453\n"
     ]
    },
    {
     "name": "stderr",
     "output_type": "stream",
     "text": [
      "c:\\users\\a.kraev\\appdata\\local\\programs\\python\\python37-32\\lib\\site-packages\\statsmodels\\base\\model.py:568: ConvergenceWarning: Maximum Likelihood optimization failed to converge. Check mle_retvals\n",
      "  \"Check mle_retvals\", ConvergenceWarning)\n"
     ]
    },
    {
     "name": "stdout",
     "output_type": "stream",
     "text": [
      "ARIMA(1, 2, 2)x(1, 1, 0, 12)3 - AIC:3123.7664769360035\n",
      "ARIMA(1, 2, 2)x(1, 1, 1, 12)3 - AIC:3081.027427915883\n"
     ]
    },
    {
     "name": "stderr",
     "output_type": "stream",
     "text": [
      "c:\\users\\a.kraev\\appdata\\local\\programs\\python\\python37-32\\lib\\site-packages\\statsmodels\\base\\model.py:568: ConvergenceWarning: Maximum Likelihood optimization failed to converge. Check mle_retvals\n",
      "  \"Check mle_retvals\", ConvergenceWarning)\n"
     ]
    },
    {
     "name": "stdout",
     "output_type": "stream",
     "text": [
      "ARIMA(1, 2, 2)x(1, 1, 2, 12)3 - AIC:2868.9491330800765\n",
      "ARIMA(2, 0, 0)x(1, 0, 0, 12)3 - AIC:3420.1089573291392\n",
      "ARIMA(2, 0, 0)x(1, 0, 1, 12)3 - AIC:3419.0266133154805\n"
     ]
    },
    {
     "name": "stderr",
     "output_type": "stream",
     "text": [
      "c:\\users\\a.kraev\\appdata\\local\\programs\\python\\python37-32\\lib\\site-packages\\statsmodels\\base\\model.py:568: ConvergenceWarning: Maximum Likelihood optimization failed to converge. Check mle_retvals\n",
      "  \"Check mle_retvals\", ConvergenceWarning)\n"
     ]
    },
    {
     "name": "stdout",
     "output_type": "stream",
     "text": [
      "ARIMA(2, 0, 0)x(1, 0, 2, 12)3 - AIC:3095.2661886262845\n",
      "ARIMA(2, 0, 0)x(1, 1, 0, 12)3 - AIC:3090.9404704355106\n",
      "ARIMA(2, 0, 0)x(1, 1, 1, 12)3 - AIC:3093.792199290905\n",
      "ARIMA(2, 0, 0)x(1, 1, 2, 12)3 - AIC:2870.882228461345\n"
     ]
    },
    {
     "name": "stderr",
     "output_type": "stream",
     "text": [
      "c:\\users\\a.kraev\\appdata\\local\\programs\\python\\python37-32\\lib\\site-packages\\statsmodels\\base\\model.py:568: ConvergenceWarning: Maximum Likelihood optimization failed to converge. Check mle_retvals\n",
      "  \"Check mle_retvals\", ConvergenceWarning)\n"
     ]
    },
    {
     "name": "stdout",
     "output_type": "stream",
     "text": [
      "ARIMA(2, 0, 1)x(1, 0, 0, 12)3 - AIC:3362.8514709998594\n",
      "ARIMA(2, 0, 1)x(1, 0, 1, 12)3 - AIC:3367.947898808236\n"
     ]
    },
    {
     "name": "stderr",
     "output_type": "stream",
     "text": [
      "c:\\users\\a.kraev\\appdata\\local\\programs\\python\\python37-32\\lib\\site-packages\\statsmodels\\base\\model.py:568: ConvergenceWarning: Maximum Likelihood optimization failed to converge. Check mle_retvals\n",
      "  \"Check mle_retvals\", ConvergenceWarning)\n"
     ]
    },
    {
     "name": "stdout",
     "output_type": "stream",
     "text": [
      "ARIMA(2, 0, 1)x(1, 0, 2, 12)3 - AIC:3144.0947990047152\n",
      "ARIMA(2, 0, 1)x(1, 1, 0, 12)3 - AIC:3093.405783923371\n",
      "ARIMA(2, 0, 1)x(1, 1, 1, 12)3 - AIC:3094.121140329107\n"
     ]
    },
    {
     "name": "stderr",
     "output_type": "stream",
     "text": [
      "c:\\users\\a.kraev\\appdata\\local\\programs\\python\\python37-32\\lib\\site-packages\\statsmodels\\base\\model.py:568: ConvergenceWarning: Maximum Likelihood optimization failed to converge. Check mle_retvals\n",
      "  \"Check mle_retvals\", ConvergenceWarning)\n"
     ]
    },
    {
     "name": "stdout",
     "output_type": "stream",
     "text": [
      "ARIMA(2, 0, 1)x(1, 1, 2, 12)3 - AIC:2866.803823107857\n",
      "ARIMA(2, 0, 2)x(1, 0, 0, 12)3 - AIC:3389.0220985197957\n"
     ]
    },
    {
     "name": "stderr",
     "output_type": "stream",
     "text": [
      "c:\\users\\a.kraev\\appdata\\local\\programs\\python\\python37-32\\lib\\site-packages\\statsmodels\\base\\model.py:568: ConvergenceWarning: Maximum Likelihood optimization failed to converge. Check mle_retvals\n",
      "  \"Check mle_retvals\", ConvergenceWarning)\n"
     ]
    },
    {
     "name": "stdout",
     "output_type": "stream",
     "text": [
      "ARIMA(2, 0, 2)x(1, 0, 1, 12)3 - AIC:3366.2445707347997\n"
     ]
    },
    {
     "name": "stderr",
     "output_type": "stream",
     "text": [
      "c:\\users\\a.kraev\\appdata\\local\\programs\\python\\python37-32\\lib\\site-packages\\statsmodels\\base\\model.py:568: ConvergenceWarning: Maximum Likelihood optimization failed to converge. Check mle_retvals\n",
      "  \"Check mle_retvals\", ConvergenceWarning)\n"
     ]
    },
    {
     "name": "stdout",
     "output_type": "stream",
     "text": [
      "ARIMA(2, 0, 2)x(1, 0, 2, 12)3 - AIC:3142.875495411812\n",
      "ARIMA(2, 0, 2)x(1, 1, 0, 12)3 - AIC:3091.6161633367656\n",
      "ARIMA(2, 0, 2)x(1, 1, 1, 12)3 - AIC:3072.1583068437767\n"
     ]
    },
    {
     "name": "stderr",
     "output_type": "stream",
     "text": [
      "c:\\users\\a.kraev\\appdata\\local\\programs\\python\\python37-32\\lib\\site-packages\\statsmodels\\base\\model.py:568: ConvergenceWarning: Maximum Likelihood optimization failed to converge. Check mle_retvals\n",
      "  \"Check mle_retvals\", ConvergenceWarning)\n"
     ]
    },
    {
     "name": "stdout",
     "output_type": "stream",
     "text": [
      "ARIMA(2, 0, 2)x(1, 1, 2, 12)3 - AIC:2839.6033476544762\n",
      "ARIMA(2, 1, 0)x(1, 0, 0, 12)3 - AIC:3332.8011559634947\n",
      "ARIMA(2, 1, 0)x(1, 0, 1, 12)3 - AIC:3296.17125645304\n",
      "ARIMA(2, 1, 0)x(1, 0, 2, 12)3 - AIC:3091.939630274378\n",
      "ARIMA(2, 1, 0)x(1, 1, 0, 12)3 - AIC:3098.523227310534\n",
      "ARIMA(2, 1, 0)x(1, 1, 1, 12)3 - AIC:3079.981265133866\n",
      "ARIMA(2, 1, 0)x(1, 1, 2, 12)3 - AIC:2867.9269209812173\n",
      "ARIMA(2, 1, 1)x(1, 0, 0, 12)3 - AIC:3325.491532586523\n",
      "ARIMA(2, 1, 1)x(1, 0, 1, 12)3 - AIC:3305.0162376544413\n",
      "ARIMA(2, 1, 1)x(1, 0, 2, 12)3 - AIC:3056.6684641195593\n",
      "ARIMA(2, 1, 1)x(1, 1, 0, 12)3 - AIC:3099.904520449715\n",
      "ARIMA(2, 1, 1)x(1, 1, 1, 12)3 - AIC:3075.7839591170127\n"
     ]
    },
    {
     "name": "stderr",
     "output_type": "stream",
     "text": [
      "c:\\users\\a.kraev\\appdata\\local\\programs\\python\\python37-32\\lib\\site-packages\\statsmodels\\base\\model.py:568: ConvergenceWarning: Maximum Likelihood optimization failed to converge. Check mle_retvals\n",
      "  \"Check mle_retvals\", ConvergenceWarning)\n"
     ]
    },
    {
     "name": "stdout",
     "output_type": "stream",
     "text": [
      "ARIMA(2, 1, 1)x(1, 1, 2, 12)3 - AIC:2836.096115514986\n",
      "ARIMA(2, 1, 2)x(1, 0, 0, 12)3 - AIC:3313.6463985748883\n",
      "ARIMA(2, 1, 2)x(1, 0, 1, 12)3 - AIC:3254.157277584965\n"
     ]
    },
    {
     "name": "stderr",
     "output_type": "stream",
     "text": [
      "c:\\users\\a.kraev\\appdata\\local\\programs\\python\\python37-32\\lib\\site-packages\\statsmodels\\base\\model.py:568: ConvergenceWarning: Maximum Likelihood optimization failed to converge. Check mle_retvals\n",
      "  \"Check mle_retvals\", ConvergenceWarning)\n"
     ]
    },
    {
     "name": "stdout",
     "output_type": "stream",
     "text": [
      "ARIMA(2, 1, 2)x(1, 0, 2, 12)3 - AIC:3052.8926293269924\n",
      "ARIMA(2, 1, 2)x(1, 1, 0, 12)3 - AIC:3100.1892139286547\n"
     ]
    },
    {
     "name": "stderr",
     "output_type": "stream",
     "text": [
      "c:\\users\\a.kraev\\appdata\\local\\programs\\python\\python37-32\\lib\\site-packages\\statsmodels\\base\\model.py:568: ConvergenceWarning: Maximum Likelihood optimization failed to converge. Check mle_retvals\n",
      "  \"Check mle_retvals\", ConvergenceWarning)\n"
     ]
    },
    {
     "name": "stdout",
     "output_type": "stream",
     "text": [
      "ARIMA(2, 1, 2)x(1, 1, 1, 12)3 - AIC:3060.174126076311\n"
     ]
    },
    {
     "name": "stderr",
     "output_type": "stream",
     "text": [
      "c:\\users\\a.kraev\\appdata\\local\\programs\\python\\python37-32\\lib\\site-packages\\statsmodels\\base\\model.py:568: ConvergenceWarning: Maximum Likelihood optimization failed to converge. Check mle_retvals\n",
      "  \"Check mle_retvals\", ConvergenceWarning)\n"
     ]
    },
    {
     "name": "stdout",
     "output_type": "stream",
     "text": [
      "ARIMA(2, 1, 2)x(1, 1, 2, 12)3 - AIC:2830.299280396593\n",
      "ARIMA(2, 2, 0)x(1, 0, 0, 12)3 - AIC:3407.991314108571\n",
      "ARIMA(2, 2, 0)x(1, 0, 1, 12)3 - AIC:3370.429353380593\n",
      "ARIMA(2, 2, 0)x(1, 0, 2, 12)3 - AIC:3163.348977387086\n",
      "ARIMA(2, 2, 0)x(1, 1, 0, 12)3 - AIC:3167.2641019107728\n",
      "ARIMA(2, 2, 0)x(1, 1, 1, 12)3 - AIC:3146.869632099135\n",
      "ARIMA(2, 2, 0)x(1, 1, 2, 12)3 - AIC:2936.30570983929\n",
      "ARIMA(2, 2, 1)x(1, 0, 0, 12)3 - AIC:3354.7537948036925\n",
      "ARIMA(2, 2, 1)x(1, 0, 1, 12)3 - AIC:3391.760204062184\n"
     ]
    },
    {
     "name": "stderr",
     "output_type": "stream",
     "text": [
      "c:\\users\\a.kraev\\appdata\\local\\programs\\python\\python37-32\\lib\\site-packages\\statsmodels\\base\\model.py:568: ConvergenceWarning: Maximum Likelihood optimization failed to converge. Check mle_retvals\n",
      "  \"Check mle_retvals\", ConvergenceWarning)\n"
     ]
    },
    {
     "name": "stdout",
     "output_type": "stream",
     "text": [
      "ARIMA(2, 2, 1)x(1, 0, 2, 12)3 - AIC:3065.4017482176087\n",
      "ARIMA(2, 2, 1)x(1, 1, 0, 12)3 - AIC:3105.769169960422\n",
      "ARIMA(2, 2, 1)x(1, 1, 1, 12)3 - AIC:3083.0050525744937\n",
      "ARIMA(2, 2, 1)x(1, 1, 2, 12)3 - AIC:2881.396953430719\n",
      "ARIMA(2, 2, 2)x(1, 0, 0, 12)3 - AIC:3347.0160465691706\n",
      "ARIMA(2, 2, 2)x(1, 0, 1, 12)3 - AIC:3319.7777724934076\n"
     ]
    },
    {
     "name": "stderr",
     "output_type": "stream",
     "text": [
      "c:\\users\\a.kraev\\appdata\\local\\programs\\python\\python37-32\\lib\\site-packages\\statsmodels\\base\\model.py:568: ConvergenceWarning: Maximum Likelihood optimization failed to converge. Check mle_retvals\n",
      "  \"Check mle_retvals\", ConvergenceWarning)\n"
     ]
    },
    {
     "name": "stdout",
     "output_type": "stream",
     "text": [
      "ARIMA(2, 2, 2)x(1, 0, 2, 12)3 - AIC:3095.14340638755\n",
      "ARIMA(2, 2, 2)x(1, 1, 0, 12)3 - AIC:3121.6356844156962\n",
      "ARIMA(2, 2, 2)x(1, 1, 1, 12)3 - AIC:3067.9856589416668\n"
     ]
    },
    {
     "name": "stderr",
     "output_type": "stream",
     "text": [
      "c:\\users\\a.kraev\\appdata\\local\\programs\\python\\python37-32\\lib\\site-packages\\statsmodels\\base\\model.py:568: ConvergenceWarning: Maximum Likelihood optimization failed to converge. Check mle_retvals\n",
      "  \"Check mle_retvals\", ConvergenceWarning)\n"
     ]
    },
    {
     "name": "stdout",
     "output_type": "stream",
     "text": [
      "ARIMA(2, 2, 2)x(1, 1, 2, 12)3 - AIC:2857.172401092563\n",
      "**************************************************\n",
      "ARIMA (0, 1, 2) x (1, 1, 2, 12) 3 - AIC:2818.395758422374\n"
     ]
    }
   ],
   "source": [
    "import warnings\n",
    "\n",
    "min_aic = None\n",
    "param_optimal = None\n",
    "param_seasonal_optimal = None\n",
    "\n",
    "warnings.filterwarnings(\"ignore\") # отключает предупреждения\n",
    "for param in pdq:\n",
    "    for param_seasonal in seasonal_pdq:\n",
    "        try:\n",
    "            mod = sm.tsa.statespace.SARIMAX(data_m['PJME_MW'].values,\n",
    "                                            order=param,\n",
    "                                    seasonal_order=param_seasonal ,\n",
    "                                    enforce_stationarity=False,\n",
    "                                    enforce_invertibility=False)\n",
    "\n",
    "            results = mod.fit()\n",
    "            print('ARIMA{}x{}3 - AIC:{}'.format(param, param_seasonal, results.aic))\n",
    "            if not min_aic or min_aic > results.aic:\n",
    "                min_aic = results.aic\n",
    "                param_optimal = param\n",
    "                param_seasonal_optimal = param_seasonal                \n",
    "        except:\n",
    "            continue\n",
    "            \n",
    "            \n",
    "print('*' * 50)\n",
    "print('ARIMA {} x {} 3 - AIC:{}'.format(param_optimal, param_seasonal_optimal, min_aic))"
   ]
  },
  {
   "cell_type": "markdown",
   "metadata": {},
   "source": [
    "3. Сделайте вывод о том, как изменилась модель по сравнению с недельной."
   ]
  },
  {
   "cell_type": "code",
   "execution_count": 9,
   "metadata": {},
   "outputs": [],
   "source": [
    "mod = sm.tsa.statespace.SARIMAX(data_m['PJME_MW'].values[:-12],\n",
    "                                    order=param_optimal,\n",
    "                                    seasonal_order=param_seasonal_optimal,\n",
    "                                    enforce_stationarity=False,\n",
    "                                    enforce_invertibility=False)"
   ]
  },
  {
   "cell_type": "code",
   "execution_count": 10,
   "metadata": {},
   "outputs": [
    {
     "name": "stdout",
     "output_type": "stream",
     "text": [
      "AIC:{} 2606.3201809786383\n"
     ]
    }
   ],
   "source": [
    "results_opt = mod.fit()\n",
    "print('AIC:{}',results_opt.aic)"
   ]
  },
  {
   "cell_type": "code",
   "execution_count": 11,
   "metadata": {},
   "outputs": [
    {
     "data": {
      "image/png": "[encoded data removed]",
      "text/plain": [
       "<Figure size 432x288 with 1 Axes>"
      ]
     },
     "metadata": {
      "needs_background": "light"
     },
     "output_type": "display_data"
    }
   ],
   "source": [
    "plt.plot(results_opt.forecast(13), \"g\", label=\"predict_opt\")\n",
    "plt.plot(data_m[\"PJME_MW\"].values[-12:], \"or\", label=\"true\")\n",
    "plt.title(\"Предсказание последних точек ряда и следующих точек ряда\")\n",
    "plt.legend()\n",
    "\n",
    "plt.show()"
   ]
  },
  {
   "cell_type": "markdown",
   "metadata": {},
   "source": [
    "Недельный аик 7316, месячный 2606. Получается месячная модель лучше недельной."
   ]
  },
  {
   "cell_type": "markdown",
   "metadata": {},
   "source": [
    "4. Возмите вариант 1 или 2 \n",
    "    - Вариант 1) - Постройте ACF, PACF и модель ARIMA для BRENT (недельный ресемплинг)"
   ]
  },
  {
   "cell_type": "code",
   "execution_count": 18,
   "metadata": {},
   "outputs": [
    {
     "data": {
      "text/html": [
       "<div>\n",
       "<style scoped>\n",
       "    .dataframe tbody tr th:only-of-type {\n",
       "        vertical-align: middle;\n",
       "    }\n",
       "\n",
       "    .dataframe tbody tr th {\n",
       "        vertical-align: top;\n",
       "    }\n",
       "\n",
       "    .dataframe thead th {\n",
       "        text-align: right;\n",
       "    }\n",
       "</style>\n",
       "<table border=\"1\" class=\"dataframe\">\n",
       "  <thead>\n",
       "    <tr style=\"text-align: right;\">\n",
       "      <th></th>\n",
       "      <th>Значение</th>\n",
       "      <th>year</th>\n",
       "      <th>month</th>\n",
       "      <th>dayofmonth</th>\n",
       "      <th>quarter</th>\n",
       "      <th>dayofyear</th>\n",
       "      <th>weekofyear</th>\n",
       "      <th>dayofweek</th>\n",
       "      <th>is_holiday</th>\n",
       "      <th>is_prev_holiday</th>\n",
       "      <th>is_next_holiday</th>\n",
       "    </tr>\n",
       "    <tr>\n",
       "      <th>Дата</th>\n",
       "      <th></th>\n",
       "      <th></th>\n",
       "      <th></th>\n",
       "      <th></th>\n",
       "      <th></th>\n",
       "      <th></th>\n",
       "      <th></th>\n",
       "      <th></th>\n",
       "      <th></th>\n",
       "      <th></th>\n",
       "      <th></th>\n",
       "    </tr>\n",
       "  </thead>\n",
       "  <tbody>\n",
       "    <tr>\n",
       "      <th>2010-09-01</th>\n",
       "      <td>76.37</td>\n",
       "      <td>2010</td>\n",
       "      <td>9</td>\n",
       "      <td>1</td>\n",
       "      <td>3</td>\n",
       "      <td>244</td>\n",
       "      <td>35</td>\n",
       "      <td>2</td>\n",
       "      <td>0</td>\n",
       "      <td>0</td>\n",
       "      <td>0</td>\n",
       "    </tr>\n",
       "    <tr>\n",
       "      <th>2010-09-02</th>\n",
       "      <td>76.89</td>\n",
       "      <td>2010</td>\n",
       "      <td>9</td>\n",
       "      <td>2</td>\n",
       "      <td>3</td>\n",
       "      <td>245</td>\n",
       "      <td>35</td>\n",
       "      <td>3</td>\n",
       "      <td>0</td>\n",
       "      <td>0</td>\n",
       "      <td>0</td>\n",
       "    </tr>\n",
       "    <tr>\n",
       "      <th>2010-09-03</th>\n",
       "      <td>76.57</td>\n",
       "      <td>2010</td>\n",
       "      <td>9</td>\n",
       "      <td>3</td>\n",
       "      <td>3</td>\n",
       "      <td>246</td>\n",
       "      <td>35</td>\n",
       "      <td>4</td>\n",
       "      <td>0</td>\n",
       "      <td>0</td>\n",
       "      <td>0</td>\n",
       "    </tr>\n",
       "    <tr>\n",
       "      <th>2010-09-04</th>\n",
       "      <td>76.62</td>\n",
       "      <td>2010</td>\n",
       "      <td>9</td>\n",
       "      <td>4</td>\n",
       "      <td>3</td>\n",
       "      <td>247</td>\n",
       "      <td>35</td>\n",
       "      <td>5</td>\n",
       "      <td>0</td>\n",
       "      <td>0</td>\n",
       "      <td>0</td>\n",
       "    </tr>\n",
       "    <tr>\n",
       "      <th>2010-09-05</th>\n",
       "      <td>76.63</td>\n",
       "      <td>2010</td>\n",
       "      <td>9</td>\n",
       "      <td>5</td>\n",
       "      <td>3</td>\n",
       "      <td>248</td>\n",
       "      <td>35</td>\n",
       "      <td>6</td>\n",
       "      <td>0</td>\n",
       "      <td>1</td>\n",
       "      <td>0</td>\n",
       "    </tr>\n",
       "  </tbody>\n",
       "</table>\n",
       "</div>"
      ],
      "text/plain": [
       "            Значение  year  month  dayofmonth  quarter  dayofyear  weekofyear  \\\n",
       "Дата                                                                            \n",
       "2010-09-01     76.37  2010      9           1        3        244          35   \n",
       "2010-09-02     76.89  2010      9           2        3        245          35   \n",
       "2010-09-03     76.57  2010      9           3        3        246          35   \n",
       "2010-09-04     76.62  2010      9           4        3        247          35   \n",
       "2010-09-05     76.63  2010      9           5        3        248          35   \n",
       "\n",
       "            dayofweek  is_holiday  is_prev_holiday  is_next_holiday  \n",
       "Дата                                                                 \n",
       "2010-09-01          2           0                0                0  \n",
       "2010-09-02          3           0                0                0  \n",
       "2010-09-03          4           0                0                0  \n",
       "2010-09-04          5           0                0                0  \n",
       "2010-09-05          6           0                1                0  "
      ]
     },
     "execution_count": 18,
     "metadata": {},
     "output_type": "execute_result"
    }
   ],
   "source": [
    "brent_data = pd.read_csv('my_BRENT2019.csv', sep = ',', index_col=[0], parse_dates=[0])\n",
    "brent_data.head()"
   ]
  },
  {
   "cell_type": "code",
   "execution_count": 23,
   "metadata": {},
   "outputs": [
    {
     "data": {
      "text/html": [
       "<div>\n",
       "<style scoped>\n",
       "    .dataframe tbody tr th:only-of-type {\n",
       "        vertical-align: middle;\n",
       "    }\n",
       "\n",
       "    .dataframe tbody tr th {\n",
       "        vertical-align: top;\n",
       "    }\n",
       "\n",
       "    .dataframe thead th {\n",
       "        text-align: right;\n",
       "    }\n",
       "</style>\n",
       "<table border=\"1\" class=\"dataframe\">\n",
       "  <thead>\n",
       "    <tr style=\"text-align: right;\">\n",
       "      <th></th>\n",
       "      <th>Значение</th>\n",
       "    </tr>\n",
       "    <tr>\n",
       "      <th>Дата</th>\n",
       "      <th></th>\n",
       "    </tr>\n",
       "  </thead>\n",
       "  <tbody>\n",
       "    <tr>\n",
       "      <th>2010-09-05</th>\n",
       "      <td>76.616000</td>\n",
       "    </tr>\n",
       "    <tr>\n",
       "      <th>2010-09-12</th>\n",
       "      <td>77.673333</td>\n",
       "    </tr>\n",
       "    <tr>\n",
       "      <th>2010-09-19</th>\n",
       "      <td>78.693333</td>\n",
       "    </tr>\n",
       "    <tr>\n",
       "      <th>2010-09-26</th>\n",
       "      <td>78.518333</td>\n",
       "    </tr>\n",
       "    <tr>\n",
       "      <th>2010-10-03</th>\n",
       "      <td>81.211667</td>\n",
       "    </tr>\n",
       "  </tbody>\n",
       "</table>\n",
       "</div>"
      ],
      "text/plain": [
       "             Значение\n",
       "Дата                 \n",
       "2010-09-05  76.616000\n",
       "2010-09-12  77.673333\n",
       "2010-09-19  78.693333\n",
       "2010-09-26  78.518333\n",
       "2010-10-03  81.211667"
      ]
     },
     "execution_count": 23,
     "metadata": {},
     "output_type": "execute_result"
    }
   ],
   "source": [
    "brent_data_w = brent_data[[\"Значение\"]].resample('W').mean().sort_index()\n",
    "brent_data_w.head()"
   ]
  },
  {
   "cell_type": "code",
   "execution_count": 24,
   "metadata": {},
   "outputs": [
    {
     "data": {
      "image/png": "[encoded data removed]",
      "text/plain": [
       "<Figure size 1008x504 with 1 Axes>"
      ]
     },
     "metadata": {
      "needs_background": "light"
     },
     "output_type": "display_data"
    }
   ],
   "source": [
    "plt.figure(figsize=(14, 7))\n",
    "\n",
    "plt.plot(brent_data_w.index, brent_data_w[\"Значение\"], '-', label='неделя')\n",
    "plt.plot(brent_data.index, brent_data[\"Значение\"], '-', label='main')\n",
    "plt.legend()\n",
    "\n",
    "plt.title('Стоимость нефти BRENT')\n",
    "plt.ylabel('USD')\n",
    "\n",
    "\n",
    "plt.show()"
   ]
  },
  {
   "cell_type": "code",
   "execution_count": 28,
   "metadata": {},
   "outputs": [
    {
     "data": {
      "image/png": "[encoded data removed]",
      "text/plain": [
       "<Figure size 432x288 with 1 Axes>"
      ]
     },
     "metadata": {
      "needs_background": "light"
     },
     "output_type": "display_data"
    },
    {
     "data": {
      "image/png": "[encoded data removed]",
      "text/plain": [
       "<Figure size 432x288 with 1 Axes>"
      ]
     },
     "metadata": {
      "needs_background": "light"
     },
     "output_type": "display_data"
    }
   ],
   "source": [
    "sm.graphics.tsa.plot_acf(brent_data_w['Значение'].values, lags=24)\n",
    "plt.show()\n",
    "\n",
    "sm.graphics.tsa.plot_pacf(brent_data_w['Значение'].values, lags=24)\n",
    "plt.show()"
   ]
  },
  {
   "cell_type": "code",
   "execution_count": 26,
   "metadata": {},
   "outputs": [
    {
     "data": {
      "image/png": "[encoded data removed]",
      "text/plain": [
       "<Figure size 432x288 with 1 Axes>"
      ]
     },
     "metadata": {
      "needs_background": "light"
     },
     "output_type": "display_data"
    },
    {
     "data": {
      "image/png": "[encoded data removed]",
      "text/plain": [
       "<Figure size 432x288 with 1 Axes>"
      ]
     },
     "metadata": {
      "needs_background": "light"
     },
     "output_type": "display_data"
    }
   ],
   "source": [
    "sm.graphics.tsa.plot_acf(brent_data['Значение'].values, lags=24)\n",
    "plt.show()\n",
    "\n",
    "sm.graphics.tsa.plot_pacf(brent_data['Значение'].values, lags=24)\n",
    "plt.show()"
   ]
  },
  {
   "cell_type": "code",
   "execution_count": 29,
   "metadata": {},
   "outputs": [],
   "source": [
    "p = d = q = range(0, 3)\n",
    "# зададим сетку p, q и q\n",
    "pdq = list(itertools.product(p, d, q))"
   ]
  },
  {
   "cell_type": "code",
   "execution_count": 37,
   "metadata": {},
   "outputs": [
    {
     "name": "stdout",
     "output_type": "stream",
     "text": [
      "ARIMA(0, 0, 0)x[0, 0, 0, 0]3 - AIC:5488.563364748504\n",
      "ARIMA(0, 0, 1)x[0, 0, 0, 0]3 - AIC:4848.983257279206\n",
      "ARIMA(0, 0, 2)x[0, 0, 0, 0]3 - AIC:4280.939076904093\n",
      "ARIMA(0, 1, 0)x[0, 0, 0, 0]3 - AIC:2084.993293803819\n",
      "ARIMA(0, 1, 1)x[0, 0, 0, 0]3 - AIC:2024.0058968421422\n",
      "ARIMA(0, 1, 2)x[0, 0, 0, 0]3 - AIC:2022.3981917504498\n",
      "ARIMA(0, 2, 0)x[0, 0, 0, 0]3 - AIC:2215.8998924339066\n",
      "ARIMA(0, 2, 1)x[0, 0, 0, 0]3 - AIC:2079.357454778403\n",
      "ARIMA(0, 2, 2)x[0, 0, 0, 0]3 - AIC:2022.7974990707926\n",
      "ARIMA(1, 0, 0)x[0, 0, 0, 0]3 - AIC:2090.3481888328515\n",
      "ARIMA(1, 0, 1)x[0, 0, 0, 0]3 - AIC:2029.3129324740744\n",
      "ARIMA(1, 0, 2)x[0, 0, 0, 0]3 - AIC:2027.4755492040806\n",
      "ARIMA(1, 1, 0)x[0, 0, 0, 0]3 - AIC:2031.9122457400244\n",
      "ARIMA(1, 1, 1)x[0, 0, 0, 0]3 - AIC:2025.8734776115537\n",
      "ARIMA(1, 1, 2)x[0, 0, 0, 0]3 - AIC:2022.092682970546\n",
      "ARIMA(1, 2, 0)x[0, 0, 0, 0]3 - AIC:2181.245565902427\n",
      "ARIMA(1, 2, 1)x[0, 0, 0, 0]3 - AIC:2032.4524119110074\n",
      "ARIMA(1, 2, 2)x[0, 0, 0, 0]3 - AIC:2024.7683693284687\n",
      "ARIMA(2, 0, 0)x[0, 0, 0, 0]3 - AIC:2033.5728493090467\n",
      "ARIMA(2, 0, 1)x[0, 0, 0, 0]3 - AIC:2031.1245842560695\n",
      "ARIMA(2, 0, 2)x[0, 0, 0, 0]3 - AIC:2028.0855016719927\n",
      "ARIMA(2, 1, 0)x[0, 0, 0, 0]3 - AIC:2026.8729080057508\n",
      "ARIMA(2, 1, 1)x[0, 0, 0, 0]3 - AIC:2027.2069640995844\n",
      "ARIMA(2, 1, 2)x[0, 0, 0, 0]3 - AIC:2024.1578666556888\n",
      "ARIMA(2, 2, 0)x[0, 0, 0, 0]3 - AIC:2128.995313349733\n",
      "ARIMA(2, 2, 1)x[0, 0, 0, 0]3 - AIC:2031.4007946625104\n",
      "ARIMA(2, 2, 2)x[0, 0, 0, 0]3 - AIC:2026.2468054116152\n",
      "**************************************************\n",
      "ARIMA (1, 1, 2) x [0, 0, 0, 0] 3 - AIC:2022.092682970546\n"
     ]
    }
   ],
   "source": [
    "import warnings\n",
    "\n",
    "min_aic = None\n",
    "param_optimal = None\n",
    "param_seasonal= [0, 0, 0, 0]\n",
    "\n",
    "warnings.filterwarnings(\"ignore\") # отключает предупреждения\n",
    "\n",
    "for param in pdq:\n",
    "    try:\n",
    "        mod = sm.tsa.statespace.SARIMAX(brent_data_w['Значение'].values,\n",
    "                                order=param,\n",
    "                                seasonal_order=param_seasonal,\n",
    "                                enforce_stationarity=False,\n",
    "                                enforce_invertibility=False)\n",
    "\n",
    "        results = mod.fit()\n",
    "        print('ARIMA{}x{}3 - AIC:{}'.format(param, param_seasonal, results.aic))\n",
    "        if not min_aic or min_aic > results.aic:\n",
    "            min_aic = results.aic\n",
    "            param_optimal = param              \n",
    "    except:\n",
    "        continue\n",
    "        \n",
    "print('*' * 50)\n",
    "print('ARIMA {} x {} 3 - AIC:{}'.format(param_optimal, param_seasonal, min_aic))"
   ]
  },
  {
   "cell_type": "code",
   "execution_count": 44,
   "metadata": {},
   "outputs": [
    {
     "name": "stdout",
     "output_type": "stream",
     "text": [
      "AIC: 3095.390125046647\n"
     ]
    }
   ],
   "source": [
    "mod = sm.tsa.statespace.SARIMAX(data_m['PJME_MW'].values[:-30],\n",
    "                                    order=param_optimal,\n",
    "                                    seasonal_order=[0, 0, 0, 0],\n",
    "                                    enforce_stationarity=False,\n",
    "                                    enforce_invertibility=False)\n",
    "results_opt = mod.fit()\n",
    "print('AIC:',results_opt.aic)"
   ]
  },
  {
   "cell_type": "code",
   "execution_count": 50,
   "metadata": {},
   "outputs": [
    {
     "data": {
      "image/png": "[encoded data removed]",
      "text/plain": [
       "<Figure size 432x288 with 1 Axes>"
      ]
     },
     "metadata": {
      "needs_background": "light"
     },
     "output_type": "display_data"
    }
   ],
   "source": [
    "plt.plot(results_opt.forecast(60), \"g\", label=\"predict_opt\")\n",
    "plt.plot(data_m[\"PJME_MW\"].values[-30:], \"or\", label=\"true\")\n",
    "\n",
    "\n",
    "plt.title(\"Предсказание последних точек ряда и следующих точек ряда\")\n",
    "plt.legend()\n",
    "\n",
    "plt.show()"
   ]
  },
  {
   "cell_type": "code",
   "execution_count": 46,
   "metadata": {},
   "outputs": [
    {
     "name": "stdout",
     "output_type": "stream",
     "text": [
      "                               SARIMAX Results                                \n",
      "==============================================================================\n",
      "Dep. Variable:                      y   No. Observations:                  170\n",
      "Model:               SARIMAX(1, 1, 2)   Log Likelihood               -1543.695\n",
      "Date:                Mon, 03 Aug 2020   AIC                           3095.390\n",
      "Time:                        17:20:41   BIC                           3107.838\n",
      "Sample:                             0   HQIC                          3100.443\n",
      "                                - 170                                         \n",
      "Covariance Type:                  opg                                         \n",
      "============================================================================== ==============================================================================\n",
      "                 coef    std err          z      P>|z|      [0.025      0.975]\n",
      "------------------------------------------------------------------------------\n",
      "ar.L1          0.2275      0.096      2.375      0.018       0.040       0.415\n",
      "ma.L1         -0.4065      0.120     -3.375      0.001      -0.643      -0.170\n",
      "ma.L2         -0.5766      0.123     -4.683      0.000      -0.818      -0.335\n",
      "sigma2      8.506e+06   1.39e+06      6.109      0.000    5.78e+06    1.12e+07\n",
      "==============================================================================\n"
     ]
    }
   ],
   "source": [
    "print(results_opt.summary().tables[0],results_opt.summary().tables[1])"
   ]
  },
  {
   "cell_type": "code",
   "execution_count": 47,
   "metadata": {},
   "outputs": [
    {
     "data": {
      "image/png": "[encoded data removed]",
      "text/plain": [
       "<Figure size 1080x864 with 4 Axes>"
      ]
     },
     "metadata": {
      "needs_background": "light"
     },
     "output_type": "display_data"
    }
   ],
   "source": [
    "results_opt.plot_diagnostics(figsize=(15, 12))\n",
    "plt.show()"
   ]
  },
  {
   "cell_type": "markdown",
   "metadata": {},
   "source": [
    "5. Оцените результат моделирования"
   ]
  },
  {
   "cell_type": "markdown",
   "metadata": {},
   "source": [
    "ARIMA предсказала направление движения, но не предсказала скачки цены. "
   ]
  },
  {
   "cell_type": "code",
   "execution_count": 51,
   "metadata": {},
   "outputs": [
    {
     "ename": "SyntaxError",
     "evalue": "invalid syntax (<ipython-input-51-222835254c2b>, line 1)",
     "output_type": "error",
     "traceback": [
      "\u001b[1;36m  File \u001b[1;32m\"<ipython-input-51-222835254c2b>\"\u001b[1;36m, line \u001b[1;32m1\u001b[0m\n\u001b[1;33m    6. Сделайте предположение о моделях, которые лучше работают с техниками регрессии  на основе AR I MA.\u001b[0m\n\u001b[1;37m              ^\u001b[0m\n\u001b[1;31mSyntaxError\u001b[0m\u001b[1;31m:\u001b[0m invalid syntax\n"
     ]
    }
   ],
   "source": [
    "6. Сделайте предположение о моделях, которые лучше работают с техниками регрессии  на основе AR I MA."
   ]
  },
  {
   "cell_type": "markdown",
   "metadata": {},
   "source": [
    "ARIMA лучше работает с рядами, где есть сезон"
   ]
  },
  {
   "cell_type": "code",
   "execution_count": null,
   "metadata": {},
   "outputs": [],
   "source": []
  }
 ],
 "metadata": {
  "kernelspec": {
   "display_name": "Python 3",
   "language": "python",
   "name": "python3"
  },
  "language_info": {
   "codemirror_mode": {
    "name": "ipython",
    "version": 3
   },
   "file_extension": ".py",
   "mimetype": "text/x-python",
   "name": "python",
   "nbconvert_exporter": "python",
   "pygments_lexer": "ipython3",
   "version": "3.7.3"
  }
 },
 "nbformat": 4,
 "nbformat_minor": 4
}
